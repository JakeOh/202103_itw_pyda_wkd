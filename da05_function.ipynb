{
  "nbformat": 4,
  "nbformat_minor": 0,
  "metadata": {
    "colab": {
      "name": "da05_function.ipynb",
      "provenance": [],
      "collapsed_sections": [],
      "authorship_tag": "ABX9TyMKpZT3/lsmfenfy93NSIas",
      "include_colab_link": true
    },
    "kernelspec": {
      "name": "python3",
      "display_name": "Python 3"
    }
  },
  "cells": [
    {
      "cell_type": "markdown",
      "metadata": {
        "id": "view-in-github",
        "colab_type": "text"
      },
      "source": [
        "<a href=\"https://colab.research.google.com/github/JakeOh/202103_itw_pyda_wkd/blob/main/da05_function.ipynb\" target=\"_parent\"><img src=\"https://colab.research.google.com/assets/colab-badge.svg\" alt=\"Open In Colab\"/></a>"
      ]
    },
    {
      "cell_type": "markdown",
      "metadata": {
        "id": "AMlFIETAMU4a"
      },
      "source": [
        "# Function(함수)"
      ]
    },
    {
      "cell_type": "markdown",
      "metadata": {
        "id": "liotkCiKkjH_"
      },
      "source": [
        "**함수(Function)**\r\n",
        "\r\n",
        "*   자주 사용되는 기능들을 작성한 코드 블록.\r\n",
        "*   자료를 입력받아서 기능을 수행한 후 결과를 반환하는 코드 블록.\r\n",
        "*   **argument**: 인수. 함수를 호출(사용)할 때 함수에게 전달하는 값(들).\r\n",
        "*   **parameter**: 파라미터. 매개변수. argument를 저장하기 위해서 함수를 정의할 때 선언하는 변수.\r\n"
      ]
    },
    {
      "cell_type": "code",
      "metadata": {
        "colab": {
          "base_uri": "https://localhost:8080/"
        },
        "id": "nbxwPkNSkd3Z",
        "outputId": "0dde2201-bb99-415a-9ffc-f4fe99a441c8"
      },
      "source": [
        "print('hello')"
      ],
      "execution_count": 1,
      "outputs": [
        {
          "output_type": "stream",
          "text": [
            "hello\n"
          ],
          "name": "stdout"
        }
      ]
    },
    {
      "cell_type": "code",
      "metadata": {
        "colab": {
          "base_uri": "https://localhost:8080/"
        },
        "id": "hKQuB7ffmLoW",
        "outputId": "a5a15397-69db-4f24-e19e-e86e43ab070a"
      },
      "source": [
        "sum([1, 2, 3])"
      ],
      "execution_count": 2,
      "outputs": [
        {
          "output_type": "execute_result",
          "data": {
            "text/plain": [
              "6"
            ]
          },
          "metadata": {
            "tags": []
          },
          "execution_count": 2
        }
      ]
    },
    {
      "cell_type": "markdown",
      "metadata": {
        "id": "hzrksr2pnip3"
      },
      "source": [
        "함수 정의 방법\r\n",
        "\r\n",
        "```\r\n",
        "def function_name([param1, param2, ...]):\r\n",
        "    함수가 수행해야 할 코드(들)\r\n",
        "    [return 반환값]\r\n",
        "```\r\n"
      ]
    },
    {
      "cell_type": "code",
      "metadata": {
        "id": "lvKgFQw4m5v8"
      },
      "source": [
        "# 함수 정의(definition), 선언(declaration)\r\n",
        "def sum_of_list(iterable):\r\n",
        "    s = 0\r\n",
        "    for x in iterable:\r\n",
        "        s += x\r\n",
        "\r\n",
        "    return s"
      ],
      "execution_count": 4,
      "outputs": []
    },
    {
      "cell_type": "code",
      "metadata": {
        "colab": {
          "base_uri": "https://localhost:8080/"
        },
        "id": "y0fmg_9vo4pk",
        "outputId": "edc512a9-e14a-4ac3-8254-4a1029f5f00d"
      },
      "source": [
        "# 함수 사용, 호출(call, invoke)\r\n",
        "sum_of_list([1, 2, 3])"
      ],
      "execution_count": 5,
      "outputs": [
        {
          "output_type": "execute_result",
          "data": {
            "text/plain": [
              "6"
            ]
          },
          "metadata": {
            "tags": []
          },
          "execution_count": 5
        }
      ]
    },
    {
      "cell_type": "markdown",
      "metadata": {
        "id": "nEr7uivOrDCo"
      },
      "source": [
        "함수를 호출할 때, 함수에 argument를 전달하는 방법:\r\n",
        "\r\n",
        "*   positional argument: 함수에 파라미터가 선언된 순서대로 argument를 전달하는 방법.\r\n",
        "*   keyword argument: param=argument 형식으로 값들을 전달하는 방법.\r\n"
      ]
    },
    {
      "cell_type": "code",
      "metadata": {
        "id": "9rwbMCiUrtVY"
      },
      "source": [
        "def minus(x, y):\r\n",
        "    \"\"\"숫자 2개(x, y)를 전달받아서, x - y를 반환하는 함수.\r\n",
        "    \"\"\"\r\n",
        "    return x - y"
      ],
      "execution_count": 6,
      "outputs": []
    },
    {
      "cell_type": "code",
      "metadata": {
        "colab": {
          "base_uri": "https://localhost:8080/"
        },
        "id": "eXENgJjJsLY3",
        "outputId": "3ca1fc45-1c3f-49cd-fdd1-c73c8a3cda45"
      },
      "source": [
        "minus(20, 10)  # postional argument"
      ],
      "execution_count": 8,
      "outputs": [
        {
          "output_type": "execute_result",
          "data": {
            "text/plain": [
              "10"
            ]
          },
          "metadata": {
            "tags": []
          },
          "execution_count": 8
        }
      ]
    },
    {
      "cell_type": "code",
      "metadata": {
        "colab": {
          "base_uri": "https://localhost:8080/"
        },
        "id": "qTZdMX4osn7y",
        "outputId": "e7167be5-5f0d-4e49-ca9b-398e93532dd9"
      },
      "source": [
        "minus(y=10, x=100)  # keyword argument"
      ],
      "execution_count": 11,
      "outputs": [
        {
          "output_type": "execute_result",
          "data": {
            "text/plain": [
              "90"
            ]
          },
          "metadata": {
            "tags": []
          },
          "execution_count": 11
        }
      ]
    },
    {
      "cell_type": "markdown",
      "metadata": {
        "id": "pBw1rlCk91xJ"
      },
      "source": [
        "*   함수를 정의(선언)할 때 파라미터의 기본값(default argument)을 설정할 수 있음.\r\n",
        "*   default argument를 갖는 파라미터는 함수를 호출할 때 값을 전달해도 되고, 전달하지 않아도 됨.\r\n",
        "    *   함수 호출 시 값을 전달하면, default argument는 무시되고 전달된 값이 사용됨.\r\n",
        "    *   함수 호출 시 값을 전달하지 않으면, default argument가 사용됨."
      ]
    },
    {
      "cell_type": "code",
      "metadata": {
        "id": "SSH9d06N-sF2"
      },
      "source": [
        "def print_message(msg, repeat=1):\r\n",
        "    print(msg * repeat)"
      ],
      "execution_count": 12,
      "outputs": []
    },
    {
      "cell_type": "code",
      "metadata": {
        "colab": {
          "base_uri": "https://localhost:8080/"
        },
        "id": "HB7I-54J_HDZ",
        "outputId": "e8c05cbc-3e61-42a7-f7ff-41e2bfc82579"
      },
      "source": [
        "print_message('Hello!')"
      ],
      "execution_count": 13,
      "outputs": [
        {
          "output_type": "stream",
          "text": [
            "Hello!\n"
          ],
          "name": "stdout"
        }
      ]
    },
    {
      "cell_type": "code",
      "metadata": {
        "colab": {
          "base_uri": "https://localhost:8080/"
        },
        "id": "LdiIy_3t_Nzj",
        "outputId": "64aa9507-5101-4a0b-c97a-4cd3b1f2fb01"
      },
      "source": [
        "print_message('Hello!', 5)"
      ],
      "execution_count": 14,
      "outputs": [
        {
          "output_type": "stream",
          "text": [
            "Hello!Hello!Hello!Hello!Hello!\n"
          ],
          "name": "stdout"
        }
      ]
    },
    {
      "cell_type": "code",
      "metadata": {
        "colab": {
          "base_uri": "https://localhost:8080/"
        },
        "id": "9QjkPAXP_kX2",
        "outputId": "334883da-46cd-4f43-eb59-95abd2b26f3a"
      },
      "source": [
        "print_message(repeat=5, msg='Python')"
      ],
      "execution_count": 18,
      "outputs": [
        {
          "output_type": "stream",
          "text": [
            "PythonPythonPythonPythonPython\n"
          ],
          "name": "stdout"
        }
      ]
    },
    {
      "cell_type": "markdown",
      "metadata": {
        "id": "YsO75-d8AvEs"
      },
      "source": [
        "*   가변길이 인수(variable-length argument)\r\n",
        "    *   함수를 호출할 때 전달할 수 있는 argument의 개수가 일정하지 않고 변할 수 있는 것.\r\n",
        "    *   함수를 정의할 때 파라미터 이름 앞에 *가 있으면 가변길이 인수.\r\n",
        "    *   함수 내부에서 가변길이 인수는 tuple로 간주."
      ]
    },
    {
      "cell_type": "code",
      "metadata": {
        "colab": {
          "base_uri": "https://localhost:8080/"
        },
        "id": "gVMk6yI6AXXy",
        "outputId": "300d02b7-c05e-46f6-a3f1-e8fcd85353e7"
      },
      "source": [
        "print()"
      ],
      "execution_count": 21,
      "outputs": [
        {
          "output_type": "stream",
          "text": [
            "\n"
          ],
          "name": "stdout"
        }
      ]
    },
    {
      "cell_type": "code",
      "metadata": {
        "colab": {
          "base_uri": "https://localhost:8080/"
        },
        "id": "xoIWj_wJBi-r",
        "outputId": "a9f2f963-0920-4a21-9e21-1f09dd7e4c23"
      },
      "source": [
        "print('hello')"
      ],
      "execution_count": 22,
      "outputs": [
        {
          "output_type": "stream",
          "text": [
            "hello\n"
          ],
          "name": "stdout"
        }
      ]
    },
    {
      "cell_type": "code",
      "metadata": {
        "colab": {
          "base_uri": "https://localhost:8080/"
        },
        "id": "D26MRDPFBxT7",
        "outputId": "3253a855-18ea-45e7-c470-5fb6a8f21a2a"
      },
      "source": [
        "print('x =', 2, 'y =', 3)"
      ],
      "execution_count": 23,
      "outputs": [
        {
          "output_type": "stream",
          "text": [
            "x = 2 y = 3\n"
          ],
          "name": "stdout"
        }
      ]
    },
    {
      "cell_type": "code",
      "metadata": {
        "id": "CUJvxLsnCC_r"
      },
      "source": [
        "def add_all(*values):\r\n",
        "    print('add_all 함수 내부:', values)\r\n",
        "    total = 0\r\n",
        "    for x in values:\r\n",
        "        total += x\r\n",
        "\r\n",
        "    return total"
      ],
      "execution_count": 26,
      "outputs": []
    },
    {
      "cell_type": "code",
      "metadata": {
        "colab": {
          "base_uri": "https://localhost:8080/"
        },
        "id": "ORH6g6DPCZuw",
        "outputId": "6e897c6d-b37c-46cf-8c44-7749bea4bc8c"
      },
      "source": [
        "add_all()"
      ],
      "execution_count": 27,
      "outputs": [
        {
          "output_type": "stream",
          "text": [
            "add_all 함수 내부: ()\n"
          ],
          "name": "stdout"
        },
        {
          "output_type": "execute_result",
          "data": {
            "text/plain": [
              "0"
            ]
          },
          "metadata": {
            "tags": []
          },
          "execution_count": 27
        }
      ]
    },
    {
      "cell_type": "code",
      "metadata": {
        "colab": {
          "base_uri": "https://localhost:8080/"
        },
        "id": "JjDPG6jvDWLc",
        "outputId": "c29c8ff1-fb3b-48fd-a91e-68167e43d6a3"
      },
      "source": [
        "add_all(1)"
      ],
      "execution_count": 28,
      "outputs": [
        {
          "output_type": "stream",
          "text": [
            "add_all 함수 내부: (1,)\n"
          ],
          "name": "stdout"
        },
        {
          "output_type": "execute_result",
          "data": {
            "text/plain": [
              "1"
            ]
          },
          "metadata": {
            "tags": []
          },
          "execution_count": 28
        }
      ]
    },
    {
      "cell_type": "code",
      "metadata": {
        "colab": {
          "base_uri": "https://localhost:8080/"
        },
        "id": "BI9XpZXoDkdb",
        "outputId": "9d927205-0939-4957-9688-f099c5d22a1b"
      },
      "source": [
        "add_all(1, 3, 5, 7)"
      ],
      "execution_count": 29,
      "outputs": [
        {
          "output_type": "stream",
          "text": [
            "add_all 함수 내부: (1, 3, 5, 7)\n"
          ],
          "name": "stdout"
        },
        {
          "output_type": "execute_result",
          "data": {
            "text/plain": [
              "16"
            ]
          },
          "metadata": {
            "tags": []
          },
          "execution_count": 29
        }
      ]
    },
    {
      "cell_type": "code",
      "metadata": {
        "id": "IrepGw-DD5rN"
      },
      "source": [
        "def calculate(*values, op):\r\n",
        "    total = None\r\n",
        "    if op == '+':\r\n",
        "        total = 0\r\n",
        "        for x in values:\r\n",
        "            total += x\r\n",
        "    elif op == '*':\r\n",
        "        total = 1\r\n",
        "        for x in values:\r\n",
        "            total *= x\r\n",
        "\r\n",
        "    return total"
      ],
      "execution_count": 32,
      "outputs": []
    },
    {
      "cell_type": "code",
      "metadata": {
        "colab": {
          "base_uri": "https://localhost:8080/"
        },
        "id": "2yJoQ6fpEWhi",
        "outputId": "ef960d17-45de-41ec-9c3e-711f131f39a7"
      },
      "source": [
        "calculate(1, 2, 3, 4, 5, op='+')\r\n",
        "# 가변길이 인수 뒤에 선언된 파라미터에 값을 전달할 때는 keyword argument 방식만 가능!"
      ],
      "execution_count": 34,
      "outputs": [
        {
          "output_type": "execute_result",
          "data": {
            "text/plain": [
              "15"
            ]
          },
          "metadata": {
            "tags": []
          },
          "execution_count": 34
        }
      ]
    },
    {
      "cell_type": "code",
      "metadata": {
        "colab": {
          "base_uri": "https://localhost:8080/"
        },
        "id": "yHOYWw5GFH2H",
        "outputId": "0280f97c-f2fc-4e53-d761-be93845c84bc"
      },
      "source": [
        "calculate(1, 2, 3, 4, 5, op='*')"
      ],
      "execution_count": 36,
      "outputs": [
        {
          "output_type": "execute_result",
          "data": {
            "text/plain": [
              "120"
            ]
          },
          "metadata": {
            "tags": []
          },
          "execution_count": 36
        }
      ]
    },
    {
      "cell_type": "markdown",
      "metadata": {
        "id": "r40gvX58GqO9"
      },
      "source": [
        "*   가변길이 키워드 argument\r\n",
        "    *   함수를 정의할 때 파라미터 이름 앞에 **가 사용된 경우\r\n",
        "    *   함수를 호출할 때는 반드시 p1=v1, p2=v2, ... 방식으로 사용.\r\n",
        "    *   전달하는 argument의 개수에는 제한이 없음.\r\n",
        "    *   함수 내부에서 가변길이 keyword argument는 dict 타입으로 간주."
      ]
    },
    {
      "cell_type": "code",
      "metadata": {
        "id": "5H2huG7-GUEt"
      },
      "source": [
        "def make_person(**kwargs):\r\n",
        "    p = {k:v for k, v in kwargs.items()}\r\n",
        "    return p"
      ],
      "execution_count": 37,
      "outputs": []
    },
    {
      "cell_type": "code",
      "metadata": {
        "colab": {
          "base_uri": "https://localhost:8080/"
        },
        "id": "DzOXx3CkIQB7",
        "outputId": "a6859a1f-b9d1-4526-cc71-e3ec4e86a32b"
      },
      "source": [
        "make_person(name='홍길동', age=16)"
      ],
      "execution_count": 38,
      "outputs": [
        {
          "output_type": "execute_result",
          "data": {
            "text/plain": [
              "{'age': 16, 'name': '홍길동'}"
            ]
          },
          "metadata": {
            "tags": []
          },
          "execution_count": 38
        }
      ]
    },
    {
      "cell_type": "code",
      "metadata": {
        "colab": {
          "base_uri": "https://localhost:8080/"
        },
        "id": "8xgy1EpWIcXo",
        "outputId": "dc2514e3-65a7-4bd0-a5c9-04c4bc20330a"
      },
      "source": [
        "make_person(first_name='길동', last_name='홍', age=16)"
      ],
      "execution_count": 39,
      "outputs": [
        {
          "output_type": "execute_result",
          "data": {
            "text/plain": [
              "{'age': 16, 'first_name': '길동', 'last_name': '홍'}"
            ]
          },
          "metadata": {
            "tags": []
          },
          "execution_count": 39
        }
      ]
    },
    {
      "cell_type": "markdown",
      "metadata": {
        "id": "8lGsqPtGME7y"
      },
      "source": [
        "# Class(클래스)"
      ]
    },
    {
      "cell_type": "markdown",
      "metadata": {
        "id": "ORUY6WtDMfEG"
      },
      "source": [
        "*   클래스: 데이터(속성)와 기능(함수)를 함께 가지고 있는 자료 타입\r\n",
        "*   속성(attribute), 특성(property): 클래스 객체가 저장하고 있는 데이터(변수)\r\n",
        "*   메서드(method): 클래스가 가지고 있는 기능(함수)"
      ]
    },
    {
      "cell_type": "code",
      "metadata": {
        "id": "UifVA-0zImXh"
      },
      "source": [
        "numbers = [1, 2, 3]  # list"
      ],
      "execution_count": 40,
      "outputs": []
    },
    {
      "cell_type": "code",
      "metadata": {
        "colab": {
          "base_uri": "https://localhost:8080/"
        },
        "id": "diUfjSdUNMhG",
        "outputId": "c127a530-84f5-4fda-efa2-779bf141b6d5"
      },
      "source": [
        "print(type(numbers))"
      ],
      "execution_count": 41,
      "outputs": [
        {
          "output_type": "stream",
          "text": [
            "<class 'list'>\n"
          ],
          "name": "stdout"
        }
      ]
    },
    {
      "cell_type": "code",
      "metadata": {
        "id": "FLWRbFN9NbyZ"
      },
      "source": [
        "numbers.append(100)  # 메서드 호출"
      ],
      "execution_count": 42,
      "outputs": []
    },
    {
      "cell_type": "code",
      "metadata": {
        "colab": {
          "base_uri": "https://localhost:8080/"
        },
        "id": "H88lSLmANjCu",
        "outputId": "d0afb69b-c1dc-40bc-82d2-8d1fa29d09b9"
      },
      "source": [
        "print(numbers)"
      ],
      "execution_count": 43,
      "outputs": [
        {
          "output_type": "stream",
          "text": [
            "[1, 2, 3, 100]\n"
          ],
          "name": "stdout"
        }
      ]
    },
    {
      "cell_type": "code",
      "metadata": {
        "colab": {
          "base_uri": "https://localhost:8080/"
        },
        "id": "bofZrXbzNohI",
        "outputId": "bb7c1e88-3fce-4f43-c669-0da7892ac012"
      },
      "source": [
        "sum(numbers)  # 함수 호출"
      ],
      "execution_count": 44,
      "outputs": [
        {
          "output_type": "execute_result",
          "data": {
            "text/plain": [
              "106"
            ]
          },
          "metadata": {
            "tags": []
          },
          "execution_count": 44
        }
      ]
    },
    {
      "cell_type": "markdown",
      "metadata": {
        "id": "xvnxsBY4OWbw"
      },
      "source": [
        "Python에서 클래스를 정의하는 방법"
      ]
    },
    {
      "cell_type": "code",
      "metadata": {
        "id": "Z96Y6EEwOUWy"
      },
      "source": [
        "# class 정의\r\n",
        "class MyList:\r\n",
        "    def __init__(self, array):\r\n",
        "        self.array = array\r\n",
        "\r\n",
        "    def total(self):\r\n",
        "        return sum(self.array)\r\n",
        "\r\n",
        "    def mean(self):\r\n",
        "        return self.total() / len(self.array)"
      ],
      "execution_count": 45,
      "outputs": []
    },
    {
      "cell_type": "code",
      "metadata": {
        "id": "68m4VgE9PVs1"
      },
      "source": [
        "l = MyList([1, 2, 3])  # 클래스 MyList의 객체 생성"
      ],
      "execution_count": 46,
      "outputs": []
    },
    {
      "cell_type": "code",
      "metadata": {
        "colab": {
          "base_uri": "https://localhost:8080/"
        },
        "id": "CYx1YgTdQJD6",
        "outputId": "a4f289bb-ab75-47b5-fdd4-fcbec9525158"
      },
      "source": [
        "print(id(l))  # 객체 l이 생성되어 있는 메모리 주소 -> self"
      ],
      "execution_count": 47,
      "outputs": [
        {
          "output_type": "stream",
          "text": [
            "139906011238096\n"
          ],
          "name": "stdout"
        }
      ]
    },
    {
      "cell_type": "code",
      "metadata": {
        "colab": {
          "base_uri": "https://localhost:8080/"
        },
        "id": "v4n9w9vYSWps",
        "outputId": "a02295b4-168b-42cb-d3c1-67fb8175f8ec"
      },
      "source": [
        "l.array  # 객체 속성"
      ],
      "execution_count": 50,
      "outputs": [
        {
          "output_type": "execute_result",
          "data": {
            "text/plain": [
              "[1, 2, 3]"
            ]
          },
          "metadata": {
            "tags": []
          },
          "execution_count": 50
        }
      ]
    },
    {
      "cell_type": "code",
      "metadata": {
        "colab": {
          "base_uri": "https://localhost:8080/"
        },
        "id": "vPh7Ow68S_rD",
        "outputId": "ecc14cc1-d98c-4219-d455-b323a08f315a"
      },
      "source": [
        "l.total()  # 객체 메서드 호출"
      ],
      "execution_count": 51,
      "outputs": [
        {
          "output_type": "execute_result",
          "data": {
            "text/plain": [
              "6"
            ]
          },
          "metadata": {
            "tags": []
          },
          "execution_count": 51
        }
      ]
    },
    {
      "cell_type": "code",
      "metadata": {
        "colab": {
          "base_uri": "https://localhost:8080/"
        },
        "id": "-ChfJ0_yS_dz",
        "outputId": "927c61c5-2252-4668-8cee-f0c9e8ad6a27"
      },
      "source": [
        "l.mean()"
      ],
      "execution_count": 52,
      "outputs": [
        {
          "output_type": "execute_result",
          "data": {
            "text/plain": [
              "2.0"
            ]
          },
          "metadata": {
            "tags": []
          },
          "execution_count": 52
        }
      ]
    },
    {
      "cell_type": "code",
      "metadata": {
        "id": "hjN3ODumRUNi"
      },
      "source": [
        "l2 = MyList([2, 4, 6])"
      ],
      "execution_count": 48,
      "outputs": []
    },
    {
      "cell_type": "code",
      "metadata": {
        "colab": {
          "base_uri": "https://localhost:8080/"
        },
        "id": "TVD7wXryRZ2I",
        "outputId": "67bb4593-4287-41bb-e066-193c9761d5e0"
      },
      "source": [
        "id(l2)"
      ],
      "execution_count": 49,
      "outputs": [
        {
          "output_type": "execute_result",
          "data": {
            "text/plain": [
              "139906012634192"
            ]
          },
          "metadata": {
            "tags": []
          },
          "execution_count": 49
        }
      ]
    },
    {
      "cell_type": "code",
      "metadata": {
        "colab": {
          "base_uri": "https://localhost:8080/"
        },
        "id": "BUzG4D3-ULH1",
        "outputId": "5650d376-7933-4880-ee53-8b40e1f87ffc"
      },
      "source": [
        "l2.array"
      ],
      "execution_count": 53,
      "outputs": [
        {
          "output_type": "execute_result",
          "data": {
            "text/plain": [
              "[2, 4, 6]"
            ]
          },
          "metadata": {
            "tags": []
          },
          "execution_count": 53
        }
      ]
    },
    {
      "cell_type": "code",
      "metadata": {
        "colab": {
          "base_uri": "https://localhost:8080/"
        },
        "id": "v4Twb_2xUhZE",
        "outputId": "ecee8c58-e42a-45fd-e953-86e7fb28e0f6"
      },
      "source": [
        "l2.total()"
      ],
      "execution_count": 54,
      "outputs": [
        {
          "output_type": "execute_result",
          "data": {
            "text/plain": [
              "12"
            ]
          },
          "metadata": {
            "tags": []
          },
          "execution_count": 54
        }
      ]
    },
    {
      "cell_type": "code",
      "metadata": {
        "colab": {
          "base_uri": "https://localhost:8080/"
        },
        "id": "J195Aw_7Uj-z",
        "outputId": "d0831c73-559b-47b6-af8a-0226bfcef3c0"
      },
      "source": [
        "l2.mean()"
      ],
      "execution_count": 55,
      "outputs": [
        {
          "output_type": "execute_result",
          "data": {
            "text/plain": [
              "4.0"
            ]
          },
          "metadata": {
            "tags": []
          },
          "execution_count": 55
        }
      ]
    }
  ]
}