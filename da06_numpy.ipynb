{
  "nbformat": 4,
  "nbformat_minor": 0,
  "metadata": {
    "colab": {
      "name": "da06_numpy.ipynb",
      "provenance": [],
      "collapsed_sections": [],
      "authorship_tag": "ABX9TyOQRaC9nTWYOp6+u/fYBQVS",
      "include_colab_link": true
    },
    "kernelspec": {
      "name": "python3",
      "display_name": "Python 3"
    }
  },
  "cells": [
    {
      "cell_type": "markdown",
      "metadata": {
        "id": "view-in-github",
        "colab_type": "text"
      },
      "source": [
        "<a href=\"https://colab.research.google.com/github/JakeOh/202103_itw_pyda_wkd/blob/main/da06_numpy.ipynb\" target=\"_parent\"><img src=\"https://colab.research.google.com/assets/colab-badge.svg\" alt=\"Open In Colab\"/></a>"
      ]
    },
    {
      "cell_type": "markdown",
      "metadata": {
        "id": "dnZQxFWmVuS1"
      },
      "source": [
        "*   **NumPy**: Numerical Python. 배열(array)들 빠르게 계산/조작할 수 있는 패키지(라이브러리)\r\n",
        "*   **pandas**: Series, DataFrame을 다루는 패키지\r\n",
        "*   **matplotlib**: 시각화(그래프) 패키지"
      ]
    },
    {
      "cell_type": "code",
      "metadata": {
        "id": "dkL2CxAFVme3"
      },
      "source": [
        "import numpy as np"
      ],
      "execution_count": 1,
      "outputs": []
    },
    {
      "cell_type": "markdown",
      "metadata": {
        "id": "TJROfQ9iay5P"
      },
      "source": [
        "# Python list와 Numpy ndarray 비교"
      ]
    },
    {
      "cell_type": "code",
      "metadata": {
        "colab": {
          "base_uri": "https://localhost:8080/"
        },
        "id": "OXPn00aYWxyX",
        "outputId": "999478b8-7fc5-4a48-f029-6d8722daca00"
      },
      "source": [
        "num_list = [1, 2, 3, 4, 5]\r\n",
        "print(type(num_list))\r\n",
        "print(num_list)"
      ],
      "execution_count": 2,
      "outputs": [
        {
          "output_type": "stream",
          "text": [
            "<class 'list'>\n",
            "[1, 2, 3, 4, 5]\n"
          ],
          "name": "stdout"
        }
      ]
    },
    {
      "cell_type": "code",
      "metadata": {
        "colab": {
          "base_uri": "https://localhost:8080/"
        },
        "id": "QxQQcmJPbFvP",
        "outputId": "4453bf64-2810-4c73-adb1-b75990b65fe9"
      },
      "source": [
        "num_array = np.array([1, 2, 3, 4, 5])\r\n",
        "print(type(num_array))\r\n",
        "print(num_array)"
      ],
      "execution_count": 4,
      "outputs": [
        {
          "output_type": "stream",
          "text": [
            "<class 'numpy.ndarray'>\n",
            "[1 2 3 4 5]\n"
          ],
          "name": "stdout"
        }
      ]
    },
    {
      "cell_type": "code",
      "metadata": {
        "colab": {
          "base_uri": "https://localhost:8080/"
        },
        "id": "Mp_zgKZGbw4I",
        "outputId": "deee2dad-eeb2-46ac-8fce-4fa784475d9f"
      },
      "source": [
        "# numpy.ndarray도 list와 마찬가지로 아이템을 접근할 때 index를 사용\r\n",
        "# slicing 기능은 list와 동일.\r\n",
        "num_array[-2:]"
      ],
      "execution_count": 7,
      "outputs": [
        {
          "output_type": "execute_result",
          "data": {
            "text/plain": [
              "array([4, 5])"
            ]
          },
          "metadata": {
            "tags": []
          },
          "execution_count": 7
        }
      ]
    },
    {
      "cell_type": "code",
      "metadata": {
        "colab": {
          "base_uri": "https://localhost:8080/"
        },
        "id": "4jhX6DT7daeR",
        "outputId": "b79f741c-b1e0-4f0e-aac0-f0b59e180866"
      },
      "source": [
        "# list에서 사용 가능한 연산자: + , *\r\n",
        "[1, 2, 3] + [4, 5, 6]"
      ],
      "execution_count": 8,
      "outputs": [
        {
          "output_type": "execute_result",
          "data": {
            "text/plain": [
              "[1, 2, 3, 4, 5, 6]"
            ]
          },
          "metadata": {
            "tags": []
          },
          "execution_count": 8
        }
      ]
    },
    {
      "cell_type": "code",
      "metadata": {
        "colab": {
          "base_uri": "https://localhost:8080/"
        },
        "id": "GaDihk0KdoQU",
        "outputId": "09177b79-9326-41c4-cd29-adb4984f74e9"
      },
      "source": [
        "# np.ndarray는 모든 산술 연산이 가능\r\n",
        "# 산술 연산은 원소별(element-wise)로 이루어짐(같은 인덱스의 원소들끼리 연산)\r\n",
        "a1 = np.array([1, 2, 3])\r\n",
        "a2 = np.array([4, 5, 6])\r\n",
        "a1 + a2"
      ],
      "execution_count": 12,
      "outputs": [
        {
          "output_type": "execute_result",
          "data": {
            "text/plain": [
              "array([5, 7, 9])"
            ]
          },
          "metadata": {
            "tags": []
          },
          "execution_count": 12
        }
      ]
    },
    {
      "cell_type": "code",
      "metadata": {
        "colab": {
          "base_uri": "https://localhost:8080/"
        },
        "id": "zSeUfooEeNK8",
        "outputId": "5b1e42a0-5737-4193-9939-8a4613ba41da"
      },
      "source": [
        "a1 * 2  # 배열 a1의 모든 원소에 같은 숫자 2를 곱해줌.(broadcast)"
      ],
      "execution_count": 15,
      "outputs": [
        {
          "output_type": "execute_result",
          "data": {
            "text/plain": [
              "array([2, 4, 6])"
            ]
          },
          "metadata": {
            "tags": []
          },
          "execution_count": 15
        }
      ]
    },
    {
      "cell_type": "code",
      "metadata": {
        "colab": {
          "base_uri": "https://localhost:8080/"
        },
        "id": "ABnDQAMZgkFP",
        "outputId": "c1d5070e-e444-45e0-a62d-3f606230a4ea"
      },
      "source": [
        "# np.ndarray는 비교연산도 가능\r\n",
        "np.array([1, -1, 2]) > 0"
      ],
      "execution_count": 17,
      "outputs": [
        {
          "output_type": "execute_result",
          "data": {
            "text/plain": [
              "array([ True, False,  True])"
            ]
          },
          "metadata": {
            "tags": []
          },
          "execution_count": 17
        }
      ]
    },
    {
      "cell_type": "markdown",
      "metadata": {
        "id": "CMoO6hGPiFgr"
      },
      "source": [
        "# 2차원 array"
      ]
    },
    {
      "cell_type": "code",
      "metadata": {
        "colab": {
          "base_uri": "https://localhost:8080/"
        },
        "id": "A9wRDB_yiKG7",
        "outputId": "862fb753-ac80-4a97-9484-2527bf285718"
      },
      "source": [
        "a = np.arange(12).reshape((3, 4))\r\n",
        "print(a)"
      ],
      "execution_count": 22,
      "outputs": [
        {
          "output_type": "stream",
          "text": [
            "[[ 0  1  2  3]\n",
            " [ 4  5  6  7]\n",
            " [ 8  9 10 11]]\n"
          ],
          "name": "stdout"
        }
      ]
    },
    {
      "cell_type": "code",
      "metadata": {
        "colab": {
          "base_uri": "https://localhost:8080/"
        },
        "id": "uD52VysjjLL7",
        "outputId": "dee3b2f6-0007-4365-e578-60ea93b8bc7c"
      },
      "source": [
        "# 2차원 배열에서 index\r\n",
        "print(a[0])  # 인덱스 0번 행(row)\r\n",
        "print(a[0][1])  # 인덱스 0번 행의 인덱스 1번 아이템\r\n",
        "print(a[0, 1])  # ndarray에서만 사용 가능."
      ],
      "execution_count": 27,
      "outputs": [
        {
          "output_type": "stream",
          "text": [
            "[0 1 2 3]\n",
            "1\n",
            "1\n"
          ],
          "name": "stdout"
        }
      ]
    },
    {
      "cell_type": "markdown",
      "metadata": {
        "id": "kpHlPL78nQ4d"
      },
      "source": [
        "# Indexing"
      ]
    },
    {
      "cell_type": "markdown",
      "metadata": {
        "id": "MOZDseg9nZpe"
      },
      "source": [
        "*   list indexing(fancy indexing)"
      ]
    },
    {
      "cell_type": "code",
      "metadata": {
        "colab": {
          "base_uri": "https://localhost:8080/"
        },
        "id": "te5KMKNRnj_T",
        "outputId": "3fbefa60-f21a-42b0-9add-1f1e9d90300a"
      },
      "source": [
        "a = np.arange(10, 101, 10)\r\n",
        "print(a)"
      ],
      "execution_count": 31,
      "outputs": [
        {
          "output_type": "stream",
          "text": [
            "[ 10  20  30  40  50  60  70  80  90 100]\n"
          ],
          "name": "stdout"
        }
      ]
    },
    {
      "cell_type": "code",
      "metadata": {
        "colab": {
          "base_uri": "https://localhost:8080/"
        },
        "id": "cQvHY2dWnowa",
        "outputId": "755b1241-24c8-496d-87e3-7df23a4169e9"
      },
      "source": [
        "print(a[1:5])  # slicing"
      ],
      "execution_count": 32,
      "outputs": [
        {
          "output_type": "stream",
          "text": [
            "[20 30 40 50]\n"
          ],
          "name": "stdout"
        }
      ]
    },
    {
      "cell_type": "code",
      "metadata": {
        "colab": {
          "base_uri": "https://localhost:8080/"
        },
        "id": "WlF6i7rwnzH9",
        "outputId": "25fd20be-0a25-43a2-c6f2-031e4b895a03"
      },
      "source": [
        "indexer = [1, 3, 5]\r\n",
        "print(a[indexer])  # 인덱스들의 리스트(배열, 튜플)로 원소 선택"
      ],
      "execution_count": 33,
      "outputs": [
        {
          "output_type": "stream",
          "text": [
            "[20 40 60]\n"
          ],
          "name": "stdout"
        }
      ]
    },
    {
      "cell_type": "code",
      "metadata": {
        "colab": {
          "base_uri": "https://localhost:8080/"
        },
        "id": "URIm1wHgom2W",
        "outputId": "742db625-d1db-4bd0-827e-fc6d86c1fdba"
      },
      "source": [
        "a[[3, 2, 1]]  # 인덱스의 순서를 원하는 대로"
      ],
      "execution_count": 35,
      "outputs": [
        {
          "output_type": "execute_result",
          "data": {
            "text/plain": [
              "array([40, 30, 20])"
            ]
          },
          "metadata": {
            "tags": []
          },
          "execution_count": 35
        }
      ]
    },
    {
      "cell_type": "markdown",
      "metadata": {
        "id": "1bqhtWFGpF2m"
      },
      "source": [
        "*   boolean indexing"
      ]
    },
    {
      "cell_type": "code",
      "metadata": {
        "colab": {
          "base_uri": "https://localhost:8080/"
        },
        "id": "QejmfK82pQxk",
        "outputId": "a4c0d9d7-c928-45b7-8fa4-116131a17ca7"
      },
      "source": [
        "np.random.seed(1)\r\n",
        "a = np.random.randint(-10, 10, size=10)\r\n",
        "print(a)"
      ],
      "execution_count": 46,
      "outputs": [
        {
          "output_type": "stream",
          "text": [
            "[ -5   1   2  -2  -1   1  -5   5 -10   6]\n"
          ],
          "name": "stdout"
        }
      ]
    },
    {
      "cell_type": "code",
      "metadata": {
        "colab": {
          "base_uri": "https://localhost:8080/"
        },
        "id": "jRU2DBXRqwmH",
        "outputId": "f666b0b5-8c2c-4f26-eef4-8cc152116a7d"
      },
      "source": [
        "a > 0  # bool(True/False)들의 배열"
      ],
      "execution_count": 47,
      "outputs": [
        {
          "output_type": "execute_result",
          "data": {
            "text/plain": [
              "array([False,  True,  True, False, False,  True, False,  True, False,\n",
              "        True])"
            ]
          },
          "metadata": {
            "tags": []
          },
          "execution_count": 47
        }
      ]
    },
    {
      "cell_type": "code",
      "metadata": {
        "colab": {
          "base_uri": "https://localhost:8080/"
        },
        "id": "KQdHS-H9q-F2",
        "outputId": "c6ffdcb4-62b0-4563-80c4-ebe3283ddbda"
      },
      "source": [
        "a[a > 0]"
      ],
      "execution_count": 48,
      "outputs": [
        {
          "output_type": "execute_result",
          "data": {
            "text/plain": [
              "array([1, 2, 1, 5, 6])"
            ]
          },
          "metadata": {
            "tags": []
          },
          "execution_count": 48
        }
      ]
    },
    {
      "cell_type": "code",
      "metadata": {
        "colab": {
          "base_uri": "https://localhost:8080/"
        },
        "id": "psg6CxGCreP-",
        "outputId": "daa0a317-7093-4c6a-d45b-4d866ec42474"
      },
      "source": [
        "a[a % 2 == 0]"
      ],
      "execution_count": 49,
      "outputs": [
        {
          "output_type": "execute_result",
          "data": {
            "text/plain": [
              "array([  2,  -2, -10,   6])"
            ]
          },
          "metadata": {
            "tags": []
          },
          "execution_count": 49
        }
      ]
    },
    {
      "cell_type": "markdown",
      "metadata": {
        "id": "4_UpRarGsD9_"
      },
      "source": [
        "# Broadcast"
      ]
    },
    {
      "cell_type": "code",
      "metadata": {
        "colab": {
          "base_uri": "https://localhost:8080/"
        },
        "id": "ZT93NjMSsMIW",
        "outputId": "921365bf-0ad0-4e1f-a6ba-555e78df4654"
      },
      "source": [
        "a = np.arange(12).reshape((3, 4))\r\n",
        "print(a)"
      ],
      "execution_count": 50,
      "outputs": [
        {
          "output_type": "stream",
          "text": [
            "[[ 0  1  2  3]\n",
            " [ 4  5  6  7]\n",
            " [ 8  9 10 11]]\n"
          ],
          "name": "stdout"
        }
      ]
    },
    {
      "cell_type": "code",
      "metadata": {
        "colab": {
          "base_uri": "https://localhost:8080/"
        },
        "id": "83EjzN3xsQlR",
        "outputId": "a5b8a80b-9915-4fa9-ab0c-5602534a4e2a"
      },
      "source": [
        "b = np.array([1, 1, 2, 2])\r\n",
        "print(b)"
      ],
      "execution_count": 51,
      "outputs": [
        {
          "output_type": "stream",
          "text": [
            "[1 1 2 2]\n"
          ],
          "name": "stdout"
        }
      ]
    },
    {
      "cell_type": "code",
      "metadata": {
        "colab": {
          "base_uri": "https://localhost:8080/"
        },
        "id": "5KlUC-2ysffn",
        "outputId": "f8c1ca32-4bbd-4ab7-f67c-98e00653576d"
      },
      "source": [
        "print(a + b)"
      ],
      "execution_count": 52,
      "outputs": [
        {
          "output_type": "stream",
          "text": [
            "[[ 1  2  4  5]\n",
            " [ 5  6  8  9]\n",
            " [ 9 10 12 13]]\n"
          ],
          "name": "stdout"
        }
      ]
    },
    {
      "cell_type": "code",
      "metadata": {
        "colab": {
          "base_uri": "https://localhost:8080/"
        },
        "id": "Z_iSrzzvtGCQ",
        "outputId": "acc4bfaa-c057-4cae-ffd8-90d4eaed2b6a"
      },
      "source": [
        "b = np.arange(1, 4).reshape((3, 1))\r\n",
        "print(b)"
      ],
      "execution_count": 53,
      "outputs": [
        {
          "output_type": "stream",
          "text": [
            "[[1]\n",
            " [2]\n",
            " [3]]\n"
          ],
          "name": "stdout"
        }
      ]
    },
    {
      "cell_type": "code",
      "metadata": {
        "colab": {
          "base_uri": "https://localhost:8080/"
        },
        "id": "KsTMm6cPtg2A",
        "outputId": "5dffb06a-da3b-432d-d29d-5eca9a6d7663"
      },
      "source": [
        "print(a + b)"
      ],
      "execution_count": 54,
      "outputs": [
        {
          "output_type": "stream",
          "text": [
            "[[ 1  2  3  4]\n",
            " [ 6  7  8  9]\n",
            " [11 12 13 14]]\n"
          ],
          "name": "stdout"
        }
      ]
    },
    {
      "cell_type": "markdown",
      "metadata": {
        "id": "Ai3wRnsBupQ-"
      },
      "source": [
        "# numpy 함수, ndarray 메서드"
      ]
    },
    {
      "cell_type": "markdown",
      "metadata": {
        "id": "n26OnvOLu-Xq"
      },
      "source": [
        "numpy 패키지에서는 같은 기능이 함수와 메서드로 제공되는 경우가 많음."
      ]
    },
    {
      "cell_type": "code",
      "metadata": {
        "colab": {
          "base_uri": "https://localhost:8080/"
        },
        "id": "qH0VdpFGuztg",
        "outputId": "5ef7c7d9-95ce-4acc-c5ea-f9ae078fee4b"
      },
      "source": [
        "a = np.arange(5)\r\n",
        "print(a)"
      ],
      "execution_count": 55,
      "outputs": [
        {
          "output_type": "stream",
          "text": [
            "[0 1 2 3 4]\n"
          ],
          "name": "stdout"
        }
      ]
    },
    {
      "cell_type": "code",
      "metadata": {
        "colab": {
          "base_uri": "https://localhost:8080/"
        },
        "id": "PlBbl3NwvESJ",
        "outputId": "83d4626b-d6e7-4c78-e389-0be61bb0c8e9"
      },
      "source": [
        "np.sum(a)  # numpy 패키지가 가지고 있는 sum() 함수"
      ],
      "execution_count": 56,
      "outputs": [
        {
          "output_type": "execute_result",
          "data": {
            "text/plain": [
              "10"
            ]
          },
          "metadata": {
            "tags": []
          },
          "execution_count": 56
        }
      ]
    },
    {
      "cell_type": "code",
      "metadata": {
        "colab": {
          "base_uri": "https://localhost:8080/"
        },
        "id": "enfsC9wCvdBN",
        "outputId": "2b3f33d2-504e-43f2-ad13-282bc5f4ddfc"
      },
      "source": [
        "a.sum()  # ndarray 클래스 객체인 a가 가지고 있는 sum() 메서드"
      ],
      "execution_count": 57,
      "outputs": [
        {
          "output_type": "execute_result",
          "data": {
            "text/plain": [
              "10"
            ]
          },
          "metadata": {
            "tags": []
          },
          "execution_count": 57
        }
      ]
    },
    {
      "cell_type": "code",
      "metadata": {
        "colab": {
          "base_uri": "https://localhost:8080/"
        },
        "id": "d3tXLCPNw4lS",
        "outputId": "74a6c9a6-3944-4fe8-f605-f0f348123093"
      },
      "source": [
        "type(a)"
      ],
      "execution_count": 58,
      "outputs": [
        {
          "output_type": "execute_result",
          "data": {
            "text/plain": [
              "numpy.ndarray"
            ]
          },
          "metadata": {
            "tags": []
          },
          "execution_count": 58
        }
      ]
    },
    {
      "cell_type": "markdown",
      "metadata": {
        "id": "DS-iLsQ8xdMy"
      },
      "source": [
        "*   np.mean(array): 평균. np.ndarray.mean()\r\n",
        "*   np.var(): 분산(variance)\r\n",
        "*   np.std(): 표준편차(standard deviation)\r\n",
        "*   np.max(): 최댓값\r\n",
        "*   np.min(): 최솟값"
      ]
    },
    {
      "cell_type": "code",
      "metadata": {
        "colab": {
          "base_uri": "https://localhost:8080/"
        },
        "id": "uPHtbnpXyJU5",
        "outputId": "b0878beb-676d-4056-d679-cac1f7af6434"
      },
      "source": [
        "a = np.arange(12).reshape((3, 4))\r\n",
        "print(a)"
      ],
      "execution_count": 59,
      "outputs": [
        {
          "output_type": "stream",
          "text": [
            "[[ 0  1  2  3]\n",
            " [ 4  5  6  7]\n",
            " [ 8  9 10 11]]\n"
          ],
          "name": "stdout"
        }
      ]
    },
    {
      "cell_type": "code",
      "metadata": {
        "colab": {
          "base_uri": "https://localhost:8080/"
        },
        "id": "o7PkYVxqyQEl",
        "outputId": "a56fdbbe-0779-4dca-e928-df91e9d99c1f"
      },
      "source": [
        "np.sum(a)"
      ],
      "execution_count": 60,
      "outputs": [
        {
          "output_type": "execute_result",
          "data": {
            "text/plain": [
              "66"
            ]
          },
          "metadata": {
            "tags": []
          },
          "execution_count": 60
        }
      ]
    },
    {
      "cell_type": "code",
      "metadata": {
        "colab": {
          "base_uri": "https://localhost:8080/"
        },
        "id": "dd-uRQl-ylPs",
        "outputId": "ab37ba9f-0aec-4065-af4b-86a6000ce980"
      },
      "source": [
        "a.sum()"
      ],
      "execution_count": 61,
      "outputs": [
        {
          "output_type": "execute_result",
          "data": {
            "text/plain": [
              "66"
            ]
          },
          "metadata": {
            "tags": []
          },
          "execution_count": 61
        }
      ]
    },
    {
      "cell_type": "code",
      "metadata": {
        "colab": {
          "base_uri": "https://localhost:8080/"
        },
        "id": "EH7FxhLVyptA",
        "outputId": "c2e97548-69ca-4f91-d804-bdd88135d5b3"
      },
      "source": [
        "np.sum(a, axis=0)"
      ],
      "execution_count": 62,
      "outputs": [
        {
          "output_type": "execute_result",
          "data": {
            "text/plain": [
              "array([12, 15, 18, 21])"
            ]
          },
          "metadata": {
            "tags": []
          },
          "execution_count": 62
        }
      ]
    },
    {
      "cell_type": "code",
      "metadata": {
        "colab": {
          "base_uri": "https://localhost:8080/"
        },
        "id": "2ZSG0O9vzXXr",
        "outputId": "317a6c0d-e78b-4ba1-aab9-163b820f8d49"
      },
      "source": [
        "np.sum(a, axis=0, keepdims=True)"
      ],
      "execution_count": 64,
      "outputs": [
        {
          "output_type": "execute_result",
          "data": {
            "text/plain": [
              "array([[12, 15, 18, 21]])"
            ]
          },
          "metadata": {
            "tags": []
          },
          "execution_count": 64
        }
      ]
    },
    {
      "cell_type": "code",
      "metadata": {
        "colab": {
          "base_uri": "https://localhost:8080/"
        },
        "id": "gJLP5O2jzHAi",
        "outputId": "f1e8fccf-1d0a-4d6a-b6f5-abe4b36f2ed3"
      },
      "source": [
        "np.sum(a, axis=1, keepdims=True)"
      ],
      "execution_count": 65,
      "outputs": [
        {
          "output_type": "execute_result",
          "data": {
            "text/plain": [
              "array([[ 6],\n",
              "       [22],\n",
              "       [38]])"
            ]
          },
          "metadata": {
            "tags": []
          },
          "execution_count": 65
        }
      ]
    }
  ]
}