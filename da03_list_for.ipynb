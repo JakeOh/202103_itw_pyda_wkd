{
  "nbformat": 4,
  "nbformat_minor": 0,
  "metadata": {
    "colab": {
      "name": "da03_list_for.ipynb",
      "provenance": [],
      "collapsed_sections": [],
      "authorship_tag": "ABX9TyMIA1Xr4NGOxtVkztY9MFrE",
      "include_colab_link": true
    },
    "kernelspec": {
      "name": "python3",
      "display_name": "Python 3"
    }
  },
  "cells": [
    {
      "cell_type": "markdown",
      "metadata": {
        "id": "view-in-github",
        "colab_type": "text"
      },
      "source": [
        "<a href=\"https://colab.research.google.com/github/JakeOh/202103_itw_pyda_wkd/blob/main/da03_list_for.ipynb\" target=\"_parent\"><img src=\"https://colab.research.google.com/assets/colab-badge.svg\" alt=\"Open In Colab\"/></a>"
      ]
    },
    {
      "cell_type": "markdown",
      "metadata": {
        "id": "j6KxLjpD69vP"
      },
      "source": [
        "# 리스트(List)"
      ]
    },
    {
      "cell_type": "markdown",
      "metadata": {
        "id": "3iYnxCPB7CAG"
      },
      "source": [
        "*   list: 여러개의 자료(데이터)를 하나의 변수에 저장하기 위해서 만들어진 데이터 타입"
      ]
    },
    {
      "cell_type": "code",
      "metadata": {
        "colab": {
          "base_uri": "https://localhost:8080/"
        },
        "id": "72Wkseoc6z-z",
        "outputId": "0e3eec6a-7770-43b2-ab55-11db08e7bb73"
      },
      "source": [
        "numbers = [1, 2, 3, 4, 5]  # 숫자 5개를 저장하고 있는 리스트\r\n",
        "print(numbers)\r\n",
        "print(type(numbers))\r\n",
        "print(len(numbers))  # len(객체): 객체가 가지고 있는 아이템의 개수를 반환(리턴)"
      ],
      "execution_count": 51,
      "outputs": [
        {
          "output_type": "stream",
          "text": [
            "[1, 2, 3, 4, 5]\n",
            "<class 'list'>\n",
            "5\n"
          ],
          "name": "stdout"
        }
      ]
    },
    {
      "cell_type": "code",
      "metadata": {
        "colab": {
          "base_uri": "https://localhost:8080/"
        },
        "id": "aaHTFacP9XVw",
        "outputId": "1b0f0b6f-79db-4223-c531-3496163bd7d9"
      },
      "source": [
        "print(len('점심 맛있게 드셨나요?'))"
      ],
      "execution_count": 52,
      "outputs": [
        {
          "output_type": "stream",
          "text": [
            "12\n"
          ],
          "name": "stdout"
        }
      ]
    },
    {
      "cell_type": "markdown",
      "metadata": {
        "id": "ZczPjtxu90mG"
      },
      "source": [
        "*   리스트는 저장하고 있는 아이템들을 참조할 수 있는 일련번호(index)를 가지고 있음.\r\n",
        "*   리스트의 인덱스는 0부터 시작.\r\n",
        "*   리스트의 마지막 인덱스는 (len - 1)이 됨.\r\n",
        "*   리스트의 마지막 원소부터 거꾸로 매겨지는 음수 인덱스를 가질 수 있음."
      ]
    },
    {
      "cell_type": "code",
      "metadata": {
        "colab": {
          "base_uri": "https://localhost:8080/"
        },
        "id": "LLZO8eZz-L14",
        "outputId": "d178c57f-189e-47cb-b58d-dbefa230f95b"
      },
      "source": [
        "print(numbers[0])\r\n",
        "print(numbers[4])\r\n",
        "print(numbers[-1])  # 리스트의 마지막 아이템\r\n",
        "print(numbers[-2])  # 리스트에서 거꾸로 두번째의 아이템"
      ],
      "execution_count": 53,
      "outputs": [
        {
          "output_type": "stream",
          "text": [
            "1\n",
            "5\n",
            "5\n",
            "4\n"
          ],
          "name": "stdout"
        }
      ]
    },
    {
      "cell_type": "markdown",
      "metadata": {
        "id": "QxSJ1shPADt3"
      },
      "source": [
        "**list slicing**\r\n",
        "\r\n",
        "*   `list[start:end]`: start <= 인덱스 < end 범위의 아이템들을 선택\r\n",
        "*   slicing의 결과는 리스트!\r\n",
        "*   start 인덱스를 생략한 경우에는 첫번째 아이템부터 선택.\r\n",
        "*   end 인덱스를 생략한 경우에는 마지막 아이템까지 선택."
      ]
    },
    {
      "cell_type": "code",
      "metadata": {
        "colab": {
          "base_uri": "https://localhost:8080/"
        },
        "id": "BuzFbrAfBJ_o",
        "outputId": "6032da46-fb77-403e-90bf-5da38cdf6d1a"
      },
      "source": [
        "print(numbers[1:3])\r\n",
        "print(numbers[1:2])  # slicing -> list\r\n",
        "print(numbers[1])  # 아이템 한개 선택 -> 숫자\r\n",
        "print(numbers[:3])\r\n",
        "print(numbers[3:])\r\n",
        "print(numbers[-3:])  # 리스트에서 끝에서 3개를 선택\r\n",
        "print(numbers[:])  # 첫번째 원소부터 마지막 원소까지"
      ],
      "execution_count": 54,
      "outputs": [
        {
          "output_type": "stream",
          "text": [
            "[2, 3]\n",
            "[2]\n",
            "2\n",
            "[1, 2, 3]\n",
            "[4, 5]\n",
            "[3, 4, 5]\n",
            "[1, 2, 3, 4, 5]\n"
          ],
          "name": "stdout"
        }
      ]
    },
    {
      "cell_type": "code",
      "metadata": {
        "colab": {
          "base_uri": "https://localhost:8080/"
        },
        "id": "XT2SrDj9BOSW",
        "outputId": "6ba39863-ce49-42ce-a9ba-8aa71baf42cb"
      },
      "source": [
        "# 문자열(str)도 일종의 list -> 리스트 인덱스, slicing 등을 사용할 수 있음.\r\n",
        "msg = '안녕하세요'\r\n",
        "print(msg[0])\r\n",
        "print(msg[-1])\r\n",
        "print(msg[:2])\r\n",
        "print(msg[-3:])"
      ],
      "execution_count": 55,
      "outputs": [
        {
          "output_type": "stream",
          "text": [
            "안\n",
            "요\n",
            "안녕\n",
            "하세요\n"
          ],
          "name": "stdout"
        }
      ]
    },
    {
      "cell_type": "code",
      "metadata": {
        "colab": {
          "base_uri": "https://localhost:8080/"
        },
        "id": "zg5U9WlBD54Y",
        "outputId": "0eb5741f-c84e-4a5a-df7a-cdf7fe41c8d3"
      },
      "source": [
        "# 리스트 + 리스트: 두개의 리스트를 이어붙여서 하나의 리스트를 만듦(concatenate)\r\n",
        "# 리스트 * 정수: 리스트의 아이템들을 정수만큼 반복해서 리스트를 늘림.\r\n",
        "print([1, 2, 3] + [4, 5, 6])\r\n",
        "print([1, 2] * 5)"
      ],
      "execution_count": 56,
      "outputs": [
        {
          "output_type": "stream",
          "text": [
            "[1, 2, 3, 4, 5, 6]\n",
            "[1, 2, 1, 2, 1, 2, 1, 2, 1, 2]\n"
          ],
          "name": "stdout"
        }
      ]
    },
    {
      "cell_type": "code",
      "metadata": {
        "colab": {
          "base_uri": "https://localhost:8080/"
        },
        "id": "as48FOZMEfGl",
        "outputId": "0fd9d573-3dd7-4ec6-ef04-ca79214b3620"
      },
      "source": [
        "# 다차원 리스트: 리스트를 아이템으로 갖는 리스트\r\n",
        "numbers = [\r\n",
        "           [1, 2, 3, 4], \r\n",
        "           [5, 6, 7], \r\n",
        "           [8, 9, 10, 11, 12]\r\n",
        "]\r\n",
        "print(numbers)"
      ],
      "execution_count": 57,
      "outputs": [
        {
          "output_type": "stream",
          "text": [
            "[[1, 2, 3, 4], [5, 6, 7], [8, 9, 10, 11, 12]]\n"
          ],
          "name": "stdout"
        }
      ]
    },
    {
      "cell_type": "code",
      "metadata": {
        "colab": {
          "base_uri": "https://localhost:8080/"
        },
        "id": "Hn0JQDIrGAP5",
        "outputId": "40d06f63-d06e-4d24-898e-95b314d7f2e7"
      },
      "source": [
        "print(numbers[0])\r\n",
        "print(numbers[0][0])\r\n",
        "print(numbers[2][4])\r\n",
        "print(numbers[-1][-1])"
      ],
      "execution_count": 58,
      "outputs": [
        {
          "output_type": "stream",
          "text": [
            "[1, 2, 3, 4]\n",
            "1\n",
            "12\n",
            "12\n"
          ],
          "name": "stdout"
        }
      ]
    },
    {
      "cell_type": "markdown",
      "metadata": {
        "id": "bPp067nSKiL5"
      },
      "source": [
        "*   리스트의 메서드(method) - 기능"
      ]
    },
    {
      "cell_type": "code",
      "metadata": {
        "colab": {
          "base_uri": "https://localhost:8080/"
        },
        "id": "Kd1wuXugKtNv",
        "outputId": "fd9fff15-93fe-4457-8eb6-871e11ec1022"
      },
      "source": [
        "numbers = []  # 빈 리스트(empty list)\r\n",
        "print(numbers)"
      ],
      "execution_count": 59,
      "outputs": [
        {
          "output_type": "stream",
          "text": [
            "[]\n"
          ],
          "name": "stdout"
        }
      ]
    },
    {
      "cell_type": "code",
      "metadata": {
        "colab": {
          "base_uri": "https://localhost:8080/"
        },
        "id": "EBm_wIryK2ue",
        "outputId": "0ae7347e-ddac-4725-e554-400426d5b34d"
      },
      "source": [
        "numbers.append(10)  # list.append(item): 리스트에서 아이템을 추가\r\n",
        "print(numbers)"
      ],
      "execution_count": 60,
      "outputs": [
        {
          "output_type": "stream",
          "text": [
            "[10]\n"
          ],
          "name": "stdout"
        }
      ]
    },
    {
      "cell_type": "code",
      "metadata": {
        "colab": {
          "base_uri": "https://localhost:8080/"
        },
        "id": "Uv7a_hNVLKnU",
        "outputId": "df07d3e4-8a02-4707-c0ea-407ad574bcaf"
      },
      "source": [
        "numbers.append(100)\r\n",
        "print(numbers)"
      ],
      "execution_count": 61,
      "outputs": [
        {
          "output_type": "stream",
          "text": [
            "[10, 100]\n"
          ],
          "name": "stdout"
        }
      ]
    },
    {
      "cell_type": "code",
      "metadata": {
        "colab": {
          "base_uri": "https://localhost:8080/"
        },
        "id": "reQgZ8u5LQVR",
        "outputId": "469ae843-3eae-4908-a789-bb1ba3abe708"
      },
      "source": [
        "numbers.remove(10)  # list.remove(value): 리스트에서 값 value를 삭제\r\n",
        "print(numbers)"
      ],
      "execution_count": 62,
      "outputs": [
        {
          "output_type": "stream",
          "text": [
            "[100]\n"
          ],
          "name": "stdout"
        }
      ]
    },
    {
      "cell_type": "code",
      "metadata": {
        "colab": {
          "base_uri": "https://localhost:8080/"
        },
        "id": "PEPR6zvrL8Ph",
        "outputId": "e28e9a72-7c91-4fe4-c940-58d40d399dc3"
      },
      "source": [
        "numbers = [1, 2, 3, 4, 5]\r\n",
        "print(numbers)"
      ],
      "execution_count": 63,
      "outputs": [
        {
          "output_type": "stream",
          "text": [
            "[1, 2, 3, 4, 5]\n"
          ],
          "name": "stdout"
        }
      ]
    },
    {
      "cell_type": "code",
      "metadata": {
        "colab": {
          "base_uri": "https://localhost:8080/"
        },
        "id": "n3V84HM6M0qq",
        "outputId": "185072bd-ec1f-46bb-e831-12557e450077"
      },
      "source": [
        "# list.insert(index, value): index 위치에 value를 삽입\r\n",
        "numbers.insert(1, 100)  \r\n",
        "print(numbers)"
      ],
      "execution_count": 64,
      "outputs": [
        {
          "output_type": "stream",
          "text": [
            "[1, 100, 2, 3, 4, 5]\n"
          ],
          "name": "stdout"
        }
      ]
    },
    {
      "cell_type": "code",
      "metadata": {
        "colab": {
          "base_uri": "https://localhost:8080/"
        },
        "id": "uofaaE-lNGW4",
        "outputId": "2163937f-1d79-49b5-fe68-7e4ed732fe57"
      },
      "source": [
        "# list.pop(index): index 위치에 있는 값을 삭제\r\n",
        "numbers.pop(1)\r\n",
        "print(numbers)"
      ],
      "execution_count": 65,
      "outputs": [
        {
          "output_type": "stream",
          "text": [
            "[1, 2, 3, 4, 5]\n"
          ],
          "name": "stdout"
        }
      ]
    },
    {
      "cell_type": "code",
      "metadata": {
        "colab": {
          "base_uri": "https://localhost:8080/"
        },
        "id": "Ilydi4sPN0AA",
        "outputId": "88f79099-2bc3-4b35-c8c9-73dead1b4abc"
      },
      "source": [
        "numbers = [1, 9, 5, 0, 7]\r\n",
        "print(numbers)  # 정렬 전\r\n",
        "numbers.sort()  # (오름차순) 정렬\r\n",
        "print(numbers)  # 정렬 후"
      ],
      "execution_count": 66,
      "outputs": [
        {
          "output_type": "stream",
          "text": [
            "[1, 9, 5, 0, 7]\n",
            "[0, 1, 5, 7, 9]\n"
          ],
          "name": "stdout"
        }
      ]
    },
    {
      "cell_type": "code",
      "metadata": {
        "colab": {
          "base_uri": "https://localhost:8080/"
        },
        "id": "SslStVnvOHsD",
        "outputId": "60dec414-b112-4616-db32-ef4f0bb6afce"
      },
      "source": [
        "numbers.sort(reverse=True)  # 내림차순 정렬\r\n",
        "print(numbers)"
      ],
      "execution_count": 67,
      "outputs": [
        {
          "output_type": "stream",
          "text": [
            "[9, 7, 5, 1, 0]\n"
          ],
          "name": "stdout"
        }
      ]
    },
    {
      "cell_type": "code",
      "metadata": {
        "colab": {
          "base_uri": "https://localhost:8080/"
        },
        "id": "r1pXyEnRRNc3",
        "outputId": "14a1b502-8534-419e-e94b-27fb8e3208b2"
      },
      "source": [
        "# list.extend(리스트/튜플)\r\n",
        "numbers = [1, 2, 3, 4]\r\n",
        "evens = [2, 4, 6, 8]\r\n",
        "numbers.extend(evens)\r\n",
        "print(numbers)"
      ],
      "execution_count": 68,
      "outputs": [
        {
          "output_type": "stream",
          "text": [
            "[1, 2, 3, 4, 2, 4, 6, 8]\n"
          ],
          "name": "stdout"
        }
      ]
    },
    {
      "cell_type": "code",
      "metadata": {
        "colab": {
          "base_uri": "https://localhost:8080/"
        },
        "id": "60FaCq41SFCX",
        "outputId": "80209b8e-be5a-4743-e7b8-8dfb4cc35e31"
      },
      "source": [
        "# extend와 append의 차이점!\r\n",
        "print(numbers)\r\n",
        "numbers.append(evens)\r\n",
        "print(numbers)"
      ],
      "execution_count": 69,
      "outputs": [
        {
          "output_type": "stream",
          "text": [
            "[1, 2, 3, 4, 2, 4, 6, 8]\n",
            "[1, 2, 3, 4, 2, 4, 6, 8, [2, 4, 6, 8]]\n"
          ],
          "name": "stdout"
        }
      ]
    },
    {
      "cell_type": "markdown",
      "metadata": {
        "id": "EwLLQOVpPWzI"
      },
      "source": [
        "# Tuple(튜플)"
      ]
    },
    {
      "cell_type": "code",
      "metadata": {
        "colab": {
          "base_uri": "https://localhost:8080/"
        },
        "id": "mFTuHwOoOssH",
        "outputId": "04e6c376-0f6f-41af-b20f-f77a26ff8efc"
      },
      "source": [
        "# tuple: 변경할 수 없는 리스트\r\n",
        "num_tuple = (1, 2, 3, 5)  # 숫자 4개를 아이템으로 갖는 튜플\r\n",
        "print(num_tuple)\r\n",
        "print(type(num_tuple))\r\n",
        "print(len(num_tuple))"
      ],
      "execution_count": 70,
      "outputs": [
        {
          "output_type": "stream",
          "text": [
            "(1, 2, 3, 5)\n",
            "<class 'tuple'>\n",
            "4\n"
          ],
          "name": "stdout"
        }
      ]
    },
    {
      "cell_type": "code",
      "metadata": {
        "colab": {
          "base_uri": "https://localhost:8080/"
        },
        "id": "x7ywPn85Pzt3",
        "outputId": "0f5eac02-bbba-451f-a764-996714f9f103"
      },
      "source": [
        "# 튜플은 리스트와 마찬가지로 인덱스, slicing을 할 수 있음.\r\n",
        "print(num_tuple[1])\r\n",
        "print(num_tuple[-2:])"
      ],
      "execution_count": 71,
      "outputs": [
        {
          "output_type": "stream",
          "text": [
            "2\n",
            "(3, 5)\n"
          ],
          "name": "stdout"
        }
      ]
    },
    {
      "cell_type": "code",
      "metadata": {
        "id": "fTorJAjhQf3o"
      },
      "source": [
        "# 튜플은 원소를 변경하는 기능(append, remove, insert, pop, sort, ...)들을 가지고 있지 않음."
      ],
      "execution_count": 72,
      "outputs": []
    },
    {
      "cell_type": "markdown",
      "metadata": {
        "id": "7VR6NnYnSybY"
      },
      "source": [
        "# for 반복문"
      ]
    },
    {
      "cell_type": "markdown",
      "metadata": {
        "id": "Izf7yGyVVktI"
      },
      "source": [
        "\r\n",
        "```\r\n",
        "for 변수 in 반복가능한타입:\r\n",
        "    반복해서 실행할 코드 블록\r\n",
        "```\r\n",
        "\r\n",
        "반복 가능한 타입(iterable): list, tuple, str, ..."
      ]
    },
    {
      "cell_type": "code",
      "metadata": {
        "colab": {
          "base_uri": "https://localhost:8080/"
        },
        "id": "NyYKPO82WEXf",
        "outputId": "611b411c-08ea-497b-ecf6-2dfb2f49674b"
      },
      "source": [
        "for x in [1, 3, 5, 7, 9]:\r\n",
        "    print(x)"
      ],
      "execution_count": 74,
      "outputs": [
        {
          "output_type": "stream",
          "text": [
            "1\n",
            "3\n",
            "5\n",
            "7\n",
            "9\n"
          ],
          "name": "stdout"
        }
      ]
    },
    {
      "cell_type": "code",
      "metadata": {
        "colab": {
          "base_uri": "https://localhost:8080/"
        },
        "id": "z9rxiNFgXB5A",
        "outputId": "74613eaa-a34a-4416-ca3c-b953de74dedb"
      },
      "source": [
        "# range(start, end, step), step > 0\r\n",
        "# start <= x < end 범위의 숫자들을 step만큼씩 증가시키면서 숫자들을 생성.\r\n",
        "# start는 생략하면 0부터 시작.\r\n",
        "# step을 생략하면 1씩 증가됨.\r\n",
        "for x in range(0, 5, 1):  # (0, 1, 2, 3, 4)\r\n",
        "    print(x)"
      ],
      "execution_count": 76,
      "outputs": [
        {
          "output_type": "stream",
          "text": [
            "0\n",
            "1\n",
            "2\n",
            "3\n",
            "4\n"
          ],
          "name": "stdout"
        }
      ]
    },
    {
      "cell_type": "code",
      "metadata": {
        "colab": {
          "base_uri": "https://localhost:8080/"
        },
        "id": "5dlAhPBdXp0K",
        "outputId": "7ce082c4-8e68-443e-a742-960c90cf427e"
      },
      "source": [
        "for x in range(5):\r\n",
        "    print(x)"
      ],
      "execution_count": 77,
      "outputs": [
        {
          "output_type": "stream",
          "text": [
            "0\n",
            "1\n",
            "2\n",
            "3\n",
            "4\n"
          ],
          "name": "stdout"
        }
      ]
    },
    {
      "cell_type": "code",
      "metadata": {
        "colab": {
          "base_uri": "https://localhost:8080/"
        },
        "id": "blRBxIhgYGQc",
        "outputId": "48fcd366-dd8a-4f50-dbde-3775f6fa443d"
      },
      "source": [
        "# range(start, end, step), step < 0\r\n",
        "# start >= x > end 범위의 숫자들을 step만큼씩 감소시키면서 숫자들을 생성.\r\n",
        "for x in range(5, 0, -1):  # (5, 4, 3, 2, 1)\r\n",
        "    print(x)"
      ],
      "execution_count": 80,
      "outputs": [
        {
          "output_type": "stream",
          "text": [
            "5\n",
            "4\n",
            "3\n",
            "2\n",
            "1\n"
          ],
          "name": "stdout"
        }
      ]
    },
    {
      "cell_type": "code",
      "metadata": {
        "colab": {
          "base_uri": "https://localhost:8080/"
        },
        "id": "thA_Dlz1Yswa",
        "outputId": "313b7e3e-284a-40e0-cb60-92992ce2726b"
      },
      "source": [
        "# 빈 리스트 evens를 생성\r\n",
        "evens = []\r\n",
        "# evens에 0부터 50보다 작은 짝수들을 저장\r\n",
        "for x in range(0, 50, 2):\r\n",
        "    evens.append(x)\r\n",
        "# evens를 출력\r\n",
        "print(evens)"
      ],
      "execution_count": 85,
      "outputs": [
        {
          "output_type": "stream",
          "text": [
            "[0, 2, 4, 6, 8, 10, 12, 14, 16, 18, 20, 22, 24, 26, 28, 30, 32, 34, 36, 38, 40, 42, 44, 46, 48]\n"
          ],
          "name": "stdout"
        }
      ]
    },
    {
      "cell_type": "code",
      "metadata": {
        "colab": {
          "base_uri": "https://localhost:8080/"
        },
        "id": "DpR6JfTVaL7_",
        "outputId": "f0e23e03-fb7a-4832-94c5-d15502c26d1d"
      },
      "source": [
        "evens2 = []\r\n",
        "for x in (1, 2, 3, 4, 5, 6, 7):  # range(1, 8)\r\n",
        "    if x % 2 == 0:  # x가 짝수이면\r\n",
        "        evens2.append(x)\r\n",
        "\r\n",
        "print(evens2)"
      ],
      "execution_count": 90,
      "outputs": [
        {
          "output_type": "stream",
          "text": [
            "[2, 4, 6]\n"
          ],
          "name": "stdout"
        }
      ]
    },
    {
      "cell_type": "code",
      "metadata": {
        "colab": {
          "base_uri": "https://localhost:8080/"
        },
        "id": "IPBcNdCpbwnS",
        "outputId": "c4c6b4e5-f95b-40e8-b33c-a9948074b3ec"
      },
      "source": [
        "# list comprehension\r\n",
        "odds = [x for x in range(1, 10, 2)]\r\n",
        "print(odds)"
      ],
      "execution_count": 91,
      "outputs": [
        {
          "output_type": "stream",
          "text": [
            "[1, 3, 5, 7, 9]\n"
          ],
          "name": "stdout"
        }
      ]
    },
    {
      "cell_type": "code",
      "metadata": {
        "colab": {
          "base_uri": "https://localhost:8080/"
        },
        "id": "FiyDdW_Zd9DJ",
        "outputId": "65634255-facd-4122-a517-47957c5a43ca"
      },
      "source": [
        "print([x for x in range(0, 50, 2)])"
      ],
      "execution_count": 94,
      "outputs": [
        {
          "output_type": "stream",
          "text": [
            "[0, 2, 4, 6, 8, 10, 12, 14, 16, 18, 20, 22, 24, 26, 28, 30, 32, 34, 36, 38, 40, 42, 44, 46, 48]\n"
          ],
          "name": "stdout"
        }
      ]
    },
    {
      "cell_type": "code",
      "metadata": {
        "colab": {
          "base_uri": "https://localhost:8080/"
        },
        "id": "rwL4z0p4ehuO",
        "outputId": "850f5e0c-2f76-48dc-9b0c-d8ac1e27137d"
      },
      "source": [
        "# 반복할 때, 리스트의 아이템과 인덱스가 모두 필요할 때\r\n",
        "odds = [x for x in range(1, 10, 2)]\r\n",
        "print(odds)\r\n",
        "for i, x in enumerate(odds):\r\n",
        "    print(i, ':', x)"
      ],
      "execution_count": 95,
      "outputs": [
        {
          "output_type": "stream",
          "text": [
            "[1, 3, 5, 7, 9]\n",
            "0 : 1\n",
            "1 : 3\n",
            "2 : 5\n",
            "3 : 7\n",
            "4 : 9\n"
          ],
          "name": "stdout"
        }
      ]
    },
    {
      "cell_type": "code",
      "metadata": {
        "colab": {
          "base_uri": "https://localhost:8080/"
        },
        "id": "mfberFVFfAcZ",
        "outputId": "41a2c6dd-f108-4f66-cb47-e1f442874534"
      },
      "source": [
        "# break: 가장 가까운 반복문을 멈춤.\r\n",
        "for x in range(10):\r\n",
        "    print(x)\r\n",
        "    if x == 3:\r\n",
        "        break"
      ],
      "execution_count": 100,
      "outputs": [
        {
          "output_type": "stream",
          "text": [
            "0\n",
            "1\n",
            "2\n",
            "3\n"
          ],
          "name": "stdout"
        }
      ]
    },
    {
      "cell_type": "code",
      "metadata": {
        "colab": {
          "base_uri": "https://localhost:8080/"
        },
        "id": "cMHMXoFrglsp",
        "outputId": "a684fcc7-1d31-4ff2-9f18-01227e652e38"
      },
      "source": [
        "# continue: 반복 블록 안에서 continue 아래의 문장들을 실행하지 않고, \r\n",
        "# 그 다음 반복(iteration)을 실행.\r\n",
        "for x in range(10):\r\n",
        "    if x == 3:\r\n",
        "        continue\r\n",
        "    print(x)"
      ],
      "execution_count": 101,
      "outputs": [
        {
          "output_type": "stream",
          "text": [
            "0\n",
            "1\n",
            "2\n",
            "4\n",
            "5\n",
            "6\n",
            "7\n",
            "8\n",
            "9\n"
          ],
          "name": "stdout"
        }
      ]
    }
  ]
}