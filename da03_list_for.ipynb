{
  "nbformat": 4,
  "nbformat_minor": 0,
  "metadata": {
    "colab": {
      "name": "da03_list_for.ipynb",
      "provenance": [],
      "collapsed_sections": [],
      "authorship_tag": "ABX9TyOImc41yODi2zX/00q8Jhrj",
      "include_colab_link": true
    },
    "kernelspec": {
      "name": "python3",
      "display_name": "Python 3"
    }
  },
  "cells": [
    {
      "cell_type": "markdown",
      "metadata": {
        "id": "view-in-github",
        "colab_type": "text"
      },
      "source": [
        "<a href=\"https://colab.research.google.com/github/JakeOh/202103_itw_pyda_wkd/blob/main/da03_list_for.ipynb\" target=\"_parent\"><img src=\"https://colab.research.google.com/assets/colab-badge.svg\" alt=\"Open In Colab\"/></a>"
      ]
    },
    {
      "cell_type": "markdown",
      "metadata": {
        "id": "j6KxLjpD69vP"
      },
      "source": [
        "# 리스트(List)"
      ]
    },
    {
      "cell_type": "markdown",
      "metadata": {
        "id": "3iYnxCPB7CAG"
      },
      "source": [
        "*   list: 여러개의 자료(데이터)를 하나의 변수에 저장하기 위해서 만들어진 데이터 타입"
      ]
    },
    {
      "cell_type": "code",
      "metadata": {
        "colab": {
          "base_uri": "https://localhost:8080/"
        },
        "id": "72Wkseoc6z-z",
        "outputId": "426c6969-5798-4fe4-b60f-ce9a94824416"
      },
      "source": [
        "numbers = [1, 2, 3, 4, 5]  # 숫자 5개를 저장하고 있는 리스트\r\n",
        "print(numbers)\r\n",
        "print(type(numbers))\r\n",
        "print(len(numbers))  # len(객체): 객체가 가지고 있는 아이템의 개수를 반환(리턴)"
      ],
      "execution_count": 3,
      "outputs": [
        {
          "output_type": "stream",
          "text": [
            "[1, 2, 3, 4, 5]\n",
            "<class 'list'>\n",
            "5\n"
          ],
          "name": "stdout"
        }
      ]
    },
    {
      "cell_type": "code",
      "metadata": {
        "colab": {
          "base_uri": "https://localhost:8080/"
        },
        "id": "aaHTFacP9XVw",
        "outputId": "5a8d6d8e-605b-4560-fb33-fc3f9fc1e3b0"
      },
      "source": [
        "print(len('점심 맛있게 드셨나요?'))"
      ],
      "execution_count": 5,
      "outputs": [
        {
          "output_type": "stream",
          "text": [
            "12\n"
          ],
          "name": "stdout"
        }
      ]
    },
    {
      "cell_type": "markdown",
      "metadata": {
        "id": "ZczPjtxu90mG"
      },
      "source": [
        "*   리스트는 저장하고 있는 아이템들을 참조할 수 있는 일련번호(index)를 가지고 있음.\r\n",
        "*   리스트의 인덱스는 0부터 시작.\r\n",
        "*   리스트의 마지막 인덱스는 (len - 1)이 됨.\r\n",
        "*   리스트의 마지막 원소부터 거꾸로 매겨지는 음수 인덱스를 가질 수 있음."
      ]
    },
    {
      "cell_type": "code",
      "metadata": {
        "colab": {
          "base_uri": "https://localhost:8080/"
        },
        "id": "LLZO8eZz-L14",
        "outputId": "35cee400-530d-42d9-e003-d036dbfa8a08"
      },
      "source": [
        "print(numbers[0])\r\n",
        "print(numbers[4])\r\n",
        "print(numbers[-1])  # 리스트의 마지막 아이템\r\n",
        "print(numbers[-2])  # 리스트에서 거꾸로 두번째의 아이템"
      ],
      "execution_count": 9,
      "outputs": [
        {
          "output_type": "stream",
          "text": [
            "1\n",
            "5\n",
            "5\n",
            "4\n"
          ],
          "name": "stdout"
        }
      ]
    },
    {
      "cell_type": "markdown",
      "metadata": {
        "id": "QxSJ1shPADt3"
      },
      "source": [
        "**list slicing**\r\n",
        "\r\n",
        "*   `list[start:end]`: start <= 인덱스 < end 범위의 아이템들을 선택\r\n",
        "*   slicing의 결과는 리스트!\r\n",
        "*   start 인덱스를 생략한 경우에는 첫번째 아이템부터 선택.\r\n",
        "*   end 인덱스를 생략한 경우에는 마지막 아이템까지 선택."
      ]
    },
    {
      "cell_type": "code",
      "metadata": {
        "colab": {
          "base_uri": "https://localhost:8080/"
        },
        "id": "BuzFbrAfBJ_o",
        "outputId": "a71f889a-91be-411c-db8f-44f57e2c45ba"
      },
      "source": [
        "print(numbers[1:3])\r\n",
        "print(numbers[1:2])  # slicing -> list\r\n",
        "print(numbers[1])  # 아이템 한개 선택 -> 숫자\r\n",
        "print(numbers[:3])\r\n",
        "print(numbers[3:])\r\n",
        "print(numbers[-3:])  # 리스트에서 끝에서 3개를 선택\r\n",
        "print(numbers[:])  # 첫번째 원소부터 마지막 원소까지"
      ],
      "execution_count": 17,
      "outputs": [
        {
          "output_type": "stream",
          "text": [
            "[2, 3]\n",
            "[2]\n",
            "2\n",
            "[1, 2, 3]\n",
            "[4, 5]\n",
            "[3, 4, 5]\n",
            "[1, 2, 3, 4, 5]\n"
          ],
          "name": "stdout"
        }
      ]
    },
    {
      "cell_type": "code",
      "metadata": {
        "colab": {
          "base_uri": "https://localhost:8080/"
        },
        "id": "XT2SrDj9BOSW",
        "outputId": "ddfb7280-f177-4d3d-fffa-b7e6dd4a17ae"
      },
      "source": [
        "# 문자열(str)도 일종의 list -> 리스트 인덱스, slicing 등을 사용할 수 있음.\r\n",
        "msg = '안녕하세요'\r\n",
        "print(msg[0])\r\n",
        "print(msg[-1])\r\n",
        "print(msg[:2])\r\n",
        "print(msg[-3:])"
      ],
      "execution_count": 21,
      "outputs": [
        {
          "output_type": "stream",
          "text": [
            "안\n",
            "요\n",
            "안녕\n",
            "하세요\n"
          ],
          "name": "stdout"
        }
      ]
    },
    {
      "cell_type": "code",
      "metadata": {
        "colab": {
          "base_uri": "https://localhost:8080/"
        },
        "id": "zg5U9WlBD54Y",
        "outputId": "001d0bb8-4c40-4c8a-b83e-2043aad32cad"
      },
      "source": [
        "# 리스트 + 리스트: 두개의 리스트를 이어붙여서 하나의 리스트를 만듦(concatenate)\r\n",
        "# 리스트 * 정수: 리스트의 아이템들을 정수만큼 반복해서 리스트를 늘림.\r\n",
        "print([1, 2, 3] + [4, 5, 6])\r\n",
        "print([1, 2] * 5)"
      ],
      "execution_count": 23,
      "outputs": [
        {
          "output_type": "stream",
          "text": [
            "[1, 2, 3, 4, 5, 6]\n",
            "[1, 2, 1, 2, 1, 2, 1, 2, 1, 2]\n"
          ],
          "name": "stdout"
        }
      ]
    },
    {
      "cell_type": "code",
      "metadata": {
        "colab": {
          "base_uri": "https://localhost:8080/"
        },
        "id": "as48FOZMEfGl",
        "outputId": "abb3be1e-b48d-4986-ddd6-037f2b32e289"
      },
      "source": [
        "# 다차원 리스트: 리스트를 아이템으로 갖는 리스트\r\n",
        "numbers = [\r\n",
        "           [1, 2, 3, 4], \r\n",
        "           [5, 6, 7], \r\n",
        "           [8, 9, 10, 11, 12]\r\n",
        "]\r\n",
        "print(numbers)"
      ],
      "execution_count": 29,
      "outputs": [
        {
          "output_type": "stream",
          "text": [
            "[[1, 2, 3, 4], [5, 6, 7], [8, 9, 10, 11, 12]]\n"
          ],
          "name": "stdout"
        }
      ]
    },
    {
      "cell_type": "code",
      "metadata": {
        "colab": {
          "base_uri": "https://localhost:8080/"
        },
        "id": "Hn0JQDIrGAP5",
        "outputId": "d1950c5a-0c05-46ff-8f9e-72d1e5f4a007"
      },
      "source": [
        "print(numbers[0])\r\n",
        "print(numbers[0][0])\r\n",
        "print(numbers[2][4])\r\n",
        "print(numbers[-1][-1])"
      ],
      "execution_count": 28,
      "outputs": [
        {
          "output_type": "stream",
          "text": [
            "[1, 2, 3, 4]\n",
            "1\n",
            "12\n",
            "12\n"
          ],
          "name": "stdout"
        }
      ]
    }
  ]
}