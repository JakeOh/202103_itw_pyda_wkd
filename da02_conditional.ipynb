{
  "nbformat": 4,
  "nbformat_minor": 0,
  "metadata": {
    "colab": {
      "name": "da02_conditional.ipynb",
      "provenance": [],
      "collapsed_sections": [],
      "authorship_tag": "ABX9TyNyzzUKxj2QDGqqTO26aKRd",
      "include_colab_link": true
    },
    "kernelspec": {
      "name": "python3",
      "display_name": "Python 3"
    }
  },
  "cells": [
    {
      "cell_type": "markdown",
      "metadata": {
        "id": "view-in-github",
        "colab_type": "text"
      },
      "source": [
        "<a href=\"https://colab.research.google.com/github/JakeOh/202103_itw_pyda_wkd/blob/main/da02_conditional.ipynb\" target=\"_parent\"><img src=\"https://colab.research.google.com/assets/colab-badge.svg\" alt=\"Open In Colab\"/></a>"
      ]
    },
    {
      "cell_type": "markdown",
      "metadata": {
        "id": "PplvCEzNgD1Y"
      },
      "source": [
        "# 조건문(Conditional Statement)"
      ]
    },
    {
      "cell_type": "markdown",
      "metadata": {
        "id": "B0Ybp7u_gMuN"
      },
      "source": [
        "**조건문**: \r\n",
        "*조건식(conditional expression)*을 만족하거나 만족하지 않는 경우에 따라서 다르게 실행하도록 작성하는 문장.\r\n",
        "\r\n",
        "```\r\n",
        "if 조건식:\r\n",
        "    조건식이 참일 때 실행할 문장(들)\r\n",
        "```\r\n"
      ]
    },
    {
      "cell_type": "code",
      "metadata": {
        "colab": {
          "base_uri": "https://localhost:8080/"
        },
        "id": "hh0F63_gfr1v",
        "outputId": "bfc92faa-a1c7-4c96-dc57-85a0b7f4b98b"
      },
      "source": [
        "age = -16\r\n",
        "if age > 0:\r\n",
        "    # if 조건이 참일 때 실행할 코드 블록\r\n",
        "    print('age:', age)\r\n",
        "\r\n",
        "# if 바깥 블록\r\n",
        "print('코드 끝')  # if 조건과 상관없이 순서대로 실행됨."
      ],
      "execution_count": 3,
      "outputs": [
        {
          "output_type": "stream",
          "text": [
            "코드 끝\n"
          ],
          "name": "stdout"
        }
      ]
    },
    {
      "cell_type": "markdown",
      "metadata": {
        "id": "bgTsaED3ji7n"
      },
      "source": [
        "**if-else 구문**\r\n",
        "\r\n",
        "```\r\n",
        "if 조건식:\r\n",
        "    조건식이 참일 때 실행할 코드 블록\r\n",
        "else:\r\n",
        "    조건식이 거짓일 때 실행할 코드 블록\r\n",
        "```\r\n"
      ]
    },
    {
      "cell_type": "code",
      "metadata": {
        "colab": {
          "base_uri": "https://localhost:8080/"
        },
        "id": "-csfV73SkN5G",
        "outputId": "9a26b9a1-c5f1-4d74-c79a-1d8aec445d66"
      },
      "source": [
        "age = -16\r\n",
        "if age >= 0:\r\n",
        "    print('age:', age)\r\n",
        "else:\r\n",
        "    print('나이는 0 이상이어야 합니다!')\r\n",
        "\r\n",
        "print('end code')"
      ],
      "execution_count": 5,
      "outputs": [
        {
          "output_type": "stream",
          "text": [
            "나이는 0 이상이어야 합니다!\n",
            "end code\n"
          ],
          "name": "stdout"
        }
      ]
    },
    {
      "cell_type": "markdown",
      "metadata": {
        "id": "OJ2a6meTlSy9"
      },
      "source": [
        "**if-elif-else 구문**\r\n",
        "\r\n",
        "```\r\n",
        "if condition1:\r\n",
        "    condition1을 만족할 때(True) 실행할 코드 블록\r\n",
        "elif condition2:\r\n",
        "    (condition1일 False이고, )condition2가 True일 때 실행할 코드 블록\r\n",
        "...\r\n",
        "else:\r\n",
        "    위의 모든 조건들이 거짓일 때 실행할 코드 블록\r\n",
        "```\r\n"
      ]
    },
    {
      "cell_type": "code",
      "metadata": {
        "colab": {
          "base_uri": "https://localhost:8080/"
        },
        "id": "qfsUhNEmmTIe",
        "outputId": "275a4713-352f-497d-a21f-abdb5c624ead"
      },
      "source": [
        "score = 55\r\n",
        "if score >= 90:\r\n",
        "    print('A')\r\n",
        "elif score >= 80:\r\n",
        "    print('B')\r\n",
        "elif score >= 70:\r\n",
        "    print('C')\r\n",
        "else:\r\n",
        "    print('F')"
      ],
      "execution_count": 11,
      "outputs": [
        {
          "output_type": "stream",
          "text": [
            "F\n"
          ],
          "name": "stdout"
        }
      ]
    },
    {
      "cell_type": "code",
      "metadata": {
        "colab": {
          "base_uri": "https://localhost:8080/"
        },
        "id": "EGNGY8mGmoDe",
        "outputId": "3395ba7c-88fa-4096-d410-b645c4cb0a5d"
      },
      "source": [
        "number = 11\r\n",
        "if number % 2 == 0:  # number를 2로 나눈 나머지가 0이면\r\n",
        "    print('짝수')\r\n",
        "else:\r\n",
        "    print('홀수')"
      ],
      "execution_count": 13,
      "outputs": [
        {
          "output_type": "stream",
          "text": [
            "홀수\n"
          ],
          "name": "stdout"
        }
      ]
    },
    {
      "cell_type": "markdown",
      "metadata": {
        "id": "oZi1JEHgorOG"
      },
      "source": [
        "Python에서 참(True)/거짓(False)\r\n",
        "\r\n",
        "*   숫자인 경우 0은 False 취급, 0이 아닌 숫자들은 True 취급\r\n",
        "*   문자열인 경우에 빈 문자열('')은 False 취급, 한글자 이상이면 True 취급\r\n",
        "*   리스트인 경우에 빈 리스트([])는 False 취급, 하나 이상의 원소를 갖는 리스트는 True 취급"
      ]
    },
    {
      "cell_type": "code",
      "metadata": {
        "colab": {
          "base_uri": "https://localhost:8080/"
        },
        "id": "A7Qn12LXoLW6",
        "outputId": "e10f18ea-6a62-4d50-ae42-cbe2f0345f32"
      },
      "source": [
        "if number % 2:  # number를 2로 나눈 나머지가 있으면\r\n",
        "    print('홀수')\r\n",
        "else:\r\n",
        "    print('짝수')"
      ],
      "execution_count": 14,
      "outputs": [
        {
          "output_type": "stream",
          "text": [
            "홀수\n"
          ],
          "name": "stdout"
        }
      ]
    },
    {
      "cell_type": "code",
      "metadata": {
        "id": "RsT_o6llp6dI"
      },
      "source": [
        ""
      ],
      "execution_count": null,
      "outputs": []
    }
  ]
}