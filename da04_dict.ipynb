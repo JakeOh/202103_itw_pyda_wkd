{
  "nbformat": 4,
  "nbformat_minor": 0,
  "metadata": {
    "colab": {
      "name": "da04_dict.ipynb",
      "provenance": [],
      "collapsed_sections": [],
      "authorship_tag": "ABX9TyO0UDeAvWMYwhA3F9eW5K56",
      "include_colab_link": true
    },
    "kernelspec": {
      "name": "python3",
      "display_name": "Python 3"
    }
  },
  "cells": [
    {
      "cell_type": "markdown",
      "metadata": {
        "id": "view-in-github",
        "colab_type": "text"
      },
      "source": [
        "<a href=\"https://colab.research.google.com/github/JakeOh/202103_itw_pyda_wkd/blob/main/da04_dict.ipynb\" target=\"_parent\"><img src=\"https://colab.research.google.com/assets/colab-badge.svg\" alt=\"Open In Colab\"/></a>"
      ]
    },
    {
      "cell_type": "markdown",
      "metadata": {
        "id": "-4kVih8SN-b6"
      },
      "source": [
        "`dict`: key-value 쌍으로 이루어진 데이터를 저장하는 (사전형) 자료 타입."
      ]
    },
    {
      "cell_type": "code",
      "metadata": {
        "id": "ycUyKim4N1nE"
      },
      "source": [
        "students = {1: '홍길동', 10: 'Abc', 2: 'Def'}"
      ],
      "execution_count": 4,
      "outputs": []
    },
    {
      "cell_type": "code",
      "metadata": {
        "colab": {
          "base_uri": "https://localhost:8080/"
        },
        "id": "eKG0FUWxPTpK",
        "outputId": "c0465778-87e9-43ed-f502-1a45008a100a"
      },
      "source": [
        "type(students)"
      ],
      "execution_count": 5,
      "outputs": [
        {
          "output_type": "execute_result",
          "data": {
            "text/plain": [
              "dict"
            ]
          },
          "metadata": {
            "tags": []
          },
          "execution_count": 5
        }
      ]
    },
    {
      "cell_type": "code",
      "metadata": {
        "colab": {
          "base_uri": "https://localhost:8080/"
        },
        "id": "mKiS0wM0PWCo",
        "outputId": "a9b1379c-ae80-4499-abdd-d1801d171282"
      },
      "source": [
        "print(students)"
      ],
      "execution_count": 6,
      "outputs": [
        {
          "output_type": "stream",
          "text": [
            "{1: '홍길동', 10: 'Abc', 2: 'Def'}\n"
          ],
          "name": "stdout"
        }
      ]
    },
    {
      "cell_type": "code",
      "metadata": {
        "colab": {
          "base_uri": "https://localhost:8080/"
        },
        "id": "b8M-mf9hPw_r",
        "outputId": "cd1c5064-9d7a-4bc8-da6c-f0912fb39b07"
      },
      "source": [
        "len(students)  # len(obj): obj의 길이(obj가 가지고 있는 아이템의 개수)"
      ],
      "execution_count": 7,
      "outputs": [
        {
          "output_type": "execute_result",
          "data": {
            "text/plain": [
              "3"
            ]
          },
          "metadata": {
            "tags": []
          },
          "execution_count": 7
        }
      ]
    },
    {
      "cell_type": "code",
      "metadata": {
        "colab": {
          "base_uri": "https://localhost:8080/"
        },
        "id": "P0J9viHFQMUL",
        "outputId": "e699ed7f-b758-4cc6-fa37-022804350895"
      },
      "source": [
        "# dict.keys() 메서드: dict가 가지고 있는 아이템의 key들만 리턴.\r\n",
        "students.keys()"
      ],
      "execution_count": 8,
      "outputs": [
        {
          "output_type": "execute_result",
          "data": {
            "text/plain": [
              "dict_keys([1, 10, 2])"
            ]
          },
          "metadata": {
            "tags": []
          },
          "execution_count": 8
        }
      ]
    },
    {
      "cell_type": "code",
      "metadata": {
        "colab": {
          "base_uri": "https://localhost:8080/"
        },
        "id": "tpVxqLdWQb6e",
        "outputId": "ff3b1e39-acfd-4f90-fc2b-878bb58a1d4b"
      },
      "source": [
        "# dict.values() 메서드: dict가 가지고 있는 아이템의 value들만 리턴.\r\n",
        "students.values()"
      ],
      "execution_count": 9,
      "outputs": [
        {
          "output_type": "execute_result",
          "data": {
            "text/plain": [
              "dict_values(['홍길동', 'Abc', 'Def'])"
            ]
          },
          "metadata": {
            "tags": []
          },
          "execution_count": 9
        }
      ]
    },
    {
      "cell_type": "code",
      "metadata": {
        "colab": {
          "base_uri": "https://localhost:8080/"
        },
        "id": "M3fstWGyQ9LM",
        "outputId": "07becbce-a6ca-4140-822b-538bbfbdab60"
      },
      "source": [
        "# dict.items() 메서드: (key, value) 튜플들의 리스트를 리턴.\r\n",
        "students.items()"
      ],
      "execution_count": 10,
      "outputs": [
        {
          "output_type": "execute_result",
          "data": {
            "text/plain": [
              "dict_items([(1, '홍길동'), (10, 'Abc'), (2, 'Def')])"
            ]
          },
          "metadata": {
            "tags": []
          },
          "execution_count": 10
        }
      ]
    },
    {
      "cell_type": "code",
      "metadata": {
        "colab": {
          "base_uri": "https://localhost:8080/",
          "height": 35
        },
        "id": "cPRGeJl5RhUk",
        "outputId": "83e80767-adfe-4dd0-aed6-fe755cd18947"
      },
      "source": [
        "# dict의 아이템의 값(value)을 접근할 때 dict[key]\r\n",
        "students[1]"
      ],
      "execution_count": 11,
      "outputs": [
        {
          "output_type": "execute_result",
          "data": {
            "application/vnd.google.colaboratory.intrinsic+json": {
              "type": "string"
            },
            "text/plain": [
              "'홍길동'"
            ]
          },
          "metadata": {
            "tags": []
          },
          "execution_count": 11
        }
      ]
    },
    {
      "cell_type": "code",
      "metadata": {
        "colab": {
          "base_uri": "https://localhost:8080/",
          "height": 35
        },
        "id": "lkhyRRxyR1C0",
        "outputId": "99236541-f16e-4cd8-8e6d-894a1c75d4a4"
      },
      "source": [
        "students[10]"
      ],
      "execution_count": 12,
      "outputs": [
        {
          "output_type": "execute_result",
          "data": {
            "application/vnd.google.colaboratory.intrinsic+json": {
              "type": "string"
            },
            "text/plain": [
              "'Abc'"
            ]
          },
          "metadata": {
            "tags": []
          },
          "execution_count": 12
        }
      ]
    },
    {
      "cell_type": "markdown",
      "metadata": {
        "id": "LhKz4x3BUxm1"
      },
      "source": [
        "dict와 for-in 반복문"
      ]
    },
    {
      "cell_type": "code",
      "metadata": {
        "colab": {
          "base_uri": "https://localhost:8080/"
        },
        "id": "MzVKYuj_UxSn",
        "outputId": "56454bbb-58a3-4614-f000-f3361e22409b"
      },
      "source": [
        "# for-in 구문에 dict 타입 객체를 사용하면 반복할 때마다 key만 추출해줌.\r\n",
        "for k in students:  # for k in students.keys():\r\n",
        "    print(k)"
      ],
      "execution_count": 13,
      "outputs": [
        {
          "output_type": "stream",
          "text": [
            "1\n",
            "10\n",
            "2\n"
          ],
          "name": "stdout"
        }
      ]
    },
    {
      "cell_type": "code",
      "metadata": {
        "colab": {
          "base_uri": "https://localhost:8080/"
        },
        "id": "MD9vvqu3WG8e",
        "outputId": "b5e3f375-c2d3-4448-a906-bdec23760495"
      },
      "source": [
        "for k in students:\r\n",
        "    print(k, ':', students[k])"
      ],
      "execution_count": 16,
      "outputs": [
        {
          "output_type": "stream",
          "text": [
            "1 : 홍길동\n",
            "10 : Abc\n",
            "2 : Def\n"
          ],
          "name": "stdout"
        }
      ]
    },
    {
      "cell_type": "code",
      "metadata": {
        "colab": {
          "base_uri": "https://localhost:8080/"
        },
        "id": "96cBSFMdV5DY",
        "outputId": "2fa4bd8c-bb6c-41a3-efbb-11912c75bf88"
      },
      "source": [
        "for v in students.values():\r\n",
        "    print(v)"
      ],
      "execution_count": 15,
      "outputs": [
        {
          "output_type": "stream",
          "text": [
            "홍길동\n",
            "Abc\n",
            "Def\n"
          ],
          "name": "stdout"
        }
      ]
    },
    {
      "cell_type": "code",
      "metadata": {
        "colab": {
          "base_uri": "https://localhost:8080/"
        },
        "id": "j0WAX-FCWAGO",
        "outputId": "769d6ebb-b30d-4d26-d2b7-dde4b22eaead"
      },
      "source": [
        "# decomposition\r\n",
        "x, y = [1, 2]\r\n",
        "print('x =', x)\r\n",
        "print('y =', y)"
      ],
      "execution_count": 20,
      "outputs": [
        {
          "output_type": "stream",
          "text": [
            "x = 1\n",
            "y = 2\n"
          ],
          "name": "stdout"
        }
      ]
    },
    {
      "cell_type": "code",
      "metadata": {
        "colab": {
          "base_uri": "https://localhost:8080/"
        },
        "id": "-u6sGlh-XUhA",
        "outputId": "210283cc-e236-4771-9270-fed31adb43aa"
      },
      "source": [
        "x, y = (1, 'gildong')  # tuple decomposition\r\n",
        "print('x =', x)\r\n",
        "print('y =', y)"
      ],
      "execution_count": 21,
      "outputs": [
        {
          "output_type": "stream",
          "text": [
            "x = 1\n",
            "y = gildong\n"
          ],
          "name": "stdout"
        }
      ]
    },
    {
      "cell_type": "code",
      "metadata": {
        "colab": {
          "base_uri": "https://localhost:8080/"
        },
        "id": "mk-eaNktXbRG",
        "outputId": "074599a8-3f7e-4dcb-c3e1-faed581c438e"
      },
      "source": [
        "for x in students.items():\r\n",
        "    print(x)"
      ],
      "execution_count": 22,
      "outputs": [
        {
          "output_type": "stream",
          "text": [
            "(1, '홍길동')\n",
            "(10, 'Abc')\n",
            "(2, 'Def')\n"
          ],
          "name": "stdout"
        }
      ]
    },
    {
      "cell_type": "code",
      "metadata": {
        "colab": {
          "base_uri": "https://localhost:8080/"
        },
        "id": "ktEZ-_xeX2op",
        "outputId": "4bb7983d-c256-46d4-f8ff-ca96c64c2309"
      },
      "source": [
        "for k, v in students.items():\r\n",
        "    print(k, v)"
      ],
      "execution_count": 24,
      "outputs": [
        {
          "output_type": "stream",
          "text": [
            "1 홍길동\n",
            "10 Abc\n",
            "2 Def\n"
          ],
          "name": "stdout"
        }
      ]
    },
    {
      "cell_type": "markdown",
      "metadata": {
        "id": "AHMUxoUiYfGH"
      },
      "source": [
        "dict 자료 타입의 아이템에서 사용되는 key와 value는 다양한 타입의 데이터들이 저장될 수 있음."
      ]
    },
    {
      "cell_type": "code",
      "metadata": {
        "id": "qCNxad1YYHYu"
      },
      "source": [
        "gildong = {'name': '홍길동',\r\n",
        "           'age': 16, \r\n",
        "           'is_married': False,\r\n",
        "           'phone': ['010-1111-2222', '02-1234-2222'],\r\n",
        "           'email': {'office': 'hgd@korea.com', 'personal': 'hgd@nave.com'}}"
      ],
      "execution_count": 25,
      "outputs": []
    },
    {
      "cell_type": "code",
      "metadata": {
        "colab": {
          "base_uri": "https://localhost:8080/",
          "height": 35
        },
        "id": "U9TkZdiVaAJk",
        "outputId": "4b964db2-f992-4127-f512-147071c22755"
      },
      "source": [
        "gildong['name']"
      ],
      "execution_count": 26,
      "outputs": [
        {
          "output_type": "execute_result",
          "data": {
            "application/vnd.google.colaboratory.intrinsic+json": {
              "type": "string"
            },
            "text/plain": [
              "'홍길동'"
            ]
          },
          "metadata": {
            "tags": []
          },
          "execution_count": 26
        }
      ]
    },
    {
      "cell_type": "code",
      "metadata": {
        "colab": {
          "base_uri": "https://localhost:8080/"
        },
        "id": "QQkxQViKaT0R",
        "outputId": "814b8ae9-c6dc-4025-d827-a31b65520762"
      },
      "source": [
        "gildong['age']"
      ],
      "execution_count": 27,
      "outputs": [
        {
          "output_type": "execute_result",
          "data": {
            "text/plain": [
              "16"
            ]
          },
          "metadata": {
            "tags": []
          },
          "execution_count": 27
        }
      ]
    },
    {
      "cell_type": "code",
      "metadata": {
        "colab": {
          "base_uri": "https://localhost:8080/",
          "height": 35
        },
        "id": "3ZgfiDWeaX5A",
        "outputId": "006f81a1-2a67-440b-d325-b11fa3e677c9"
      },
      "source": [
        "gildong['phone'][0]"
      ],
      "execution_count": 29,
      "outputs": [
        {
          "output_type": "execute_result",
          "data": {
            "application/vnd.google.colaboratory.intrinsic+json": {
              "type": "string"
            },
            "text/plain": [
              "'010-1111-2222'"
            ]
          },
          "metadata": {
            "tags": []
          },
          "execution_count": 29
        }
      ]
    },
    {
      "cell_type": "code",
      "metadata": {
        "colab": {
          "base_uri": "https://localhost:8080/",
          "height": 35
        },
        "id": "qhCcwlpaawOg",
        "outputId": "8923cc4c-e3f8-43bb-c1a1-71a79f0286f3"
      },
      "source": [
        "gildong['email']['personal']"
      ],
      "execution_count": 31,
      "outputs": [
        {
          "output_type": "execute_result",
          "data": {
            "application/vnd.google.colaboratory.intrinsic+json": {
              "type": "string"
            },
            "text/plain": [
              "'hgd@nave.com'"
            ]
          },
          "metadata": {
            "tags": []
          },
          "execution_count": 31
        }
      ]
    },
    {
      "cell_type": "code",
      "metadata": {
        "id": "IY1OUshmbSNY"
      },
      "source": [
        "stu_id = [10, 20, 30]\r\n",
        "stu_name = ['aaa', 'bbb', 'ccc']"
      ],
      "execution_count": 32,
      "outputs": []
    },
    {
      "cell_type": "markdown",
      "metadata": {
        "id": "_Ly7i2hwcOXS"
      },
      "source": [
        "*   range(stop): 0 <= n < stop 인 정수.\r\n",
        "*   range(start, stop): start <= n < stop 인 정수.\r\n",
        "*   range(start, stop, step)\r\n",
        "    *   step > 0: start <= n < stop 범위의 step씩 증가하는 정수.\r\n",
        "    *   step < 0: start >= n > stop 범위의 step씩 감소하는 정수."
      ]
    },
    {
      "cell_type": "code",
      "metadata": {
        "colab": {
          "base_uri": "https://localhost:8080/"
        },
        "id": "2uVSBwr4cCXI",
        "outputId": "21f4e56e-f9d0-4abf-c61a-b2ab8df2cbb7"
      },
      "source": [
        "students = {}  # 빈 딕셔너리(empty dict)\r\n",
        "# dict students에 id:name을 저장.\r\n",
        "for i in range(3):\r\n",
        "    students[stu_id[i]] = stu_name[i]\r\n",
        "\r\n",
        "print(students)"
      ],
      "execution_count": 35,
      "outputs": [
        {
          "output_type": "stream",
          "text": [
            "{10: 'aaa', 20: 'bbb', 30: 'ccc'}\n"
          ],
          "name": "stdout"
        }
      ]
    },
    {
      "cell_type": "code",
      "metadata": {
        "colab": {
          "base_uri": "https://localhost:8080/"
        },
        "id": "REhRc32Dds4M",
        "outputId": "cb6d12b5-d043-4c78-8acd-28d51abec246"
      },
      "source": [
        "students2 = {}\r\n",
        "for id, name in zip(stu_id, stu_name):\r\n",
        "    students2[id] = name\r\n",
        "\r\n",
        "print(students2)"
      ],
      "execution_count": 40,
      "outputs": [
        {
          "output_type": "stream",
          "text": [
            "{10: 'aaa', 20: 'bbb', 30: 'ccc'}\n"
          ],
          "name": "stdout"
        }
      ]
    },
    {
      "cell_type": "code",
      "metadata": {
        "colab": {
          "base_uri": "https://localhost:8080/"
        },
        "id": "xIFOK6dijkDu",
        "outputId": "b2c29a74-66d5-4e44-b362-d2aa5652f6dd"
      },
      "source": [
        "# list comprehension\r\n",
        "[x for x in range(10)]"
      ],
      "execution_count": 44,
      "outputs": [
        {
          "output_type": "execute_result",
          "data": {
            "text/plain": [
              "[0, 1, 2, 3, 4, 5, 6, 7, 8, 9]"
            ]
          },
          "metadata": {
            "tags": []
          },
          "execution_count": 44
        }
      ]
    },
    {
      "cell_type": "code",
      "metadata": {
        "colab": {
          "base_uri": "https://localhost:8080/"
        },
        "id": "OUdft5tIjtHl",
        "outputId": "ac2d36e3-06d9-4db5-aff5-caef0f464f75"
      },
      "source": [
        "# dictionay comprehnsion\r\n",
        "{k:v for k, v in zip(stu_id, stu_name)}"
      ],
      "execution_count": 45,
      "outputs": [
        {
          "output_type": "execute_result",
          "data": {
            "text/plain": [
              "{10: 'aaa', 20: 'bbb', 30: 'ccc'}"
            ]
          },
          "metadata": {
            "tags": []
          },
          "execution_count": 45
        }
      ]
    },
    {
      "cell_type": "code",
      "metadata": {
        "id": "uM18db_ij8O1"
      },
      "source": [
        ""
      ],
      "execution_count": null,
      "outputs": []
    }
  ]
}