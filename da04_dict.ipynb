{
  "nbformat": 4,
  "nbformat_minor": 0,
  "metadata": {
    "colab": {
      "name": "da04_dict.ipynb",
      "provenance": [],
      "collapsed_sections": [],
      "authorship_tag": "ABX9TyMX6B6NoZCIa6VS4xIME83Y",
      "include_colab_link": true
    },
    "kernelspec": {
      "name": "python3",
      "display_name": "Python 3"
    }
  },
  "cells": [
    {
      "cell_type": "markdown",
      "metadata": {
        "id": "view-in-github",
        "colab_type": "text"
      },
      "source": [
        "<a href=\"https://colab.research.google.com/github/JakeOh/202103_itw_pyda_wkd/blob/main/da04_dict.ipynb\" target=\"_parent\"><img src=\"https://colab.research.google.com/assets/colab-badge.svg\" alt=\"Open In Colab\"/></a>"
      ]
    },
    {
      "cell_type": "markdown",
      "metadata": {
        "id": "-4kVih8SN-b6"
      },
      "source": [
        "`dict`: key-value 쌍으로 이루어진 데이터를 저장하는 (사전형) 자료 타입."
      ]
    },
    {
      "cell_type": "code",
      "metadata": {
        "id": "ycUyKim4N1nE"
      },
      "source": [
        "students = {1: '홍길동', 10: 'Abc', 2: 'Def'}"
      ],
      "execution_count": 4,
      "outputs": []
    },
    {
      "cell_type": "code",
      "metadata": {
        "colab": {
          "base_uri": "https://localhost:8080/"
        },
        "id": "eKG0FUWxPTpK",
        "outputId": "c0465778-87e9-43ed-f502-1a45008a100a"
      },
      "source": [
        "type(students)"
      ],
      "execution_count": 5,
      "outputs": [
        {
          "output_type": "execute_result",
          "data": {
            "text/plain": [
              "dict"
            ]
          },
          "metadata": {
            "tags": []
          },
          "execution_count": 5
        }
      ]
    },
    {
      "cell_type": "code",
      "metadata": {
        "colab": {
          "base_uri": "https://localhost:8080/"
        },
        "id": "mKiS0wM0PWCo",
        "outputId": "a9b1379c-ae80-4499-abdd-d1801d171282"
      },
      "source": [
        "print(students)"
      ],
      "execution_count": 6,
      "outputs": [
        {
          "output_type": "stream",
          "text": [
            "{1: '홍길동', 10: 'Abc', 2: 'Def'}\n"
          ],
          "name": "stdout"
        }
      ]
    },
    {
      "cell_type": "code",
      "metadata": {
        "colab": {
          "base_uri": "https://localhost:8080/"
        },
        "id": "b8M-mf9hPw_r",
        "outputId": "cd1c5064-9d7a-4bc8-da6c-f0912fb39b07"
      },
      "source": [
        "len(students)  # len(obj): obj의 길이(obj가 가지고 있는 아이템의 개수)"
      ],
      "execution_count": 7,
      "outputs": [
        {
          "output_type": "execute_result",
          "data": {
            "text/plain": [
              "3"
            ]
          },
          "metadata": {
            "tags": []
          },
          "execution_count": 7
        }
      ]
    },
    {
      "cell_type": "code",
      "metadata": {
        "colab": {
          "base_uri": "https://localhost:8080/"
        },
        "id": "P0J9viHFQMUL",
        "outputId": "e699ed7f-b758-4cc6-fa37-022804350895"
      },
      "source": [
        "# dict.keys() 메서드: dict가 가지고 있는 아이템의 key들만 리턴.\r\n",
        "students.keys()"
      ],
      "execution_count": 8,
      "outputs": [
        {
          "output_type": "execute_result",
          "data": {
            "text/plain": [
              "dict_keys([1, 10, 2])"
            ]
          },
          "metadata": {
            "tags": []
          },
          "execution_count": 8
        }
      ]
    },
    {
      "cell_type": "code",
      "metadata": {
        "colab": {
          "base_uri": "https://localhost:8080/"
        },
        "id": "tpVxqLdWQb6e",
        "outputId": "ff3b1e39-acfd-4f90-fc2b-878bb58a1d4b"
      },
      "source": [
        "# dict.values() 메서드: dict가 가지고 있는 아이템의 value들만 리턴.\r\n",
        "students.values()"
      ],
      "execution_count": 9,
      "outputs": [
        {
          "output_type": "execute_result",
          "data": {
            "text/plain": [
              "dict_values(['홍길동', 'Abc', 'Def'])"
            ]
          },
          "metadata": {
            "tags": []
          },
          "execution_count": 9
        }
      ]
    },
    {
      "cell_type": "code",
      "metadata": {
        "colab": {
          "base_uri": "https://localhost:8080/"
        },
        "id": "M3fstWGyQ9LM",
        "outputId": "07becbce-a6ca-4140-822b-538bbfbdab60"
      },
      "source": [
        "# dict.items() 메서드: (key, value) 튜플들의 리스트를 리턴.\r\n",
        "students.items()"
      ],
      "execution_count": 10,
      "outputs": [
        {
          "output_type": "execute_result",
          "data": {
            "text/plain": [
              "dict_items([(1, '홍길동'), (10, 'Abc'), (2, 'Def')])"
            ]
          },
          "metadata": {
            "tags": []
          },
          "execution_count": 10
        }
      ]
    },
    {
      "cell_type": "code",
      "metadata": {
        "colab": {
          "base_uri": "https://localhost:8080/",
          "height": 35
        },
        "id": "cPRGeJl5RhUk",
        "outputId": "83e80767-adfe-4dd0-aed6-fe755cd18947"
      },
      "source": [
        "# dict의 아이템의 값(value)을 접근할 때 dict[key]\r\n",
        "students[1]"
      ],
      "execution_count": 11,
      "outputs": [
        {
          "output_type": "execute_result",
          "data": {
            "application/vnd.google.colaboratory.intrinsic+json": {
              "type": "string"
            },
            "text/plain": [
              "'홍길동'"
            ]
          },
          "metadata": {
            "tags": []
          },
          "execution_count": 11
        }
      ]
    },
    {
      "cell_type": "code",
      "metadata": {
        "colab": {
          "base_uri": "https://localhost:8080/",
          "height": 35
        },
        "id": "lkhyRRxyR1C0",
        "outputId": "99236541-f16e-4cd8-8e6d-894a1c75d4a4"
      },
      "source": [
        "students[10]"
      ],
      "execution_count": 12,
      "outputs": [
        {
          "output_type": "execute_result",
          "data": {
            "application/vnd.google.colaboratory.intrinsic+json": {
              "type": "string"
            },
            "text/plain": [
              "'Abc'"
            ]
          },
          "metadata": {
            "tags": []
          },
          "execution_count": 12
        }
      ]
    }
  ]
}