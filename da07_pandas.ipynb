{
  "nbformat": 4,
  "nbformat_minor": 0,
  "metadata": {
    "colab": {
      "name": "da07_pandas.ipynb",
      "provenance": [],
      "collapsed_sections": [],
      "authorship_tag": "ABX9TyPrDmOFieFSsKGesjLQ+MhO",
      "include_colab_link": true
    },
    "kernelspec": {
      "name": "python3",
      "display_name": "Python 3"
    },
    "language_info": {
      "name": "python"
    }
  },
  "cells": [
    {
      "cell_type": "markdown",
      "metadata": {
        "id": "view-in-github",
        "colab_type": "text"
      },
      "source": [
        "<a href=\"https://colab.research.google.com/github/JakeOh/202103_itw_pyda_wkd/blob/main/da07_pandas.ipynb\" target=\"_parent\"><img src=\"https://colab.research.google.com/assets/colab-badge.svg\" alt=\"Open In Colab\"/></a>"
      ]
    },
    {
      "cell_type": "code",
      "metadata": {
        "id": "g6oWmGmwN7T3"
      },
      "source": [
        "# 패키지 임포트\n",
        "import pandas as pd"
      ],
      "execution_count": 1,
      "outputs": []
    },
    {
      "cell_type": "markdown",
      "metadata": {
        "id": "XCJa3A62OUaZ"
      },
      "source": [
        "pandas 패키지의 주요 데이터 타입(클래스): Series, DataFrame\n",
        "\n",
        "*   Series: 1차원 형태의 배열과 비슷한 타입.\n",
        "    *   한가지 타입의 데이터만 저장할 수 있음.\n",
        "*   DataFrame: 2차원 형태의 배열(행, 열)과 비슷한 타입.\n",
        "    *   각 컬럼에는 같은 타입의 데이터가 저장.\n",
        "*  Series, DataFrame이 numpy.ndarray 클래스와 다른 점은 인덱스를 설정할 수 있다는 점."
      ]
    },
    {
      "cell_type": "code",
      "metadata": {
        "id": "TnH1qUZHOQ0R"
      },
      "source": [
        "s = pd.Series(data=[1, 10, 5, 9])"
      ],
      "execution_count": 2,
      "outputs": []
    },
    {
      "cell_type": "code",
      "metadata": {
        "colab": {
          "base_uri": "https://localhost:8080/"
        },
        "id": "8TWbGhlJP1Ur",
        "outputId": "2f76b8e4-8707-453f-916e-846db0216a46"
      },
      "source": [
        "s\n",
        "#> pd.Series를 출력하면 인덱스, 데이터, 데이터 타입이 함께 출력됨."
      ],
      "execution_count": 5,
      "outputs": [
        {
          "output_type": "execute_result",
          "data": {
            "text/plain": [
              "0     1\n",
              "1    10\n",
              "2     5\n",
              "3     9\n",
              "dtype: int64"
            ]
          },
          "metadata": {
            "tags": []
          },
          "execution_count": 5
        }
      ]
    },
    {
      "cell_type": "code",
      "metadata": {
        "colab": {
          "base_uri": "https://localhost:8080/"
        },
        "id": "SlgtUrdVP2BD",
        "outputId": "0970be09-845f-42f0-cb71-e9e2c6f9a66c"
      },
      "source": [
        "s[1]  # 인덱스를 이용해서 데이터 선택"
      ],
      "execution_count": 6,
      "outputs": [
        {
          "output_type": "execute_result",
          "data": {
            "text/plain": [
              "10"
            ]
          },
          "metadata": {
            "tags": []
          },
          "execution_count": 6
        }
      ]
    },
    {
      "cell_type": "code",
      "metadata": {
        "colab": {
          "base_uri": "https://localhost:8080/"
        },
        "id": "cbSZ3AM3Qh3c",
        "outputId": "155910e1-95a8-4492-d559-c327be3868b1"
      },
      "source": [
        "s.shape"
      ],
      "execution_count": 7,
      "outputs": [
        {
          "output_type": "execute_result",
          "data": {
            "text/plain": [
              "(4,)"
            ]
          },
          "metadata": {
            "tags": []
          },
          "execution_count": 7
        }
      ]
    },
    {
      "cell_type": "code",
      "metadata": {
        "colab": {
          "base_uri": "https://localhost:8080/"
        },
        "id": "YwFLaaqBQ37g",
        "outputId": "85c25b8d-da61-4e4a-e34e-4ea0a2a51eb9"
      },
      "source": [
        "s.dtype"
      ],
      "execution_count": 8,
      "outputs": [
        {
          "output_type": "execute_result",
          "data": {
            "text/plain": [
              "dtype('int64')"
            ]
          },
          "metadata": {
            "tags": []
          },
          "execution_count": 8
        }
      ]
    },
    {
      "cell_type": "code",
      "metadata": {
        "id": "i6f0cMDhRBlQ"
      },
      "source": [
        "s = pd.Series(data=[1, 10, 5, 9],\n",
        "              index=['a', 'z', 'b', 'y'])"
      ],
      "execution_count": 9,
      "outputs": []
    },
    {
      "cell_type": "code",
      "metadata": {
        "colab": {
          "base_uri": "https://localhost:8080/"
        },
        "id": "Fd8DEpFYRVaV",
        "outputId": "94b20e91-52d7-415f-8d9a-af43f223c0c2"
      },
      "source": [
        "s"
      ],
      "execution_count": 10,
      "outputs": [
        {
          "output_type": "execute_result",
          "data": {
            "text/plain": [
              "a     1\n",
              "z    10\n",
              "b     5\n",
              "y     9\n",
              "dtype: int64"
            ]
          },
          "metadata": {
            "tags": []
          },
          "execution_count": 10
        }
      ]
    },
    {
      "cell_type": "code",
      "metadata": {
        "colab": {
          "base_uri": "https://localhost:8080/"
        },
        "id": "QsxQ-BzbRWIO",
        "outputId": "9c9d6872-8422-4f91-94a4-d3d4af530bd3"
      },
      "source": [
        "s['z']"
      ],
      "execution_count": 11,
      "outputs": [
        {
          "output_type": "execute_result",
          "data": {
            "text/plain": [
              "10"
            ]
          },
          "metadata": {
            "tags": []
          },
          "execution_count": 11
        }
      ]
    },
    {
      "cell_type": "markdown",
      "metadata": {
        "id": "OjVY5ZkHR4zi"
      },
      "source": [
        "\n",
        "*   `pd.Series.loc[레이블 기반 인덱스]`\n",
        "*   `pd.Series.iloc[위치(정수) 기반 인덱스]`\n"
      ]
    },
    {
      "cell_type": "code",
      "metadata": {
        "colab": {
          "base_uri": "https://localhost:8080/"
        },
        "id": "0w-DmIn2RrUK",
        "outputId": "e1bbdffe-1f2e-45d3-a7a6-7da98516bb77"
      },
      "source": [
        "s.loc['z']"
      ],
      "execution_count": 13,
      "outputs": [
        {
          "output_type": "execute_result",
          "data": {
            "text/plain": [
              "10"
            ]
          },
          "metadata": {
            "tags": []
          },
          "execution_count": 13
        }
      ]
    },
    {
      "cell_type": "code",
      "metadata": {
        "colab": {
          "base_uri": "https://localhost:8080/"
        },
        "id": "pf5T1NE4SVrt",
        "outputId": "9770ad09-f6ae-4507-eada-806b447cb589"
      },
      "source": [
        "s.iloc[1]"
      ],
      "execution_count": 15,
      "outputs": [
        {
          "output_type": "execute_result",
          "data": {
            "text/plain": [
              "10"
            ]
          },
          "metadata": {
            "tags": []
          },
          "execution_count": 15
        }
      ]
    },
    {
      "cell_type": "code",
      "metadata": {
        "colab": {
          "base_uri": "https://localhost:8080/"
        },
        "id": "derJmzTYSl0X",
        "outputId": "22c5240d-08ed-4735-d82d-72ddfb661e3f"
      },
      "source": [
        "s.loc['a':'b']\n",
        "#> 인덱스 'a'부터 'b'까지 슬라이싱. 인덱스 'b'가 포함."
      ],
      "execution_count": 17,
      "outputs": [
        {
          "output_type": "execute_result",
          "data": {
            "text/plain": [
              "a     1\n",
              "z    10\n",
              "b     5\n",
              "dtype: int64"
            ]
          },
          "metadata": {
            "tags": []
          },
          "execution_count": 17
        }
      ]
    },
    {
      "cell_type": "code",
      "metadata": {
        "colab": {
          "base_uri": "https://localhost:8080/"
        },
        "id": "KN-dPmGyS-Bn",
        "outputId": "077bc304-f6be-4317-bff5-491e6bee061a"
      },
      "source": [
        "s.iloc[0:2]\n",
        "#> 0 <= i < 2의 위치에 있는 아이템들을 slicing."
      ],
      "execution_count": 19,
      "outputs": [
        {
          "output_type": "execute_result",
          "data": {
            "text/plain": [
              "a     1\n",
              "z    10\n",
              "dtype: int64"
            ]
          },
          "metadata": {
            "tags": []
          },
          "execution_count": 19
        }
      ]
    },
    {
      "cell_type": "code",
      "metadata": {
        "id": "C8hN30-gTMnM"
      },
      "source": [
        "s = pd.Series(data=[1, 10, 5, 9])"
      ],
      "execution_count": 20,
      "outputs": []
    },
    {
      "cell_type": "code",
      "metadata": {
        "colab": {
          "base_uri": "https://localhost:8080/"
        },
        "id": "KS8X3nVkUQss",
        "outputId": "d69721b9-3123-45fe-98ff-123f34b446f9"
      },
      "source": [
        "s"
      ],
      "execution_count": 21,
      "outputs": [
        {
          "output_type": "execute_result",
          "data": {
            "text/plain": [
              "0     1\n",
              "1    10\n",
              "2     5\n",
              "3     9\n",
              "dtype: int64"
            ]
          },
          "metadata": {
            "tags": []
          },
          "execution_count": 21
        }
      ]
    },
    {
      "cell_type": "code",
      "metadata": {
        "colab": {
          "base_uri": "https://localhost:8080/"
        },
        "id": "JaBe0xmjURtH",
        "outputId": "a4e9088c-173f-46a8-c075-df4d88a5dc21"
      },
      "source": [
        "s.loc[0:2]"
      ],
      "execution_count": 22,
      "outputs": [
        {
          "output_type": "execute_result",
          "data": {
            "text/plain": [
              "0     1\n",
              "1    10\n",
              "2     5\n",
              "dtype: int64"
            ]
          },
          "metadata": {
            "tags": []
          },
          "execution_count": 22
        }
      ]
    },
    {
      "cell_type": "code",
      "metadata": {
        "colab": {
          "base_uri": "https://localhost:8080/"
        },
        "id": "4KL5a9HXUaEK",
        "outputId": "74c1eed1-42e6-4b74-9a6b-6e0188fe3e2c"
      },
      "source": [
        "s.iloc[0:2]"
      ],
      "execution_count": 23,
      "outputs": [
        {
          "output_type": "execute_result",
          "data": {
            "text/plain": [
              "0     1\n",
              "1    10\n",
              "dtype: int64"
            ]
          },
          "metadata": {
            "tags": []
          },
          "execution_count": 23
        }
      ]
    },
    {
      "cell_type": "code",
      "metadata": {
        "id": "5I2txXsjUbuH"
      },
      "source": [
        ""
      ],
      "execution_count": null,
      "outputs": []
    }
  ]
}