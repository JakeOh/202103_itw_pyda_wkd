{
  "nbformat": 4,
  "nbformat_minor": 0,
  "metadata": {
    "colab": {
      "name": "python_intro.ipynb",
      "provenance": [],
      "collapsed_sections": [],
      "authorship_tag": "ABX9TyPT3D9sDeInbD/gGtbMBIku",
      "include_colab_link": true
    },
    "kernelspec": {
      "name": "python3",
      "display_name": "Python 3"
    }
  },
  "cells": [
    {
      "cell_type": "markdown",
      "metadata": {
        "id": "view-in-github",
        "colab_type": "text"
      },
      "source": [
        "<a href=\"https://colab.research.google.com/github/JakeOh/202103_itw_pyda_wkd/blob/main/python_intro.ipynb\" target=\"_parent\"><img src=\"https://colab.research.google.com/assets/colab-badge.svg\" alt=\"Open In Colab\"/></a>"
      ]
    },
    {
      "cell_type": "markdown",
      "metadata": {
        "id": "rMkrOQo2Ji4_"
      },
      "source": [
        "# Python Introduction"
      ]
    },
    {
      "cell_type": "code",
      "metadata": {
        "colab": {
          "base_uri": "https://localhost:8080/"
        },
        "id": "OCqPQ5oZHz4v",
        "outputId": "1ee1086e-e520-442a-d598-f677eab96fa2"
      },
      "source": [
        "print('Hello python!')"
      ],
      "execution_count": null,
      "outputs": [
        {
          "output_type": "stream",
          "text": [
            "Hello python!\n"
          ],
          "name": "stdout"
        }
      ]
    },
    {
      "cell_type": "markdown",
      "metadata": {
        "id": "T6twXmoQKoqO"
      },
      "source": [
        "*   코드 실행 방법:\r\n",
        "    *   실행 버튼 클릭\r\n",
        "    *   Ctrl+Enter: 코드를 실행하고 현재 셀에 커서를 위치.\r\n",
        "    *   Shift+Enter: 코드를 실행하고 다음 셀에 커서를 위치. 아래에 셀이 없는 경우 새로운 코드 셀을 자동으로 만들어줌.\r\n",
        "    *   Alt+Enter: 코드를 실행하고, 바로 밑에 새로운 셀을 생성.\r\n",
        "    *   런타임 메뉴의 기능 사용."
      ]
    },
    {
      "cell_type": "code",
      "metadata": {
        "id": "0ht69aG9MLsu"
      },
      "source": [
        ""
      ],
      "execution_count": null,
      "outputs": []
    }
  ]
}