{
  "nbformat": 4,
  "nbformat_minor": 0,
  "metadata": {
    "colab": {
      "name": "da01_variable.ipynb",
      "provenance": [],
      "collapsed_sections": [],
      "authorship_tag": "ABX9TyN3ZBXFD69O/PISYe+8FTv+",
      "include_colab_link": true
    },
    "kernelspec": {
      "name": "python3",
      "display_name": "Python 3"
    }
  },
  "cells": [
    {
      "cell_type": "markdown",
      "metadata": {
        "id": "view-in-github",
        "colab_type": "text"
      },
      "source": [
        "<a href=\"https://colab.research.google.com/github/JakeOh/202103_itw_pyda_wkd/blob/main/da01_variable.ipynb\" target=\"_parent\"><img src=\"https://colab.research.google.com/assets/colab-badge.svg\" alt=\"Open In Colab\"/></a>"
      ]
    },
    {
      "cell_type": "markdown",
      "metadata": {
        "id": "lLytbdbWN-Gt"
      },
      "source": [
        "# 변수(Variable)"
      ]
    },
    {
      "cell_type": "markdown",
      "metadata": {
        "id": "tqP521KfSQ1H"
      },
      "source": [
        "*   변수(variable): 데이터(자료)를 저장하는 메모리 공간.\r\n",
        "*   데이터(자료): 숫자, 문자열, 논리값(True/Falase), ..."
      ]
    },
    {
      "cell_type": "code",
      "metadata": {
        "colab": {
          "base_uri": "https://localhost:8080/"
        },
        "id": "SdL47f0NNchE",
        "outputId": "b9ecce2a-8067-4623-a3df-1060535f82b9"
      },
      "source": [
        "# 주석(comment): 코드 설명. Python이 실행하지 않는 문장.\r\n",
        "# 변수이름 = 값\r\n",
        "x = 100\r\n",
        "print(x)\r\n",
        "print(x + 100)"
      ],
      "execution_count": 2,
      "outputs": [
        {
          "output_type": "stream",
          "text": [
            "100\n",
            "200\n"
          ],
          "name": "stdout"
        }
      ]
    },
    {
      "cell_type": "code",
      "metadata": {
        "colab": {
          "base_uri": "https://localhost:8080/"
        },
        "id": "ygW98SdzOecA",
        "outputId": "97730713-8ffe-45c9-e6a4-34364b9cb39d"
      },
      "source": [
        "# 문자열(string): 하나 이상의 문자들로 이루어진 배열.\r\n",
        "# 문자열은 작은따옴표('') 또는 큰따옴표(\"\")로 감싸줌.\r\n",
        "name = '오쌤'\r\n",
        "print(name)"
      ],
      "execution_count": 3,
      "outputs": [
        {
          "output_type": "stream",
          "text": [
            "오쌤\n"
          ],
          "name": "stdout"
        }
      ]
    },
    {
      "cell_type": "code",
      "metadata": {
        "colab": {
          "base_uri": "https://localhost:8080/"
        },
        "id": "rdrw1GZsTn6h",
        "outputId": "faa914ff-ba55-49a7-a4fc-ade21f1b996e"
      },
      "source": [
        "x = '100'  # 숫자가 아니라 문자열\r\n",
        "type(x)  # 변수 x의 데이터 타입을 알려주는 함수."
      ],
      "execution_count": 5,
      "outputs": [
        {
          "output_type": "execute_result",
          "data": {
            "text/plain": [
              "str"
            ]
          },
          "metadata": {
            "tags": []
          },
          "execution_count": 5
        }
      ]
    },
    {
      "cell_type": "code",
      "metadata": {
        "colab": {
          "base_uri": "https://localhost:8080/"
        },
        "id": "QQtewC28Ubym",
        "outputId": "be955ca8-bb79-4534-c737-18498ef2bf63"
      },
      "source": [
        "# 논릿값(bool): True 또는 False\r\n",
        "true_or_not = (99 > 100)\r\n",
        "print(true_or_not)"
      ],
      "execution_count": 7,
      "outputs": [
        {
          "output_type": "stream",
          "text": [
            "False\n"
          ],
          "name": "stdout"
        }
      ]
    },
    {
      "cell_type": "markdown",
      "metadata": {
        "id": "3bubVkhwWF9P"
      },
      "source": [
        "# 연산자(Operator)"
      ]
    },
    {
      "cell_type": "code",
      "metadata": {
        "colab": {
          "base_uri": "https://localhost:8080/"
        },
        "id": "NzthpHrrVexd",
        "outputId": "edb80789-7299-4574-88f1-1f235491fc66"
      },
      "source": [
        "x = 123\r\n",
        "y = 100\r\n",
        "print('x + y =', (x + y))\r\n",
        "print('x - y =', (x - y))\r\n",
        "print('x * y =', (x * y))\r\n",
        "print('x / y =', (x / y))  # 소숫점까지 나누기 계산\r\n",
        "print('x // y =', (x // y))  # 나눈 몫\r\n",
        "print('x % y =', (x % y))  # 나눈 나머지\r\n",
        "print('y ** 2 =', (y ** 2))  # 거듭제곱(n제곱)"
      ],
      "execution_count": 19,
      "outputs": [
        {
          "output_type": "stream",
          "text": [
            "x + y = 223\n",
            "x - y = 23\n",
            "x * y = 12300\n",
            "x / y = 1.23\n",
            "x // y = 1\n",
            "x % y = 23\n",
            "y ** 2 = 10000\n"
          ],
          "name": "stdout"
        }
      ]
    },
    {
      "cell_type": "code",
      "metadata": {
        "colab": {
          "base_uri": "https://localhost:8080/"
        },
        "id": "CYvtcYJeXsUM",
        "outputId": "bc2c050d-b271-47a1-be00-f65af464a36f"
      },
      "source": [
        "# 문자열 + 문자열: 두개의 문자열을 이어붙임(concatenate)\r\n",
        "# 문자열 * 정수: 문자열을 정수만큼 반복\r\n",
        "print('hello' + 'python')\r\n",
        "print('-' * 10)"
      ],
      "execution_count": 23,
      "outputs": [
        {
          "output_type": "stream",
          "text": [
            "hellopython\n",
            "----------\n"
          ],
          "name": "stdout"
        }
      ]
    },
    {
      "cell_type": "code",
      "metadata": {
        "colab": {
          "base_uri": "https://localhost:8080/"
        },
        "id": "SNfOtOTWZCkY",
        "outputId": "15ca212b-9cb4-4005-be21-0d1b0085a6af"
      },
      "source": [
        "# 비교 연산: >, >=, <, <=, ==, !=\r\n",
        "x = 100\r\n",
        "y = 99\r\n",
        "print(x == y)  # x가 y와 같은가요?\r\n",
        "print(x != y)  # x가 y와 다른가요?\r\n",
        "print(x > y)  # x가 y보다 큰가요?"
      ],
      "execution_count": 26,
      "outputs": [
        {
          "output_type": "stream",
          "text": [
            "False\n",
            "True\n",
            "True\n"
          ],
          "name": "stdout"
        }
      ]
    },
    {
      "cell_type": "code",
      "metadata": {
        "colab": {
          "base_uri": "https://localhost:8080/"
        },
        "id": "4uNwydRmaBne",
        "outputId": "4c7f095a-9cdc-4658-84b8-8643c80e1253"
      },
      "source": [
        "# 논리 연산: and, or, not\r\n",
        "# A and B: A와 B가 모두 True일 때만 True, 그 이외에는 False.\r\n",
        "# A or B: A와 B 중 적어도 하나가 True이면 True, A와 B 모두 False이면 False.\r\n",
        "# not A: True -> False, False -> True\r\n",
        "x, y = 10, 7\r\n",
        "print((x > 5) and (y > 10))  # True and False = False\r\n",
        "print((x > 5) or (y > 10))  # True or False = True\r\n",
        "print(not (x > 5))  # not True = False"
      ],
      "execution_count": 30,
      "outputs": [
        {
          "output_type": "stream",
          "text": [
            "False\n",
            "True\n",
            "False\n"
          ],
          "name": "stdout"
        }
      ]
    },
    {
      "cell_type": "code",
      "metadata": {
        "id": "KQ__788FbcPH"
      },
      "source": [
        ""
      ],
      "execution_count": null,
      "outputs": []
    }
  ]
}