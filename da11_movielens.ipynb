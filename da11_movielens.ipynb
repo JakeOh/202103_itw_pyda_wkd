{
  "nbformat": 4,
  "nbformat_minor": 0,
  "metadata": {
    "colab": {
      "name": "da11_movielens.ipynb",
      "provenance": [],
      "collapsed_sections": [],
      "authorship_tag": "ABX9TyO44hbT32TL2gREboATCNx4",
      "include_colab_link": true
    },
    "kernelspec": {
      "name": "python3",
      "display_name": "Python 3"
    },
    "language_info": {
      "name": "python"
    }
  },
  "cells": [
    {
      "cell_type": "markdown",
      "metadata": {
        "id": "view-in-github",
        "colab_type": "text"
      },
      "source": [
        "<a href=\"https://colab.research.google.com/github/JakeOh/202103_itw_pyda_wkd/blob/main/da11_movielens.ipynb\" target=\"_parent\"><img src=\"https://colab.research.google.com/assets/colab-badge.svg\" alt=\"Open In Colab\"/></a>"
      ]
    },
    {
      "cell_type": "code",
      "metadata": {
        "id": "LOciWNKmZb6H"
      },
      "source": [
        "import numpy as np\n",
        "import pandas as pd\n",
        "import matplotlib.pyplot as plt\n",
        "import seaborn as sns"
      ],
      "execution_count": 1,
      "outputs": []
    },
    {
      "cell_type": "markdown",
      "metadata": {
        "id": "fOmvmkhsZ65j"
      },
      "source": [
        "# 데이터 프레임 merge"
      ]
    },
    {
      "cell_type": "code",
      "metadata": {
        "colab": {
          "base_uri": "https://localhost:8080/",
          "height": 204
        },
        "id": "voPaLg5qZuke",
        "outputId": "a0a5b8eb-fb34-469d-beb2-b5502a4cda7c"
      },
      "source": [
        "emp = pd.DataFrame({'empno': np.arange(1, 6),\n",
        "                    'empname': ['a', 'b', 'c', 'd', 'e'],\n",
        "                    'deptno': [10, 20, 30, 10, 50]})\n",
        "emp"
      ],
      "execution_count": 4,
      "outputs": [
        {
          "output_type": "execute_result",
          "data": {
            "text/html": [
              "<div>\n",
              "<style scoped>\n",
              "    .dataframe tbody tr th:only-of-type {\n",
              "        vertical-align: middle;\n",
              "    }\n",
              "\n",
              "    .dataframe tbody tr th {\n",
              "        vertical-align: top;\n",
              "    }\n",
              "\n",
              "    .dataframe thead th {\n",
              "        text-align: right;\n",
              "    }\n",
              "</style>\n",
              "<table border=\"1\" class=\"dataframe\">\n",
              "  <thead>\n",
              "    <tr style=\"text-align: right;\">\n",
              "      <th></th>\n",
              "      <th>empno</th>\n",
              "      <th>empname</th>\n",
              "      <th>deptno</th>\n",
              "    </tr>\n",
              "  </thead>\n",
              "  <tbody>\n",
              "    <tr>\n",
              "      <th>0</th>\n",
              "      <td>1</td>\n",
              "      <td>a</td>\n",
              "      <td>10</td>\n",
              "    </tr>\n",
              "    <tr>\n",
              "      <th>1</th>\n",
              "      <td>2</td>\n",
              "      <td>b</td>\n",
              "      <td>20</td>\n",
              "    </tr>\n",
              "    <tr>\n",
              "      <th>2</th>\n",
              "      <td>3</td>\n",
              "      <td>c</td>\n",
              "      <td>30</td>\n",
              "    </tr>\n",
              "    <tr>\n",
              "      <th>3</th>\n",
              "      <td>4</td>\n",
              "      <td>d</td>\n",
              "      <td>10</td>\n",
              "    </tr>\n",
              "    <tr>\n",
              "      <th>4</th>\n",
              "      <td>5</td>\n",
              "      <td>e</td>\n",
              "      <td>50</td>\n",
              "    </tr>\n",
              "  </tbody>\n",
              "</table>\n",
              "</div>"
            ],
            "text/plain": [
              "   empno empname  deptno\n",
              "0      1       a      10\n",
              "1      2       b      20\n",
              "2      3       c      30\n",
              "3      4       d      10\n",
              "4      5       e      50"
            ]
          },
          "metadata": {
            "tags": []
          },
          "execution_count": 4
        }
      ]
    },
    {
      "cell_type": "code",
      "metadata": {
        "colab": {
          "base_uri": "https://localhost:8080/",
          "height": 173
        },
        "id": "GJByZW6ga1Bz",
        "outputId": "d4bfa8c5-7a87-4592-c976-6d710b20cb8c"
      },
      "source": [
        "dept = pd.DataFrame({'deptno': np.arange(10, 50, 10),\n",
        "                     'deptname': ['HR', 'IT', 'Sales', 'Account']})\n",
        "dept"
      ],
      "execution_count": 3,
      "outputs": [
        {
          "output_type": "execute_result",
          "data": {
            "text/html": [
              "<div>\n",
              "<style scoped>\n",
              "    .dataframe tbody tr th:only-of-type {\n",
              "        vertical-align: middle;\n",
              "    }\n",
              "\n",
              "    .dataframe tbody tr th {\n",
              "        vertical-align: top;\n",
              "    }\n",
              "\n",
              "    .dataframe thead th {\n",
              "        text-align: right;\n",
              "    }\n",
              "</style>\n",
              "<table border=\"1\" class=\"dataframe\">\n",
              "  <thead>\n",
              "    <tr style=\"text-align: right;\">\n",
              "      <th></th>\n",
              "      <th>deptno</th>\n",
              "      <th>deptname</th>\n",
              "    </tr>\n",
              "  </thead>\n",
              "  <tbody>\n",
              "    <tr>\n",
              "      <th>0</th>\n",
              "      <td>10</td>\n",
              "      <td>HR</td>\n",
              "    </tr>\n",
              "    <tr>\n",
              "      <th>1</th>\n",
              "      <td>20</td>\n",
              "      <td>IT</td>\n",
              "    </tr>\n",
              "    <tr>\n",
              "      <th>2</th>\n",
              "      <td>30</td>\n",
              "      <td>Sales</td>\n",
              "    </tr>\n",
              "    <tr>\n",
              "      <th>3</th>\n",
              "      <td>40</td>\n",
              "      <td>Account</td>\n",
              "    </tr>\n",
              "  </tbody>\n",
              "</table>\n",
              "</div>"
            ],
            "text/plain": [
              "   deptno deptname\n",
              "0      10       HR\n",
              "1      20       IT\n",
              "2      30    Sales\n",
              "3      40  Account"
            ]
          },
          "metadata": {
            "tags": []
          },
          "execution_count": 3
        }
      ]
    },
    {
      "cell_type": "code",
      "metadata": {
        "colab": {
          "base_uri": "https://localhost:8080/",
          "height": 173
        },
        "id": "Ot5cpUBUbVYn",
        "outputId": "00616e2e-49c8-4283-ef4c-7ef147575f8d"
      },
      "source": [
        "pd.merge(left=emp, right=dept)\n",
        "# how 파라미터: inner, left, right, outer. 기본값은 inner."
      ],
      "execution_count": 5,
      "outputs": [
        {
          "output_type": "execute_result",
          "data": {
            "text/html": [
              "<div>\n",
              "<style scoped>\n",
              "    .dataframe tbody tr th:only-of-type {\n",
              "        vertical-align: middle;\n",
              "    }\n",
              "\n",
              "    .dataframe tbody tr th {\n",
              "        vertical-align: top;\n",
              "    }\n",
              "\n",
              "    .dataframe thead th {\n",
              "        text-align: right;\n",
              "    }\n",
              "</style>\n",
              "<table border=\"1\" class=\"dataframe\">\n",
              "  <thead>\n",
              "    <tr style=\"text-align: right;\">\n",
              "      <th></th>\n",
              "      <th>empno</th>\n",
              "      <th>empname</th>\n",
              "      <th>deptno</th>\n",
              "      <th>deptname</th>\n",
              "    </tr>\n",
              "  </thead>\n",
              "  <tbody>\n",
              "    <tr>\n",
              "      <th>0</th>\n",
              "      <td>1</td>\n",
              "      <td>a</td>\n",
              "      <td>10</td>\n",
              "      <td>HR</td>\n",
              "    </tr>\n",
              "    <tr>\n",
              "      <th>1</th>\n",
              "      <td>4</td>\n",
              "      <td>d</td>\n",
              "      <td>10</td>\n",
              "      <td>HR</td>\n",
              "    </tr>\n",
              "    <tr>\n",
              "      <th>2</th>\n",
              "      <td>2</td>\n",
              "      <td>b</td>\n",
              "      <td>20</td>\n",
              "      <td>IT</td>\n",
              "    </tr>\n",
              "    <tr>\n",
              "      <th>3</th>\n",
              "      <td>3</td>\n",
              "      <td>c</td>\n",
              "      <td>30</td>\n",
              "      <td>Sales</td>\n",
              "    </tr>\n",
              "  </tbody>\n",
              "</table>\n",
              "</div>"
            ],
            "text/plain": [
              "   empno empname  deptno deptname\n",
              "0      1       a      10       HR\n",
              "1      4       d      10       HR\n",
              "2      2       b      20       IT\n",
              "3      3       c      30    Sales"
            ]
          },
          "metadata": {
            "tags": []
          },
          "execution_count": 5
        }
      ]
    },
    {
      "cell_type": "code",
      "metadata": {
        "colab": {
          "base_uri": "https://localhost:8080/",
          "height": 204
        },
        "id": "qvwTLZuWcMvY",
        "outputId": "077c4194-65ad-4ef9-ced9-a781f87cdf53"
      },
      "source": [
        "pd.merge(left=emp, right=dept, how='left')  # left (outer) join"
      ],
      "execution_count": 6,
      "outputs": [
        {
          "output_type": "execute_result",
          "data": {
            "text/html": [
              "<div>\n",
              "<style scoped>\n",
              "    .dataframe tbody tr th:only-of-type {\n",
              "        vertical-align: middle;\n",
              "    }\n",
              "\n",
              "    .dataframe tbody tr th {\n",
              "        vertical-align: top;\n",
              "    }\n",
              "\n",
              "    .dataframe thead th {\n",
              "        text-align: right;\n",
              "    }\n",
              "</style>\n",
              "<table border=\"1\" class=\"dataframe\">\n",
              "  <thead>\n",
              "    <tr style=\"text-align: right;\">\n",
              "      <th></th>\n",
              "      <th>empno</th>\n",
              "      <th>empname</th>\n",
              "      <th>deptno</th>\n",
              "      <th>deptname</th>\n",
              "    </tr>\n",
              "  </thead>\n",
              "  <tbody>\n",
              "    <tr>\n",
              "      <th>0</th>\n",
              "      <td>1</td>\n",
              "      <td>a</td>\n",
              "      <td>10</td>\n",
              "      <td>HR</td>\n",
              "    </tr>\n",
              "    <tr>\n",
              "      <th>1</th>\n",
              "      <td>2</td>\n",
              "      <td>b</td>\n",
              "      <td>20</td>\n",
              "      <td>IT</td>\n",
              "    </tr>\n",
              "    <tr>\n",
              "      <th>2</th>\n",
              "      <td>3</td>\n",
              "      <td>c</td>\n",
              "      <td>30</td>\n",
              "      <td>Sales</td>\n",
              "    </tr>\n",
              "    <tr>\n",
              "      <th>3</th>\n",
              "      <td>4</td>\n",
              "      <td>d</td>\n",
              "      <td>10</td>\n",
              "      <td>HR</td>\n",
              "    </tr>\n",
              "    <tr>\n",
              "      <th>4</th>\n",
              "      <td>5</td>\n",
              "      <td>e</td>\n",
              "      <td>50</td>\n",
              "      <td>NaN</td>\n",
              "    </tr>\n",
              "  </tbody>\n",
              "</table>\n",
              "</div>"
            ],
            "text/plain": [
              "   empno empname  deptno deptname\n",
              "0      1       a      10       HR\n",
              "1      2       b      20       IT\n",
              "2      3       c      30    Sales\n",
              "3      4       d      10       HR\n",
              "4      5       e      50      NaN"
            ]
          },
          "metadata": {
            "tags": []
          },
          "execution_count": 6
        }
      ]
    },
    {
      "cell_type": "code",
      "metadata": {
        "colab": {
          "base_uri": "https://localhost:8080/",
          "height": 204
        },
        "id": "HjxK_dtFdTJl",
        "outputId": "238ebb68-ae71-4afe-b645-163845f12265"
      },
      "source": [
        "pd.merge(left=emp, right=dept, how='right')  # right (outer) join"
      ],
      "execution_count": 7,
      "outputs": [
        {
          "output_type": "execute_result",
          "data": {
            "text/html": [
              "<div>\n",
              "<style scoped>\n",
              "    .dataframe tbody tr th:only-of-type {\n",
              "        vertical-align: middle;\n",
              "    }\n",
              "\n",
              "    .dataframe tbody tr th {\n",
              "        vertical-align: top;\n",
              "    }\n",
              "\n",
              "    .dataframe thead th {\n",
              "        text-align: right;\n",
              "    }\n",
              "</style>\n",
              "<table border=\"1\" class=\"dataframe\">\n",
              "  <thead>\n",
              "    <tr style=\"text-align: right;\">\n",
              "      <th></th>\n",
              "      <th>empno</th>\n",
              "      <th>empname</th>\n",
              "      <th>deptno</th>\n",
              "      <th>deptname</th>\n",
              "    </tr>\n",
              "  </thead>\n",
              "  <tbody>\n",
              "    <tr>\n",
              "      <th>0</th>\n",
              "      <td>1.0</td>\n",
              "      <td>a</td>\n",
              "      <td>10</td>\n",
              "      <td>HR</td>\n",
              "    </tr>\n",
              "    <tr>\n",
              "      <th>1</th>\n",
              "      <td>4.0</td>\n",
              "      <td>d</td>\n",
              "      <td>10</td>\n",
              "      <td>HR</td>\n",
              "    </tr>\n",
              "    <tr>\n",
              "      <th>2</th>\n",
              "      <td>2.0</td>\n",
              "      <td>b</td>\n",
              "      <td>20</td>\n",
              "      <td>IT</td>\n",
              "    </tr>\n",
              "    <tr>\n",
              "      <th>3</th>\n",
              "      <td>3.0</td>\n",
              "      <td>c</td>\n",
              "      <td>30</td>\n",
              "      <td>Sales</td>\n",
              "    </tr>\n",
              "    <tr>\n",
              "      <th>4</th>\n",
              "      <td>NaN</td>\n",
              "      <td>NaN</td>\n",
              "      <td>40</td>\n",
              "      <td>Account</td>\n",
              "    </tr>\n",
              "  </tbody>\n",
              "</table>\n",
              "</div>"
            ],
            "text/plain": [
              "   empno empname  deptno deptname\n",
              "0    1.0       a      10       HR\n",
              "1    4.0       d      10       HR\n",
              "2    2.0       b      20       IT\n",
              "3    3.0       c      30    Sales\n",
              "4    NaN     NaN      40  Account"
            ]
          },
          "metadata": {
            "tags": []
          },
          "execution_count": 7
        }
      ]
    },
    {
      "cell_type": "code",
      "metadata": {
        "colab": {
          "base_uri": "https://localhost:8080/",
          "height": 235
        },
        "id": "ptZe-1s2dj4y",
        "outputId": "9d1e9e45-48d0-4608-817f-acc7013d86e8"
      },
      "source": [
        "pd.merge(left=emp, right=dept, how='outer')  # full (outer) join"
      ],
      "execution_count": 8,
      "outputs": [
        {
          "output_type": "execute_result",
          "data": {
            "text/html": [
              "<div>\n",
              "<style scoped>\n",
              "    .dataframe tbody tr th:only-of-type {\n",
              "        vertical-align: middle;\n",
              "    }\n",
              "\n",
              "    .dataframe tbody tr th {\n",
              "        vertical-align: top;\n",
              "    }\n",
              "\n",
              "    .dataframe thead th {\n",
              "        text-align: right;\n",
              "    }\n",
              "</style>\n",
              "<table border=\"1\" class=\"dataframe\">\n",
              "  <thead>\n",
              "    <tr style=\"text-align: right;\">\n",
              "      <th></th>\n",
              "      <th>empno</th>\n",
              "      <th>empname</th>\n",
              "      <th>deptno</th>\n",
              "      <th>deptname</th>\n",
              "    </tr>\n",
              "  </thead>\n",
              "  <tbody>\n",
              "    <tr>\n",
              "      <th>0</th>\n",
              "      <td>1.0</td>\n",
              "      <td>a</td>\n",
              "      <td>10</td>\n",
              "      <td>HR</td>\n",
              "    </tr>\n",
              "    <tr>\n",
              "      <th>1</th>\n",
              "      <td>4.0</td>\n",
              "      <td>d</td>\n",
              "      <td>10</td>\n",
              "      <td>HR</td>\n",
              "    </tr>\n",
              "    <tr>\n",
              "      <th>2</th>\n",
              "      <td>2.0</td>\n",
              "      <td>b</td>\n",
              "      <td>20</td>\n",
              "      <td>IT</td>\n",
              "    </tr>\n",
              "    <tr>\n",
              "      <th>3</th>\n",
              "      <td>3.0</td>\n",
              "      <td>c</td>\n",
              "      <td>30</td>\n",
              "      <td>Sales</td>\n",
              "    </tr>\n",
              "    <tr>\n",
              "      <th>4</th>\n",
              "      <td>5.0</td>\n",
              "      <td>e</td>\n",
              "      <td>50</td>\n",
              "      <td>NaN</td>\n",
              "    </tr>\n",
              "    <tr>\n",
              "      <th>5</th>\n",
              "      <td>NaN</td>\n",
              "      <td>NaN</td>\n",
              "      <td>40</td>\n",
              "      <td>Account</td>\n",
              "    </tr>\n",
              "  </tbody>\n",
              "</table>\n",
              "</div>"
            ],
            "text/plain": [
              "   empno empname  deptno deptname\n",
              "0    1.0       a      10       HR\n",
              "1    4.0       d      10       HR\n",
              "2    2.0       b      20       IT\n",
              "3    3.0       c      30    Sales\n",
              "4    5.0       e      50      NaN\n",
              "5    NaN     NaN      40  Account"
            ]
          },
          "metadata": {
            "tags": []
          },
          "execution_count": 8
        }
      ]
    },
    {
      "cell_type": "markdown",
      "metadata": {
        "id": "qSOiIRo5gezV"
      },
      "source": [
        "# Movielens 데이터 셋"
      ]
    },
    {
      "cell_type": "code",
      "metadata": {
        "id": "pvQCprukeGzb"
      },
      "source": [
        "movies_file = 'https://github.com/wesm/pydata-book/raw/2nd-edition/datasets/movielens/movies.dat'\n",
        "ratings_file = 'https://github.com/wesm/pydata-book/raw/2nd-edition/datasets/movielens/ratings.dat'\n",
        "users_file = 'https://github.com/wesm/pydata-book/raw/2nd-edition/datasets/movielens/users.dat'"
      ],
      "execution_count": 9,
      "outputs": []
    },
    {
      "cell_type": "code",
      "metadata": {
        "id": "ihfP-jTdjHMP"
      },
      "source": [
        "movies_col = ['movie_id', 'title', 'genres']\n",
        "ratings_col = ['user_id', 'movie_id', 'rating', 'timestamp']\n",
        "users_col = ['user_id', 'gender', 'age', 'occupation', 'zipcode']"
      ],
      "execution_count": 10,
      "outputs": []
    },
    {
      "cell_type": "code",
      "metadata": {
        "colab": {
          "base_uri": "https://localhost:8080/",
          "height": 204
        },
        "id": "IgPW1ieDkGae",
        "outputId": "072f4066-9d8c-4051-d8af-6fcb6a542958"
      },
      "source": [
        "movies = pd.read_csv(movies_file,        # 파일 경로(URL)\n",
        "                     engine='python',    # separator 관련 warning을 제거\n",
        "                     sep='::',           # 값 구분자(value separator)가 쉼표가 아니라 '::'임을 설정\n",
        "                     header=None,        # 파일에 헤더가 없음. 첫번째 라인부터 데이터.\n",
        "                     names=movies_col,   # 컬럼 이름 설정\n",
        "                     encoding='cp1252')  # 파일 인코딩 설정\n",
        "# cp1252: 영문 MS-Windows에서 저장된 텍스트 파일\n",
        "# cp949: 한글 MS-Windows에서 저장된 텍스트 파일\n",
        "movies.head()"
      ],
      "execution_count": 14,
      "outputs": [
        {
          "output_type": "execute_result",
          "data": {
            "text/html": [
              "<div>\n",
              "<style scoped>\n",
              "    .dataframe tbody tr th:only-of-type {\n",
              "        vertical-align: middle;\n",
              "    }\n",
              "\n",
              "    .dataframe tbody tr th {\n",
              "        vertical-align: top;\n",
              "    }\n",
              "\n",
              "    .dataframe thead th {\n",
              "        text-align: right;\n",
              "    }\n",
              "</style>\n",
              "<table border=\"1\" class=\"dataframe\">\n",
              "  <thead>\n",
              "    <tr style=\"text-align: right;\">\n",
              "      <th></th>\n",
              "      <th>movie_id</th>\n",
              "      <th>title</th>\n",
              "      <th>genres</th>\n",
              "    </tr>\n",
              "  </thead>\n",
              "  <tbody>\n",
              "    <tr>\n",
              "      <th>0</th>\n",
              "      <td>1</td>\n",
              "      <td>Toy Story (1995)</td>\n",
              "      <td>Animation|Children's|Comedy</td>\n",
              "    </tr>\n",
              "    <tr>\n",
              "      <th>1</th>\n",
              "      <td>2</td>\n",
              "      <td>Jumanji (1995)</td>\n",
              "      <td>Adventure|Children's|Fantasy</td>\n",
              "    </tr>\n",
              "    <tr>\n",
              "      <th>2</th>\n",
              "      <td>3</td>\n",
              "      <td>Grumpier Old Men (1995)</td>\n",
              "      <td>Comedy|Romance</td>\n",
              "    </tr>\n",
              "    <tr>\n",
              "      <th>3</th>\n",
              "      <td>4</td>\n",
              "      <td>Waiting to Exhale (1995)</td>\n",
              "      <td>Comedy|Drama</td>\n",
              "    </tr>\n",
              "    <tr>\n",
              "      <th>4</th>\n",
              "      <td>5</td>\n",
              "      <td>Father of the Bride Part II (1995)</td>\n",
              "      <td>Comedy</td>\n",
              "    </tr>\n",
              "  </tbody>\n",
              "</table>\n",
              "</div>"
            ],
            "text/plain": [
              "   movie_id                               title                        genres\n",
              "0         1                    Toy Story (1995)   Animation|Children's|Comedy\n",
              "1         2                      Jumanji (1995)  Adventure|Children's|Fantasy\n",
              "2         3             Grumpier Old Men (1995)                Comedy|Romance\n",
              "3         4            Waiting to Exhale (1995)                  Comedy|Drama\n",
              "4         5  Father of the Bride Part II (1995)                        Comedy"
            ]
          },
          "metadata": {
            "tags": []
          },
          "execution_count": 14
        }
      ]
    },
    {
      "cell_type": "code",
      "metadata": {
        "colab": {
          "base_uri": "https://localhost:8080/",
          "height": 204
        },
        "id": "vg3DC5rTknTO",
        "outputId": "7e73cd33-3717-48e8-f224-d56619ce5dd4"
      },
      "source": [
        "ratings = pd.read_csv(ratings_file,\n",
        "                      sep='::',\n",
        "                      engine='python',\n",
        "                      header=None,\n",
        "                      names=ratings_col)\n",
        "ratings.head()"
      ],
      "execution_count": 16,
      "outputs": [
        {
          "output_type": "execute_result",
          "data": {
            "text/html": [
              "<div>\n",
              "<style scoped>\n",
              "    .dataframe tbody tr th:only-of-type {\n",
              "        vertical-align: middle;\n",
              "    }\n",
              "\n",
              "    .dataframe tbody tr th {\n",
              "        vertical-align: top;\n",
              "    }\n",
              "\n",
              "    .dataframe thead th {\n",
              "        text-align: right;\n",
              "    }\n",
              "</style>\n",
              "<table border=\"1\" class=\"dataframe\">\n",
              "  <thead>\n",
              "    <tr style=\"text-align: right;\">\n",
              "      <th></th>\n",
              "      <th>user_id</th>\n",
              "      <th>movie_id</th>\n",
              "      <th>rating</th>\n",
              "      <th>timestamp</th>\n",
              "    </tr>\n",
              "  </thead>\n",
              "  <tbody>\n",
              "    <tr>\n",
              "      <th>0</th>\n",
              "      <td>1</td>\n",
              "      <td>1193</td>\n",
              "      <td>5</td>\n",
              "      <td>978300760</td>\n",
              "    </tr>\n",
              "    <tr>\n",
              "      <th>1</th>\n",
              "      <td>1</td>\n",
              "      <td>661</td>\n",
              "      <td>3</td>\n",
              "      <td>978302109</td>\n",
              "    </tr>\n",
              "    <tr>\n",
              "      <th>2</th>\n",
              "      <td>1</td>\n",
              "      <td>914</td>\n",
              "      <td>3</td>\n",
              "      <td>978301968</td>\n",
              "    </tr>\n",
              "    <tr>\n",
              "      <th>3</th>\n",
              "      <td>1</td>\n",
              "      <td>3408</td>\n",
              "      <td>4</td>\n",
              "      <td>978300275</td>\n",
              "    </tr>\n",
              "    <tr>\n",
              "      <th>4</th>\n",
              "      <td>1</td>\n",
              "      <td>2355</td>\n",
              "      <td>5</td>\n",
              "      <td>978824291</td>\n",
              "    </tr>\n",
              "  </tbody>\n",
              "</table>\n",
              "</div>"
            ],
            "text/plain": [
              "   user_id  movie_id  rating  timestamp\n",
              "0        1      1193       5  978300760\n",
              "1        1       661       3  978302109\n",
              "2        1       914       3  978301968\n",
              "3        1      3408       4  978300275\n",
              "4        1      2355       5  978824291"
            ]
          },
          "metadata": {
            "tags": []
          },
          "execution_count": 16
        }
      ]
    },
    {
      "cell_type": "code",
      "metadata": {
        "colab": {
          "base_uri": "https://localhost:8080/",
          "height": 204
        },
        "id": "NguuJ4EZne7f",
        "outputId": "c27b77d3-e5fd-4b3d-a310-6b1e371d1246"
      },
      "source": [
        "users = pd.read_csv(users_file,\n",
        "                    sep='::',\n",
        "                    engine='python',\n",
        "                    header=None,\n",
        "                    names=users_col)\n",
        "users.head()"
      ],
      "execution_count": 17,
      "outputs": [
        {
          "output_type": "execute_result",
          "data": {
            "text/html": [
              "<div>\n",
              "<style scoped>\n",
              "    .dataframe tbody tr th:only-of-type {\n",
              "        vertical-align: middle;\n",
              "    }\n",
              "\n",
              "    .dataframe tbody tr th {\n",
              "        vertical-align: top;\n",
              "    }\n",
              "\n",
              "    .dataframe thead th {\n",
              "        text-align: right;\n",
              "    }\n",
              "</style>\n",
              "<table border=\"1\" class=\"dataframe\">\n",
              "  <thead>\n",
              "    <tr style=\"text-align: right;\">\n",
              "      <th></th>\n",
              "      <th>user_id</th>\n",
              "      <th>gender</th>\n",
              "      <th>age</th>\n",
              "      <th>occupation</th>\n",
              "      <th>zipcode</th>\n",
              "    </tr>\n",
              "  </thead>\n",
              "  <tbody>\n",
              "    <tr>\n",
              "      <th>0</th>\n",
              "      <td>1</td>\n",
              "      <td>F</td>\n",
              "      <td>1</td>\n",
              "      <td>10</td>\n",
              "      <td>48067</td>\n",
              "    </tr>\n",
              "    <tr>\n",
              "      <th>1</th>\n",
              "      <td>2</td>\n",
              "      <td>M</td>\n",
              "      <td>56</td>\n",
              "      <td>16</td>\n",
              "      <td>70072</td>\n",
              "    </tr>\n",
              "    <tr>\n",
              "      <th>2</th>\n",
              "      <td>3</td>\n",
              "      <td>M</td>\n",
              "      <td>25</td>\n",
              "      <td>15</td>\n",
              "      <td>55117</td>\n",
              "    </tr>\n",
              "    <tr>\n",
              "      <th>3</th>\n",
              "      <td>4</td>\n",
              "      <td>M</td>\n",
              "      <td>45</td>\n",
              "      <td>7</td>\n",
              "      <td>02460</td>\n",
              "    </tr>\n",
              "    <tr>\n",
              "      <th>4</th>\n",
              "      <td>5</td>\n",
              "      <td>M</td>\n",
              "      <td>25</td>\n",
              "      <td>20</td>\n",
              "      <td>55455</td>\n",
              "    </tr>\n",
              "  </tbody>\n",
              "</table>\n",
              "</div>"
            ],
            "text/plain": [
              "   user_id gender  age  occupation zipcode\n",
              "0        1      F    1          10   48067\n",
              "1        2      M   56          16   70072\n",
              "2        3      M   25          15   55117\n",
              "3        4      M   45           7   02460\n",
              "4        5      M   25          20   55455"
            ]
          },
          "metadata": {
            "tags": []
          },
          "execution_count": 17
        }
      ]
    },
    {
      "cell_type": "markdown",
      "metadata": {
        "id": "HPUx9djcoNR_"
      },
      "source": [
        "# 데이터 셋 merge"
      ]
    },
    {
      "cell_type": "code",
      "metadata": {
        "colab": {
          "base_uri": "https://localhost:8080/",
          "height": 419
        },
        "id": "6pCZvgvpnqpL",
        "outputId": "0a738608-e453-4f44-fa94-473cfe96521f"
      },
      "source": [
        "# ratings와 movies를 merge\n",
        "ratings_movies = pd.merge(left=ratings, right=movies)\n",
        "ratings_movies"
      ],
      "execution_count": 18,
      "outputs": [
        {
          "output_type": "execute_result",
          "data": {
            "text/html": [
              "<div>\n",
              "<style scoped>\n",
              "    .dataframe tbody tr th:only-of-type {\n",
              "        vertical-align: middle;\n",
              "    }\n",
              "\n",
              "    .dataframe tbody tr th {\n",
              "        vertical-align: top;\n",
              "    }\n",
              "\n",
              "    .dataframe thead th {\n",
              "        text-align: right;\n",
              "    }\n",
              "</style>\n",
              "<table border=\"1\" class=\"dataframe\">\n",
              "  <thead>\n",
              "    <tr style=\"text-align: right;\">\n",
              "      <th></th>\n",
              "      <th>user_id</th>\n",
              "      <th>movie_id</th>\n",
              "      <th>rating</th>\n",
              "      <th>timestamp</th>\n",
              "      <th>title</th>\n",
              "      <th>genres</th>\n",
              "    </tr>\n",
              "  </thead>\n",
              "  <tbody>\n",
              "    <tr>\n",
              "      <th>0</th>\n",
              "      <td>1</td>\n",
              "      <td>1193</td>\n",
              "      <td>5</td>\n",
              "      <td>978300760</td>\n",
              "      <td>One Flew Over the Cuckoo's Nest (1975)</td>\n",
              "      <td>Drama</td>\n",
              "    </tr>\n",
              "    <tr>\n",
              "      <th>1</th>\n",
              "      <td>2</td>\n",
              "      <td>1193</td>\n",
              "      <td>5</td>\n",
              "      <td>978298413</td>\n",
              "      <td>One Flew Over the Cuckoo's Nest (1975)</td>\n",
              "      <td>Drama</td>\n",
              "    </tr>\n",
              "    <tr>\n",
              "      <th>2</th>\n",
              "      <td>12</td>\n",
              "      <td>1193</td>\n",
              "      <td>4</td>\n",
              "      <td>978220179</td>\n",
              "      <td>One Flew Over the Cuckoo's Nest (1975)</td>\n",
              "      <td>Drama</td>\n",
              "    </tr>\n",
              "    <tr>\n",
              "      <th>3</th>\n",
              "      <td>15</td>\n",
              "      <td>1193</td>\n",
              "      <td>4</td>\n",
              "      <td>978199279</td>\n",
              "      <td>One Flew Over the Cuckoo's Nest (1975)</td>\n",
              "      <td>Drama</td>\n",
              "    </tr>\n",
              "    <tr>\n",
              "      <th>4</th>\n",
              "      <td>17</td>\n",
              "      <td>1193</td>\n",
              "      <td>5</td>\n",
              "      <td>978158471</td>\n",
              "      <td>One Flew Over the Cuckoo's Nest (1975)</td>\n",
              "      <td>Drama</td>\n",
              "    </tr>\n",
              "    <tr>\n",
              "      <th>...</th>\n",
              "      <td>...</td>\n",
              "      <td>...</td>\n",
              "      <td>...</td>\n",
              "      <td>...</td>\n",
              "      <td>...</td>\n",
              "      <td>...</td>\n",
              "    </tr>\n",
              "    <tr>\n",
              "      <th>1000204</th>\n",
              "      <td>5949</td>\n",
              "      <td>2198</td>\n",
              "      <td>5</td>\n",
              "      <td>958846401</td>\n",
              "      <td>Modulations (1998)</td>\n",
              "      <td>Documentary</td>\n",
              "    </tr>\n",
              "    <tr>\n",
              "      <th>1000205</th>\n",
              "      <td>5675</td>\n",
              "      <td>2703</td>\n",
              "      <td>3</td>\n",
              "      <td>976029116</td>\n",
              "      <td>Broken Vessels (1998)</td>\n",
              "      <td>Drama</td>\n",
              "    </tr>\n",
              "    <tr>\n",
              "      <th>1000206</th>\n",
              "      <td>5780</td>\n",
              "      <td>2845</td>\n",
              "      <td>1</td>\n",
              "      <td>958153068</td>\n",
              "      <td>White Boys (1999)</td>\n",
              "      <td>Drama</td>\n",
              "    </tr>\n",
              "    <tr>\n",
              "      <th>1000207</th>\n",
              "      <td>5851</td>\n",
              "      <td>3607</td>\n",
              "      <td>5</td>\n",
              "      <td>957756608</td>\n",
              "      <td>One Little Indian (1973)</td>\n",
              "      <td>Comedy|Drama|Western</td>\n",
              "    </tr>\n",
              "    <tr>\n",
              "      <th>1000208</th>\n",
              "      <td>5938</td>\n",
              "      <td>2909</td>\n",
              "      <td>4</td>\n",
              "      <td>957273353</td>\n",
              "      <td>Five Wives, Three Secretaries and Me (1998)</td>\n",
              "      <td>Documentary</td>\n",
              "    </tr>\n",
              "  </tbody>\n",
              "</table>\n",
              "<p>1000209 rows × 6 columns</p>\n",
              "</div>"
            ],
            "text/plain": [
              "         user_id  ...                genres\n",
              "0              1  ...                 Drama\n",
              "1              2  ...                 Drama\n",
              "2             12  ...                 Drama\n",
              "3             15  ...                 Drama\n",
              "4             17  ...                 Drama\n",
              "...          ...  ...                   ...\n",
              "1000204     5949  ...           Documentary\n",
              "1000205     5675  ...                 Drama\n",
              "1000206     5780  ...                 Drama\n",
              "1000207     5851  ...  Comedy|Drama|Western\n",
              "1000208     5938  ...           Documentary\n",
              "\n",
              "[1000209 rows x 6 columns]"
            ]
          },
          "metadata": {
            "tags": []
          },
          "execution_count": 18
        }
      ]
    },
    {
      "cell_type": "code",
      "metadata": {
        "colab": {
          "base_uri": "https://localhost:8080/",
          "height": 677
        },
        "id": "D2r2VZD9ogwK",
        "outputId": "4c8f8c05-c53e-4ca0-ec43-ca93e60b939f"
      },
      "source": [
        "# ratings_movies와 users를 merge\n",
        "df = pd.merge(left=ratings_movies, right=users)\n",
        "df"
      ],
      "execution_count": 19,
      "outputs": [
        {
          "output_type": "execute_result",
          "data": {
            "text/html": [
              "<div>\n",
              "<style scoped>\n",
              "    .dataframe tbody tr th:only-of-type {\n",
              "        vertical-align: middle;\n",
              "    }\n",
              "\n",
              "    .dataframe tbody tr th {\n",
              "        vertical-align: top;\n",
              "    }\n",
              "\n",
              "    .dataframe thead th {\n",
              "        text-align: right;\n",
              "    }\n",
              "</style>\n",
              "<table border=\"1\" class=\"dataframe\">\n",
              "  <thead>\n",
              "    <tr style=\"text-align: right;\">\n",
              "      <th></th>\n",
              "      <th>user_id</th>\n",
              "      <th>movie_id</th>\n",
              "      <th>rating</th>\n",
              "      <th>timestamp</th>\n",
              "      <th>title</th>\n",
              "      <th>genres</th>\n",
              "      <th>gender</th>\n",
              "      <th>age</th>\n",
              "      <th>occupation</th>\n",
              "      <th>zipcode</th>\n",
              "    </tr>\n",
              "  </thead>\n",
              "  <tbody>\n",
              "    <tr>\n",
              "      <th>0</th>\n",
              "      <td>1</td>\n",
              "      <td>1193</td>\n",
              "      <td>5</td>\n",
              "      <td>978300760</td>\n",
              "      <td>One Flew Over the Cuckoo's Nest (1975)</td>\n",
              "      <td>Drama</td>\n",
              "      <td>F</td>\n",
              "      <td>1</td>\n",
              "      <td>10</td>\n",
              "      <td>48067</td>\n",
              "    </tr>\n",
              "    <tr>\n",
              "      <th>1</th>\n",
              "      <td>1</td>\n",
              "      <td>661</td>\n",
              "      <td>3</td>\n",
              "      <td>978302109</td>\n",
              "      <td>James and the Giant Peach (1996)</td>\n",
              "      <td>Animation|Children's|Musical</td>\n",
              "      <td>F</td>\n",
              "      <td>1</td>\n",
              "      <td>10</td>\n",
              "      <td>48067</td>\n",
              "    </tr>\n",
              "    <tr>\n",
              "      <th>2</th>\n",
              "      <td>1</td>\n",
              "      <td>914</td>\n",
              "      <td>3</td>\n",
              "      <td>978301968</td>\n",
              "      <td>My Fair Lady (1964)</td>\n",
              "      <td>Musical|Romance</td>\n",
              "      <td>F</td>\n",
              "      <td>1</td>\n",
              "      <td>10</td>\n",
              "      <td>48067</td>\n",
              "    </tr>\n",
              "    <tr>\n",
              "      <th>3</th>\n",
              "      <td>1</td>\n",
              "      <td>3408</td>\n",
              "      <td>4</td>\n",
              "      <td>978300275</td>\n",
              "      <td>Erin Brockovich (2000)</td>\n",
              "      <td>Drama</td>\n",
              "      <td>F</td>\n",
              "      <td>1</td>\n",
              "      <td>10</td>\n",
              "      <td>48067</td>\n",
              "    </tr>\n",
              "    <tr>\n",
              "      <th>4</th>\n",
              "      <td>1</td>\n",
              "      <td>2355</td>\n",
              "      <td>5</td>\n",
              "      <td>978824291</td>\n",
              "      <td>Bug's Life, A (1998)</td>\n",
              "      <td>Animation|Children's|Comedy</td>\n",
              "      <td>F</td>\n",
              "      <td>1</td>\n",
              "      <td>10</td>\n",
              "      <td>48067</td>\n",
              "    </tr>\n",
              "    <tr>\n",
              "      <th>...</th>\n",
              "      <td>...</td>\n",
              "      <td>...</td>\n",
              "      <td>...</td>\n",
              "      <td>...</td>\n",
              "      <td>...</td>\n",
              "      <td>...</td>\n",
              "      <td>...</td>\n",
              "      <td>...</td>\n",
              "      <td>...</td>\n",
              "      <td>...</td>\n",
              "    </tr>\n",
              "    <tr>\n",
              "      <th>1000204</th>\n",
              "      <td>4211</td>\n",
              "      <td>3791</td>\n",
              "      <td>2</td>\n",
              "      <td>965319075</td>\n",
              "      <td>Footloose (1984)</td>\n",
              "      <td>Drama</td>\n",
              "      <td>M</td>\n",
              "      <td>45</td>\n",
              "      <td>5</td>\n",
              "      <td>77662</td>\n",
              "    </tr>\n",
              "    <tr>\n",
              "      <th>1000205</th>\n",
              "      <td>4211</td>\n",
              "      <td>3806</td>\n",
              "      <td>3</td>\n",
              "      <td>965319138</td>\n",
              "      <td>MacKenna's Gold (1969)</td>\n",
              "      <td>Western</td>\n",
              "      <td>M</td>\n",
              "      <td>45</td>\n",
              "      <td>5</td>\n",
              "      <td>77662</td>\n",
              "    </tr>\n",
              "    <tr>\n",
              "      <th>1000206</th>\n",
              "      <td>4211</td>\n",
              "      <td>3840</td>\n",
              "      <td>4</td>\n",
              "      <td>965319197</td>\n",
              "      <td>Pumpkinhead (1988)</td>\n",
              "      <td>Horror</td>\n",
              "      <td>M</td>\n",
              "      <td>45</td>\n",
              "      <td>5</td>\n",
              "      <td>77662</td>\n",
              "    </tr>\n",
              "    <tr>\n",
              "      <th>1000207</th>\n",
              "      <td>4211</td>\n",
              "      <td>3766</td>\n",
              "      <td>2</td>\n",
              "      <td>965319138</td>\n",
              "      <td>Missing in Action (1984)</td>\n",
              "      <td>Action|War</td>\n",
              "      <td>M</td>\n",
              "      <td>45</td>\n",
              "      <td>5</td>\n",
              "      <td>77662</td>\n",
              "    </tr>\n",
              "    <tr>\n",
              "      <th>1000208</th>\n",
              "      <td>4211</td>\n",
              "      <td>3834</td>\n",
              "      <td>2</td>\n",
              "      <td>965318885</td>\n",
              "      <td>Bronco Billy (1980)</td>\n",
              "      <td>Adventure|Drama|Romance</td>\n",
              "      <td>M</td>\n",
              "      <td>45</td>\n",
              "      <td>5</td>\n",
              "      <td>77662</td>\n",
              "    </tr>\n",
              "  </tbody>\n",
              "</table>\n",
              "<p>1000209 rows × 10 columns</p>\n",
              "</div>"
            ],
            "text/plain": [
              "         user_id  movie_id  rating  timestamp  ... gender age occupation  zipcode\n",
              "0              1      1193       5  978300760  ...      F   1         10    48067\n",
              "1              1       661       3  978302109  ...      F   1         10    48067\n",
              "2              1       914       3  978301968  ...      F   1         10    48067\n",
              "3              1      3408       4  978300275  ...      F   1         10    48067\n",
              "4              1      2355       5  978824291  ...      F   1         10    48067\n",
              "...          ...       ...     ...        ...  ...    ...  ..        ...      ...\n",
              "1000204     4211      3791       2  965319075  ...      M  45          5    77662\n",
              "1000205     4211      3806       3  965319138  ...      M  45          5    77662\n",
              "1000206     4211      3840       4  965319197  ...      M  45          5    77662\n",
              "1000207     4211      3766       2  965319138  ...      M  45          5    77662\n",
              "1000208     4211      3834       2  965318885  ...      M  45          5    77662\n",
              "\n",
              "[1000209 rows x 10 columns]"
            ]
          },
          "metadata": {
            "tags": []
          },
          "execution_count": 19
        }
      ]
    },
    {
      "cell_type": "code",
      "metadata": {
        "colab": {
          "base_uri": "https://localhost:8080/"
        },
        "id": "-caAWy__pcrX",
        "outputId": "3fbf07d6-a15a-4b5d-a573-32e39acba427"
      },
      "source": [
        "df.info()"
      ],
      "execution_count": 20,
      "outputs": [
        {
          "output_type": "stream",
          "text": [
            "<class 'pandas.core.frame.DataFrame'>\n",
            "Int64Index: 1000209 entries, 0 to 1000208\n",
            "Data columns (total 10 columns):\n",
            " #   Column      Non-Null Count    Dtype \n",
            "---  ------      --------------    ----- \n",
            " 0   user_id     1000209 non-null  int64 \n",
            " 1   movie_id    1000209 non-null  int64 \n",
            " 2   rating      1000209 non-null  int64 \n",
            " 3   timestamp   1000209 non-null  int64 \n",
            " 4   title       1000209 non-null  object\n",
            " 5   genres      1000209 non-null  object\n",
            " 6   gender      1000209 non-null  object\n",
            " 7   age         1000209 non-null  int64 \n",
            " 8   occupation  1000209 non-null  int64 \n",
            " 9   zipcode     1000209 non-null  object\n",
            "dtypes: int64(6), object(4)\n",
            "memory usage: 83.9+ MB\n"
          ],
          "name": "stdout"
        }
      ]
    },
    {
      "cell_type": "markdown",
      "metadata": {
        "id": "Z4n3x731qCiv"
      },
      "source": [
        "# 성별 영화 선호도 차이"
      ]
    },
    {
      "cell_type": "code",
      "metadata": {
        "colab": {
          "base_uri": "https://localhost:8080/"
        },
        "id": "oQXkpndKpdod",
        "outputId": "bd1e05d3-03a5-46ef-db64-d9d5fb8e38f0"
      },
      "source": [
        "# 제목(title)별, 성(gender)별 평점(rating)의 평균\n",
        "df.groupby(['title', 'gender'])['rating'].mean()"
      ],
      "execution_count": 21,
      "outputs": [
        {
          "output_type": "execute_result",
          "data": {
            "text/plain": [
              "title                                       gender\n",
              "$1,000,000 Duck (1971)                      F         3.375000\n",
              "                                            M         2.761905\n",
              "'Night Mother (1986)                        F         3.388889\n",
              "                                            M         3.352941\n",
              "'Til There Was You (1997)                   F         2.675676\n",
              "                                                        ...   \n",
              "Zero Kelvin (Kjærlighetens kjøtere) (1995)  M         3.500000\n",
              "Zeus and Roxanne (1997)                     F         2.777778\n",
              "                                            M         2.357143\n",
              "eXistenZ (1999)                             F         3.098592\n",
              "                                            M         3.289086\n",
              "Name: rating, Length: 7152, dtype: float64"
            ]
          },
          "metadata": {
            "tags": []
          },
          "execution_count": 21
        }
      ]
    },
    {
      "cell_type": "code",
      "metadata": {
        "colab": {
          "base_uri": "https://localhost:8080/",
          "height": 450
        },
        "id": "hHZpRempqr2Z",
        "outputId": "396857f6-2552-49d8-b909-6d815170d52a"
      },
      "source": [
        "rating_by_gender = df.pivot_table(values='rating', \n",
        "                                  index='title', \n",
        "                                  columns='gender')\n",
        "rating_by_gender"
      ],
      "execution_count": 23,
      "outputs": [
        {
          "output_type": "execute_result",
          "data": {
            "text/html": [
              "<div>\n",
              "<style scoped>\n",
              "    .dataframe tbody tr th:only-of-type {\n",
              "        vertical-align: middle;\n",
              "    }\n",
              "\n",
              "    .dataframe tbody tr th {\n",
              "        vertical-align: top;\n",
              "    }\n",
              "\n",
              "    .dataframe thead th {\n",
              "        text-align: right;\n",
              "    }\n",
              "</style>\n",
              "<table border=\"1\" class=\"dataframe\">\n",
              "  <thead>\n",
              "    <tr style=\"text-align: right;\">\n",
              "      <th>gender</th>\n",
              "      <th>F</th>\n",
              "      <th>M</th>\n",
              "    </tr>\n",
              "    <tr>\n",
              "      <th>title</th>\n",
              "      <th></th>\n",
              "      <th></th>\n",
              "    </tr>\n",
              "  </thead>\n",
              "  <tbody>\n",
              "    <tr>\n",
              "      <th>$1,000,000 Duck (1971)</th>\n",
              "      <td>3.375000</td>\n",
              "      <td>2.761905</td>\n",
              "    </tr>\n",
              "    <tr>\n",
              "      <th>'Night Mother (1986)</th>\n",
              "      <td>3.388889</td>\n",
              "      <td>3.352941</td>\n",
              "    </tr>\n",
              "    <tr>\n",
              "      <th>'Til There Was You (1997)</th>\n",
              "      <td>2.675676</td>\n",
              "      <td>2.733333</td>\n",
              "    </tr>\n",
              "    <tr>\n",
              "      <th>'burbs, The (1989)</th>\n",
              "      <td>2.793478</td>\n",
              "      <td>2.962085</td>\n",
              "    </tr>\n",
              "    <tr>\n",
              "      <th>...And Justice for All (1979)</th>\n",
              "      <td>3.828571</td>\n",
              "      <td>3.689024</td>\n",
              "    </tr>\n",
              "    <tr>\n",
              "      <th>...</th>\n",
              "      <td>...</td>\n",
              "      <td>...</td>\n",
              "    </tr>\n",
              "    <tr>\n",
              "      <th>Zed &amp; Two Noughts, A (1985)</th>\n",
              "      <td>3.500000</td>\n",
              "      <td>3.380952</td>\n",
              "    </tr>\n",
              "    <tr>\n",
              "      <th>Zero Effect (1998)</th>\n",
              "      <td>3.864407</td>\n",
              "      <td>3.723140</td>\n",
              "    </tr>\n",
              "    <tr>\n",
              "      <th>Zero Kelvin (Kjærlighetens kjøtere) (1995)</th>\n",
              "      <td>NaN</td>\n",
              "      <td>3.500000</td>\n",
              "    </tr>\n",
              "    <tr>\n",
              "      <th>Zeus and Roxanne (1997)</th>\n",
              "      <td>2.777778</td>\n",
              "      <td>2.357143</td>\n",
              "    </tr>\n",
              "    <tr>\n",
              "      <th>eXistenZ (1999)</th>\n",
              "      <td>3.098592</td>\n",
              "      <td>3.289086</td>\n",
              "    </tr>\n",
              "  </tbody>\n",
              "</table>\n",
              "<p>3706 rows × 2 columns</p>\n",
              "</div>"
            ],
            "text/plain": [
              "gender                                             F         M\n",
              "title                                                         \n",
              "$1,000,000 Duck (1971)                      3.375000  2.761905\n",
              "'Night Mother (1986)                        3.388889  3.352941\n",
              "'Til There Was You (1997)                   2.675676  2.733333\n",
              "'burbs, The (1989)                          2.793478  2.962085\n",
              "...And Justice for All (1979)               3.828571  3.689024\n",
              "...                                              ...       ...\n",
              "Zed & Two Noughts, A (1985)                 3.500000  3.380952\n",
              "Zero Effect (1998)                          3.864407  3.723140\n",
              "Zero Kelvin (Kjærlighetens kjøtere) (1995)       NaN  3.500000\n",
              "Zeus and Roxanne (1997)                     2.777778  2.357143\n",
              "eXistenZ (1999)                             3.098592  3.289086\n",
              "\n",
              "[3706 rows x 2 columns]"
            ]
          },
          "metadata": {
            "tags": []
          },
          "execution_count": 23
        }
      ]
    },
    {
      "cell_type": "code",
      "metadata": {
        "colab": {
          "base_uri": "https://localhost:8080/",
          "height": 390
        },
        "id": "1P3MFob6rJ3K",
        "outputId": "45beced9-122b-4029-8893-f278958f44c2"
      },
      "source": [
        "# 여성 평점 평균 상위 10개 영화\n",
        "rating_by_gender.sort_values(by='F', ascending=False).head(n=10)"
      ],
      "execution_count": 26,
      "outputs": [
        {
          "output_type": "execute_result",
          "data": {
            "text/html": [
              "<div>\n",
              "<style scoped>\n",
              "    .dataframe tbody tr th:only-of-type {\n",
              "        vertical-align: middle;\n",
              "    }\n",
              "\n",
              "    .dataframe tbody tr th {\n",
              "        vertical-align: top;\n",
              "    }\n",
              "\n",
              "    .dataframe thead th {\n",
              "        text-align: right;\n",
              "    }\n",
              "</style>\n",
              "<table border=\"1\" class=\"dataframe\">\n",
              "  <thead>\n",
              "    <tr style=\"text-align: right;\">\n",
              "      <th>gender</th>\n",
              "      <th>F</th>\n",
              "      <th>M</th>\n",
              "    </tr>\n",
              "    <tr>\n",
              "      <th>title</th>\n",
              "      <th></th>\n",
              "      <th></th>\n",
              "    </tr>\n",
              "  </thead>\n",
              "  <tbody>\n",
              "    <tr>\n",
              "      <th>Clean Slate (Coup de Torchon) (1981)</th>\n",
              "      <td>5.0</td>\n",
              "      <td>3.857143</td>\n",
              "    </tr>\n",
              "    <tr>\n",
              "      <th>Ballad of Narayama, The (Narayama Bushiko) (1958)</th>\n",
              "      <td>5.0</td>\n",
              "      <td>3.428571</td>\n",
              "    </tr>\n",
              "    <tr>\n",
              "      <th>Raw Deal (1948)</th>\n",
              "      <td>5.0</td>\n",
              "      <td>3.307692</td>\n",
              "    </tr>\n",
              "    <tr>\n",
              "      <th>Bittersweet Motel (2000)</th>\n",
              "      <td>5.0</td>\n",
              "      <td>NaN</td>\n",
              "    </tr>\n",
              "    <tr>\n",
              "      <th>Skipped Parts (2000)</th>\n",
              "      <td>5.0</td>\n",
              "      <td>4.000000</td>\n",
              "    </tr>\n",
              "    <tr>\n",
              "      <th>Lamerica (1994)</th>\n",
              "      <td>5.0</td>\n",
              "      <td>4.666667</td>\n",
              "    </tr>\n",
              "    <tr>\n",
              "      <th>Gambler, The (A Játékos) (1997)</th>\n",
              "      <td>5.0</td>\n",
              "      <td>3.166667</td>\n",
              "    </tr>\n",
              "    <tr>\n",
              "      <th>Brother, Can You Spare a Dime? (1975)</th>\n",
              "      <td>5.0</td>\n",
              "      <td>3.642857</td>\n",
              "    </tr>\n",
              "    <tr>\n",
              "      <th>Ayn Rand: A Sense of Life (1997)</th>\n",
              "      <td>5.0</td>\n",
              "      <td>4.000000</td>\n",
              "    </tr>\n",
              "    <tr>\n",
              "      <th>24 7: Twenty Four Seven (1997)</th>\n",
              "      <td>5.0</td>\n",
              "      <td>3.750000</td>\n",
              "    </tr>\n",
              "  </tbody>\n",
              "</table>\n",
              "</div>"
            ],
            "text/plain": [
              "gender                                               F         M\n",
              "title                                                           \n",
              "Clean Slate (Coup de Torchon) (1981)               5.0  3.857143\n",
              "Ballad of Narayama, The (Narayama Bushiko) (1958)  5.0  3.428571\n",
              "Raw Deal (1948)                                    5.0  3.307692\n",
              "Bittersweet Motel (2000)                           5.0       NaN\n",
              "Skipped Parts (2000)                               5.0  4.000000\n",
              "Lamerica (1994)                                    5.0  4.666667\n",
              "Gambler, The (A Játékos) (1997)                    5.0  3.166667\n",
              "Brother, Can You Spare a Dime? (1975)              5.0  3.642857\n",
              "Ayn Rand: A Sense of Life (1997)                   5.0  4.000000\n",
              "24 7: Twenty Four Seven (1997)                     5.0  3.750000"
            ]
          },
          "metadata": {
            "tags": []
          },
          "execution_count": 26
        }
      ]
    },
    {
      "cell_type": "code",
      "metadata": {
        "colab": {
          "base_uri": "https://localhost:8080/",
          "height": 390
        },
        "id": "7L4P-bnXuUot",
        "outputId": "c6165058-4a80-4ca4-907a-ad35dcdf2f60"
      },
      "source": [
        "# 남성 평점 평균 상위 10개 영화\n",
        "rating_by_gender.sort_values(by='M', ascending=False).head(n=10)"
      ],
      "execution_count": 27,
      "outputs": [
        {
          "output_type": "execute_result",
          "data": {
            "text/html": [
              "<div>\n",
              "<style scoped>\n",
              "    .dataframe tbody tr th:only-of-type {\n",
              "        vertical-align: middle;\n",
              "    }\n",
              "\n",
              "    .dataframe tbody tr th {\n",
              "        vertical-align: top;\n",
              "    }\n",
              "\n",
              "    .dataframe thead th {\n",
              "        text-align: right;\n",
              "    }\n",
              "</style>\n",
              "<table border=\"1\" class=\"dataframe\">\n",
              "  <thead>\n",
              "    <tr style=\"text-align: right;\">\n",
              "      <th>gender</th>\n",
              "      <th>F</th>\n",
              "      <th>M</th>\n",
              "    </tr>\n",
              "    <tr>\n",
              "      <th>title</th>\n",
              "      <th></th>\n",
              "      <th></th>\n",
              "    </tr>\n",
              "  </thead>\n",
              "  <tbody>\n",
              "    <tr>\n",
              "      <th>Schlafes Bruder (Brother of Sleep) (1995)</th>\n",
              "      <td>NaN</td>\n",
              "      <td>5.0</td>\n",
              "    </tr>\n",
              "    <tr>\n",
              "      <th>Small Wonders (1996)</th>\n",
              "      <td>3.333333</td>\n",
              "      <td>5.0</td>\n",
              "    </tr>\n",
              "    <tr>\n",
              "      <th>Gate of Heavenly Peace, The (1995)</th>\n",
              "      <td>5.000000</td>\n",
              "      <td>5.0</td>\n",
              "    </tr>\n",
              "    <tr>\n",
              "      <th>Baby, The (1973)</th>\n",
              "      <td>NaN</td>\n",
              "      <td>5.0</td>\n",
              "    </tr>\n",
              "    <tr>\n",
              "      <th>Ulysses (Ulisse) (1954)</th>\n",
              "      <td>NaN</td>\n",
              "      <td>5.0</td>\n",
              "    </tr>\n",
              "    <tr>\n",
              "      <th>Dangerous Game (1993)</th>\n",
              "      <td>4.000000</td>\n",
              "      <td>5.0</td>\n",
              "    </tr>\n",
              "    <tr>\n",
              "      <th>Angela (1995)</th>\n",
              "      <td>3.000000</td>\n",
              "      <td>5.0</td>\n",
              "    </tr>\n",
              "    <tr>\n",
              "      <th>Bells, The (1926)</th>\n",
              "      <td>4.000000</td>\n",
              "      <td>5.0</td>\n",
              "    </tr>\n",
              "    <tr>\n",
              "      <th>Smashing Time (1967)</th>\n",
              "      <td>NaN</td>\n",
              "      <td>5.0</td>\n",
              "    </tr>\n",
              "    <tr>\n",
              "      <th>Follow the Bitch (1998)</th>\n",
              "      <td>NaN</td>\n",
              "      <td>5.0</td>\n",
              "    </tr>\n",
              "  </tbody>\n",
              "</table>\n",
              "</div>"
            ],
            "text/plain": [
              "gender                                            F    M\n",
              "title                                                   \n",
              "Schlafes Bruder (Brother of Sleep) (1995)       NaN  5.0\n",
              "Small Wonders (1996)                       3.333333  5.0\n",
              "Gate of Heavenly Peace, The (1995)         5.000000  5.0\n",
              "Baby, The (1973)                                NaN  5.0\n",
              "Ulysses (Ulisse) (1954)                         NaN  5.0\n",
              "Dangerous Game (1993)                      4.000000  5.0\n",
              "Angela (1995)                              3.000000  5.0\n",
              "Bells, The (1926)                          4.000000  5.0\n",
              "Smashing Time (1967)                            NaN  5.0\n",
              "Follow the Bitch (1998)                         NaN  5.0"
            ]
          },
          "metadata": {
            "tags": []
          },
          "execution_count": 27
        }
      ]
    },
    {
      "cell_type": "code",
      "metadata": {
        "colab": {
          "base_uri": "https://localhost:8080/"
        },
        "id": "dd8zS-EnuiTf",
        "outputId": "f214e5cf-5bf0-4b05-f123-e1175b37f4f2"
      },
      "source": [
        "title_counts = df['title'].value_counts()\n",
        "title_counts"
      ],
      "execution_count": 34,
      "outputs": [
        {
          "output_type": "execute_result",
          "data": {
            "text/plain": [
              "American Beauty (1999)                                   3428\n",
              "Star Wars: Episode IV - A New Hope (1977)                2991\n",
              "Star Wars: Episode V - The Empire Strikes Back (1980)    2990\n",
              "Star Wars: Episode VI - Return of the Jedi (1983)        2883\n",
              "Jurassic Park (1993)                                     2672\n",
              "                                                         ... \n",
              "Never Met Picasso (1996)                                    1\n",
              "Tinseltown (1998)                                           1\n",
              "Night Tide (1961)                                           1\n",
              "Bat Whispers, The (1930)                                    1\n",
              "Schlafes Bruder (Brother of Sleep) (1995)                   1\n",
              "Name: title, Length: 3706, dtype: int64"
            ]
          },
          "metadata": {
            "tags": []
          },
          "execution_count": 34
        }
      ]
    },
    {
      "cell_type": "markdown",
      "metadata": {
        "id": "mXyTt301v09w"
      },
      "source": [
        "남/녀 평점 평균을 계산할 때, 일정 숫자 이상의 평가를 받은 영화들을 대상으로 평균을 계산하는 것이 좋을 것 같다."
      ]
    },
    {
      "cell_type": "code",
      "metadata": {
        "colab": {
          "base_uri": "https://localhost:8080/"
        },
        "id": "_AWFJAQ0vGdh",
        "outputId": "9a557e5f-d601-41e3-f34b-bd98709908e1"
      },
      "source": [
        "title_counts.describe()"
      ],
      "execution_count": 36,
      "outputs": [
        {
          "output_type": "execute_result",
          "data": {
            "text/plain": [
              "count    3706.000000\n",
              "mean      269.889099\n",
              "std       384.047838\n",
              "min         1.000000\n",
              "25%        33.000000\n",
              "50%       123.500000\n",
              "75%       350.000000\n",
              "max      3428.000000\n",
              "Name: title, dtype: float64"
            ]
          },
          "metadata": {
            "tags": []
          },
          "execution_count": 36
        }
      ]
    },
    {
      "cell_type": "code",
      "metadata": {
        "colab": {
          "base_uri": "https://localhost:8080/"
        },
        "id": "crsGD5EHwPSJ",
        "outputId": "c0e22161-fb45-4f41-d402-71d9466dc0dd"
      },
      "source": [
        "# 150회 이상 평가를 받은 영화들만 고려\n",
        "indexer = title_counts[title_counts >= 150].index\n",
        "indexer"
      ],
      "execution_count": 40,
      "outputs": [
        {
          "output_type": "execute_result",
          "data": {
            "text/plain": [
              "Index(['American Beauty (1999)', 'Star Wars: Episode IV - A New Hope (1977)',\n",
              "       'Star Wars: Episode V - The Empire Strikes Back (1980)',\n",
              "       'Star Wars: Episode VI - Return of the Jedi (1983)',\n",
              "       'Jurassic Park (1993)', 'Saving Private Ryan (1998)',\n",
              "       'Terminator 2: Judgment Day (1991)', 'Matrix, The (1999)',\n",
              "       'Back to the Future (1985)', 'Silence of the Lambs, The (1991)',\n",
              "       ...\n",
              "       'Specialist, The (1994)', 'Twelfth Night (1996)',\n",
              "       'Cowboy Way, The (1994)', 'Program, The (1993)',\n",
              "       'Golden Voyage of Sinbad, The (1974)',\n",
              "       'Love and Death on Long Island (1997)', 'In the Army Now (1994)',\n",
              "       'Tales from the Crypt Presents: Bordello of Blood (1996)',\n",
              "       'Asphalt Jungle, The (1950)',\n",
              "       'Police Academy 5: Assignment: Miami Beach (1988)'],\n",
              "      dtype='object', length=1683)"
            ]
          },
          "metadata": {
            "tags": []
          },
          "execution_count": 40
        }
      ]
    },
    {
      "cell_type": "code",
      "metadata": {
        "colab": {
          "base_uri": "https://localhost:8080/",
          "height": 419
        },
        "id": "dds18vWUxc8I",
        "outputId": "847ef927-6232-4256-b94a-7d565cfbb8f8"
      },
      "source": [
        "rating_150 = rating_by_gender.loc[indexer]\n",
        "rating_150"
      ],
      "execution_count": 52,
      "outputs": [
        {
          "output_type": "execute_result",
          "data": {
            "text/html": [
              "<div>\n",
              "<style scoped>\n",
              "    .dataframe tbody tr th:only-of-type {\n",
              "        vertical-align: middle;\n",
              "    }\n",
              "\n",
              "    .dataframe tbody tr th {\n",
              "        vertical-align: top;\n",
              "    }\n",
              "\n",
              "    .dataframe thead th {\n",
              "        text-align: right;\n",
              "    }\n",
              "</style>\n",
              "<table border=\"1\" class=\"dataframe\">\n",
              "  <thead>\n",
              "    <tr style=\"text-align: right;\">\n",
              "      <th>gender</th>\n",
              "      <th>F</th>\n",
              "      <th>M</th>\n",
              "    </tr>\n",
              "  </thead>\n",
              "  <tbody>\n",
              "    <tr>\n",
              "      <th>American Beauty (1999)</th>\n",
              "      <td>4.238901</td>\n",
              "      <td>4.347301</td>\n",
              "    </tr>\n",
              "    <tr>\n",
              "      <th>Star Wars: Episode IV - A New Hope (1977)</th>\n",
              "      <td>4.302937</td>\n",
              "      <td>4.495307</td>\n",
              "    </tr>\n",
              "    <tr>\n",
              "      <th>Star Wars: Episode V - The Empire Strikes Back (1980)</th>\n",
              "      <td>4.106481</td>\n",
              "      <td>4.344577</td>\n",
              "    </tr>\n",
              "    <tr>\n",
              "      <th>Star Wars: Episode VI - Return of the Jedi (1983)</th>\n",
              "      <td>3.865237</td>\n",
              "      <td>4.069058</td>\n",
              "    </tr>\n",
              "    <tr>\n",
              "      <th>Jurassic Park (1993)</th>\n",
              "      <td>3.579407</td>\n",
              "      <td>3.814197</td>\n",
              "    </tr>\n",
              "    <tr>\n",
              "      <th>...</th>\n",
              "      <td>...</td>\n",
              "      <td>...</td>\n",
              "    </tr>\n",
              "    <tr>\n",
              "      <th>Love and Death on Long Island (1997)</th>\n",
              "      <td>3.116279</td>\n",
              "      <td>3.555556</td>\n",
              "    </tr>\n",
              "    <tr>\n",
              "      <th>In the Army Now (1994)</th>\n",
              "      <td>2.384615</td>\n",
              "      <td>2.192000</td>\n",
              "    </tr>\n",
              "    <tr>\n",
              "      <th>Tales from the Crypt Presents: Bordello of Blood (1996)</th>\n",
              "      <td>2.727273</td>\n",
              "      <td>2.565891</td>\n",
              "    </tr>\n",
              "    <tr>\n",
              "      <th>Asphalt Jungle, The (1950)</th>\n",
              "      <td>3.571429</td>\n",
              "      <td>4.008130</td>\n",
              "    </tr>\n",
              "    <tr>\n",
              "      <th>Police Academy 5: Assignment: Miami Beach (1988)</th>\n",
              "      <td>1.935484</td>\n",
              "      <td>1.722689</td>\n",
              "    </tr>\n",
              "  </tbody>\n",
              "</table>\n",
              "<p>1683 rows × 2 columns</p>\n",
              "</div>"
            ],
            "text/plain": [
              "gender                                                     F         M\n",
              "American Beauty (1999)                              4.238901  4.347301\n",
              "Star Wars: Episode IV - A New Hope (1977)           4.302937  4.495307\n",
              "Star Wars: Episode V - The Empire Strikes Back ...  4.106481  4.344577\n",
              "Star Wars: Episode VI - Return of the Jedi (1983)   3.865237  4.069058\n",
              "Jurassic Park (1993)                                3.579407  3.814197\n",
              "...                                                      ...       ...\n",
              "Love and Death on Long Island (1997)                3.116279  3.555556\n",
              "In the Army Now (1994)                              2.384615  2.192000\n",
              "Tales from the Crypt Presents: Bordello of Bloo...  2.727273  2.565891\n",
              "Asphalt Jungle, The (1950)                          3.571429  4.008130\n",
              "Police Academy 5: Assignment: Miami Beach (1988)    1.935484  1.722689\n",
              "\n",
              "[1683 rows x 2 columns]"
            ]
          },
          "metadata": {
            "tags": []
          },
          "execution_count": 52
        }
      ]
    },
    {
      "cell_type": "code",
      "metadata": {
        "colab": {
          "base_uri": "https://localhost:8080/",
          "height": 359
        },
        "id": "TGgHA7XCzKRG",
        "outputId": "69b4f2fe-2ea5-4263-a2f9-515571308bac"
      },
      "source": [
        "rating_150.sort_values(by='F', ascending=False).head(n=10)"
      ],
      "execution_count": 53,
      "outputs": [
        {
          "output_type": "execute_result",
          "data": {
            "text/html": [
              "<div>\n",
              "<style scoped>\n",
              "    .dataframe tbody tr th:only-of-type {\n",
              "        vertical-align: middle;\n",
              "    }\n",
              "\n",
              "    .dataframe tbody tr th {\n",
              "        vertical-align: top;\n",
              "    }\n",
              "\n",
              "    .dataframe thead th {\n",
              "        text-align: right;\n",
              "    }\n",
              "</style>\n",
              "<table border=\"1\" class=\"dataframe\">\n",
              "  <thead>\n",
              "    <tr style=\"text-align: right;\">\n",
              "      <th>gender</th>\n",
              "      <th>F</th>\n",
              "      <th>M</th>\n",
              "    </tr>\n",
              "  </thead>\n",
              "  <tbody>\n",
              "    <tr>\n",
              "      <th>Close Shave, A (1995)</th>\n",
              "      <td>4.644444</td>\n",
              "      <td>4.473795</td>\n",
              "    </tr>\n",
              "    <tr>\n",
              "      <th>Wrong Trousers, The (1993)</th>\n",
              "      <td>4.588235</td>\n",
              "      <td>4.478261</td>\n",
              "    </tr>\n",
              "    <tr>\n",
              "      <th>General, The (1927)</th>\n",
              "      <td>4.575758</td>\n",
              "      <td>4.329480</td>\n",
              "    </tr>\n",
              "    <tr>\n",
              "      <th>Sunset Blvd. (a.k.a. Sunset Boulevard) (1950)</th>\n",
              "      <td>4.572650</td>\n",
              "      <td>4.464589</td>\n",
              "    </tr>\n",
              "    <tr>\n",
              "      <th>Wallace &amp; Gromit: The Best of Aardman Animation (1996)</th>\n",
              "      <td>4.563107</td>\n",
              "      <td>4.385075</td>\n",
              "    </tr>\n",
              "    <tr>\n",
              "      <th>Schindler's List (1993)</th>\n",
              "      <td>4.562602</td>\n",
              "      <td>4.491415</td>\n",
              "    </tr>\n",
              "    <tr>\n",
              "      <th>Grand Illusion (Grande illusion, La) (1937)</th>\n",
              "      <td>4.560976</td>\n",
              "      <td>4.266129</td>\n",
              "    </tr>\n",
              "    <tr>\n",
              "      <th>Shawshank Redemption, The (1994)</th>\n",
              "      <td>4.539075</td>\n",
              "      <td>4.560625</td>\n",
              "    </tr>\n",
              "    <tr>\n",
              "      <th>Grand Day Out, A (1992)</th>\n",
              "      <td>4.537879</td>\n",
              "      <td>4.293255</td>\n",
              "    </tr>\n",
              "    <tr>\n",
              "      <th>To Kill a Mockingbird (1962)</th>\n",
              "      <td>4.536667</td>\n",
              "      <td>4.372611</td>\n",
              "    </tr>\n",
              "  </tbody>\n",
              "</table>\n",
              "</div>"
            ],
            "text/plain": [
              "gender                                                     F         M\n",
              "Close Shave, A (1995)                               4.644444  4.473795\n",
              "Wrong Trousers, The (1993)                          4.588235  4.478261\n",
              "General, The (1927)                                 4.575758  4.329480\n",
              "Sunset Blvd. (a.k.a. Sunset Boulevard) (1950)       4.572650  4.464589\n",
              "Wallace & Gromit: The Best of Aardman Animation...  4.563107  4.385075\n",
              "Schindler's List (1993)                             4.562602  4.491415\n",
              "Grand Illusion (Grande illusion, La) (1937)         4.560976  4.266129\n",
              "Shawshank Redemption, The (1994)                    4.539075  4.560625\n",
              "Grand Day Out, A (1992)                             4.537879  4.293255\n",
              "To Kill a Mockingbird (1962)                        4.536667  4.372611"
            ]
          },
          "metadata": {
            "tags": []
          },
          "execution_count": 53
        }
      ]
    },
    {
      "cell_type": "code",
      "metadata": {
        "colab": {
          "base_uri": "https://localhost:8080/",
          "height": 359
        },
        "id": "eBieehLbz7lf",
        "outputId": "66839321-5ea1-4b4c-c8ee-8442f8f9188e"
      },
      "source": [
        "rating_150.sort_values(by='M', ascending=False).head(n=10)"
      ],
      "execution_count": 54,
      "outputs": [
        {
          "output_type": "execute_result",
          "data": {
            "text/html": [
              "<div>\n",
              "<style scoped>\n",
              "    .dataframe tbody tr th:only-of-type {\n",
              "        vertical-align: middle;\n",
              "    }\n",
              "\n",
              "    .dataframe tbody tr th {\n",
              "        vertical-align: top;\n",
              "    }\n",
              "\n",
              "    .dataframe thead th {\n",
              "        text-align: right;\n",
              "    }\n",
              "</style>\n",
              "<table border=\"1\" class=\"dataframe\">\n",
              "  <thead>\n",
              "    <tr style=\"text-align: right;\">\n",
              "      <th>gender</th>\n",
              "      <th>F</th>\n",
              "      <th>M</th>\n",
              "    </tr>\n",
              "  </thead>\n",
              "  <tbody>\n",
              "    <tr>\n",
              "      <th>Godfather, The (1972)</th>\n",
              "      <td>4.314700</td>\n",
              "      <td>4.583333</td>\n",
              "    </tr>\n",
              "    <tr>\n",
              "      <th>Seven Samurai (The Magnificent Seven) (Shichinin no samurai) (1954)</th>\n",
              "      <td>4.481132</td>\n",
              "      <td>4.576628</td>\n",
              "    </tr>\n",
              "    <tr>\n",
              "      <th>Shawshank Redemption, The (1994)</th>\n",
              "      <td>4.539075</td>\n",
              "      <td>4.560625</td>\n",
              "    </tr>\n",
              "    <tr>\n",
              "      <th>Raiders of the Lost Ark (1981)</th>\n",
              "      <td>4.332168</td>\n",
              "      <td>4.520597</td>\n",
              "    </tr>\n",
              "    <tr>\n",
              "      <th>Usual Suspects, The (1995)</th>\n",
              "      <td>4.513317</td>\n",
              "      <td>4.518248</td>\n",
              "    </tr>\n",
              "    <tr>\n",
              "      <th>Star Wars: Episode IV - A New Hope (1977)</th>\n",
              "      <td>4.302937</td>\n",
              "      <td>4.495307</td>\n",
              "    </tr>\n",
              "    <tr>\n",
              "      <th>Schindler's List (1993)</th>\n",
              "      <td>4.562602</td>\n",
              "      <td>4.491415</td>\n",
              "    </tr>\n",
              "    <tr>\n",
              "      <th>Paths of Glory (1957)</th>\n",
              "      <td>4.392857</td>\n",
              "      <td>4.485149</td>\n",
              "    </tr>\n",
              "    <tr>\n",
              "      <th>Wrong Trousers, The (1993)</th>\n",
              "      <td>4.588235</td>\n",
              "      <td>4.478261</td>\n",
              "    </tr>\n",
              "    <tr>\n",
              "      <th>Close Shave, A (1995)</th>\n",
              "      <td>4.644444</td>\n",
              "      <td>4.473795</td>\n",
              "    </tr>\n",
              "  </tbody>\n",
              "</table>\n",
              "</div>"
            ],
            "text/plain": [
              "gender                                                     F         M\n",
              "Godfather, The (1972)                               4.314700  4.583333\n",
              "Seven Samurai (The Magnificent Seven) (Shichini...  4.481132  4.576628\n",
              "Shawshank Redemption, The (1994)                    4.539075  4.560625\n",
              "Raiders of the Lost Ark (1981)                      4.332168  4.520597\n",
              "Usual Suspects, The (1995)                          4.513317  4.518248\n",
              "Star Wars: Episode IV - A New Hope (1977)           4.302937  4.495307\n",
              "Schindler's List (1993)                             4.562602  4.491415\n",
              "Paths of Glory (1957)                               4.392857  4.485149\n",
              "Wrong Trousers, The (1993)                          4.588235  4.478261\n",
              "Close Shave, A (1995)                               4.644444  4.473795"
            ]
          },
          "metadata": {
            "tags": []
          },
          "execution_count": 54
        }
      ]
    },
    {
      "cell_type": "code",
      "metadata": {
        "colab": {
          "base_uri": "https://localhost:8080/",
          "height": 419
        },
        "id": "C8x1B2c-0W95",
        "outputId": "e3213168-0fcb-4e13-a85b-476cf7e0584d"
      },
      "source": [
        "# rating_150 데이터 프레임에 파생변수 추가\n",
        "# diff = 여성 평점 평균 - 남성 평점 평균\n",
        "rating_150['diff'] = rating_150['F'] - rating_150['M']\n",
        "rating_150"
      ],
      "execution_count": 55,
      "outputs": [
        {
          "output_type": "execute_result",
          "data": {
            "text/html": [
              "<div>\n",
              "<style scoped>\n",
              "    .dataframe tbody tr th:only-of-type {\n",
              "        vertical-align: middle;\n",
              "    }\n",
              "\n",
              "    .dataframe tbody tr th {\n",
              "        vertical-align: top;\n",
              "    }\n",
              "\n",
              "    .dataframe thead th {\n",
              "        text-align: right;\n",
              "    }\n",
              "</style>\n",
              "<table border=\"1\" class=\"dataframe\">\n",
              "  <thead>\n",
              "    <tr style=\"text-align: right;\">\n",
              "      <th>gender</th>\n",
              "      <th>F</th>\n",
              "      <th>M</th>\n",
              "      <th>diff</th>\n",
              "    </tr>\n",
              "  </thead>\n",
              "  <tbody>\n",
              "    <tr>\n",
              "      <th>American Beauty (1999)</th>\n",
              "      <td>4.238901</td>\n",
              "      <td>4.347301</td>\n",
              "      <td>-0.108400</td>\n",
              "    </tr>\n",
              "    <tr>\n",
              "      <th>Star Wars: Episode IV - A New Hope (1977)</th>\n",
              "      <td>4.302937</td>\n",
              "      <td>4.495307</td>\n",
              "      <td>-0.192371</td>\n",
              "    </tr>\n",
              "    <tr>\n",
              "      <th>Star Wars: Episode V - The Empire Strikes Back (1980)</th>\n",
              "      <td>4.106481</td>\n",
              "      <td>4.344577</td>\n",
              "      <td>-0.238096</td>\n",
              "    </tr>\n",
              "    <tr>\n",
              "      <th>Star Wars: Episode VI - Return of the Jedi (1983)</th>\n",
              "      <td>3.865237</td>\n",
              "      <td>4.069058</td>\n",
              "      <td>-0.203821</td>\n",
              "    </tr>\n",
              "    <tr>\n",
              "      <th>Jurassic Park (1993)</th>\n",
              "      <td>3.579407</td>\n",
              "      <td>3.814197</td>\n",
              "      <td>-0.234791</td>\n",
              "    </tr>\n",
              "    <tr>\n",
              "      <th>...</th>\n",
              "      <td>...</td>\n",
              "      <td>...</td>\n",
              "      <td>...</td>\n",
              "    </tr>\n",
              "    <tr>\n",
              "      <th>Love and Death on Long Island (1997)</th>\n",
              "      <td>3.116279</td>\n",
              "      <td>3.555556</td>\n",
              "      <td>-0.439276</td>\n",
              "    </tr>\n",
              "    <tr>\n",
              "      <th>In the Army Now (1994)</th>\n",
              "      <td>2.384615</td>\n",
              "      <td>2.192000</td>\n",
              "      <td>0.192615</td>\n",
              "    </tr>\n",
              "    <tr>\n",
              "      <th>Tales from the Crypt Presents: Bordello of Blood (1996)</th>\n",
              "      <td>2.727273</td>\n",
              "      <td>2.565891</td>\n",
              "      <td>0.161381</td>\n",
              "    </tr>\n",
              "    <tr>\n",
              "      <th>Asphalt Jungle, The (1950)</th>\n",
              "      <td>3.571429</td>\n",
              "      <td>4.008130</td>\n",
              "      <td>-0.436702</td>\n",
              "    </tr>\n",
              "    <tr>\n",
              "      <th>Police Academy 5: Assignment: Miami Beach (1988)</th>\n",
              "      <td>1.935484</td>\n",
              "      <td>1.722689</td>\n",
              "      <td>0.212795</td>\n",
              "    </tr>\n",
              "  </tbody>\n",
              "</table>\n",
              "<p>1683 rows × 3 columns</p>\n",
              "</div>"
            ],
            "text/plain": [
              "gender                                                     F  ...      diff\n",
              "American Beauty (1999)                              4.238901  ... -0.108400\n",
              "Star Wars: Episode IV - A New Hope (1977)           4.302937  ... -0.192371\n",
              "Star Wars: Episode V - The Empire Strikes Back ...  4.106481  ... -0.238096\n",
              "Star Wars: Episode VI - Return of the Jedi (1983)   3.865237  ... -0.203821\n",
              "Jurassic Park (1993)                                3.579407  ... -0.234791\n",
              "...                                                      ...  ...       ...\n",
              "Love and Death on Long Island (1997)                3.116279  ... -0.439276\n",
              "In the Army Now (1994)                              2.384615  ...  0.192615\n",
              "Tales from the Crypt Presents: Bordello of Bloo...  2.727273  ...  0.161381\n",
              "Asphalt Jungle, The (1950)                          3.571429  ... -0.436702\n",
              "Police Academy 5: Assignment: Miami Beach (1988)    1.935484  ...  0.212795\n",
              "\n",
              "[1683 rows x 3 columns]"
            ]
          },
          "metadata": {
            "tags": []
          },
          "execution_count": 55
        }
      ]
    },
    {
      "cell_type": "code",
      "metadata": {
        "colab": {
          "base_uri": "https://localhost:8080/",
          "height": 359
        },
        "id": "tLCc7QPg0v1g",
        "outputId": "7b843923-eaf1-4a53-aeae-16aca827cc8f"
      },
      "source": [
        "# 남녀 선호도의 차이가 큰 영화들\n",
        "rating_150.sort_values(by='diff', ascending=True).head(n=10)"
      ],
      "execution_count": 57,
      "outputs": [
        {
          "output_type": "execute_result",
          "data": {
            "text/html": [
              "<div>\n",
              "<style scoped>\n",
              "    .dataframe tbody tr th:only-of-type {\n",
              "        vertical-align: middle;\n",
              "    }\n",
              "\n",
              "    .dataframe tbody tr th {\n",
              "        vertical-align: top;\n",
              "    }\n",
              "\n",
              "    .dataframe thead th {\n",
              "        text-align: right;\n",
              "    }\n",
              "</style>\n",
              "<table border=\"1\" class=\"dataframe\">\n",
              "  <thead>\n",
              "    <tr style=\"text-align: right;\">\n",
              "      <th>gender</th>\n",
              "      <th>F</th>\n",
              "      <th>M</th>\n",
              "      <th>diff</th>\n",
              "    </tr>\n",
              "  </thead>\n",
              "  <tbody>\n",
              "    <tr>\n",
              "      <th>Lifeforce (1985)</th>\n",
              "      <td>2.250000</td>\n",
              "      <td>2.994152</td>\n",
              "      <td>-0.744152</td>\n",
              "    </tr>\n",
              "    <tr>\n",
              "      <th>Quest for Fire (1981)</th>\n",
              "      <td>2.578947</td>\n",
              "      <td>3.309677</td>\n",
              "      <td>-0.730730</td>\n",
              "    </tr>\n",
              "    <tr>\n",
              "      <th>Good, The Bad and The Ugly, The (1966)</th>\n",
              "      <td>3.494949</td>\n",
              "      <td>4.221300</td>\n",
              "      <td>-0.726351</td>\n",
              "    </tr>\n",
              "    <tr>\n",
              "      <th>No Escape (1994)</th>\n",
              "      <td>2.300000</td>\n",
              "      <td>2.994048</td>\n",
              "      <td>-0.694048</td>\n",
              "    </tr>\n",
              "    <tr>\n",
              "      <th>Kentucky Fried Movie, The (1977)</th>\n",
              "      <td>2.878788</td>\n",
              "      <td>3.555147</td>\n",
              "      <td>-0.676359</td>\n",
              "    </tr>\n",
              "    <tr>\n",
              "      <th>Tora! Tora! Tora! (1970)</th>\n",
              "      <td>3.090909</td>\n",
              "      <td>3.737705</td>\n",
              "      <td>-0.646796</td>\n",
              "    </tr>\n",
              "    <tr>\n",
              "      <th>Up in Smoke (1978)</th>\n",
              "      <td>2.944444</td>\n",
              "      <td>3.585227</td>\n",
              "      <td>-0.640783</td>\n",
              "    </tr>\n",
              "    <tr>\n",
              "      <th>Dumb &amp; Dumber (1994)</th>\n",
              "      <td>2.697987</td>\n",
              "      <td>3.336595</td>\n",
              "      <td>-0.638608</td>\n",
              "    </tr>\n",
              "    <tr>\n",
              "      <th>Friday the 13th: The Final Chapter (1984)</th>\n",
              "      <td>1.636364</td>\n",
              "      <td>2.258503</td>\n",
              "      <td>-0.622140</td>\n",
              "    </tr>\n",
              "    <tr>\n",
              "      <th>Longest Day, The (1962)</th>\n",
              "      <td>3.411765</td>\n",
              "      <td>4.031447</td>\n",
              "      <td>-0.619682</td>\n",
              "    </tr>\n",
              "  </tbody>\n",
              "</table>\n",
              "</div>"
            ],
            "text/plain": [
              "gender                                            F         M      diff\n",
              "Lifeforce (1985)                           2.250000  2.994152 -0.744152\n",
              "Quest for Fire (1981)                      2.578947  3.309677 -0.730730\n",
              "Good, The Bad and The Ugly, The (1966)     3.494949  4.221300 -0.726351\n",
              "No Escape (1994)                           2.300000  2.994048 -0.694048\n",
              "Kentucky Fried Movie, The (1977)           2.878788  3.555147 -0.676359\n",
              "Tora! Tora! Tora! (1970)                   3.090909  3.737705 -0.646796\n",
              "Up in Smoke (1978)                         2.944444  3.585227 -0.640783\n",
              "Dumb & Dumber (1994)                       2.697987  3.336595 -0.638608\n",
              "Friday the 13th: The Final Chapter (1984)  1.636364  2.258503 -0.622140\n",
              "Longest Day, The (1962)                    3.411765  4.031447 -0.619682"
            ]
          },
          "metadata": {
            "tags": []
          },
          "execution_count": 57
        }
      ]
    },
    {
      "cell_type": "markdown",
      "metadata": {
        "id": "vCKci4F92Nt3"
      },
      "source": [
        "150회 이상 평가를 받은 영화들 중에서, 여성들의 평점이 높은 영화 50개의 장르들"
      ]
    },
    {
      "cell_type": "code",
      "metadata": {
        "colab": {
          "base_uri": "https://localhost:8080/"
        },
        "id": "VQFljG3c1Uat",
        "outputId": "b6d2ab8d-ecfd-462e-e130-4669a6e77510"
      },
      "source": [
        "female_top50 = rating_150.sort_values(by='F', ascending=False).head(n=50).index\n",
        "female_top50"
      ],
      "execution_count": 62,
      "outputs": [
        {
          "output_type": "execute_result",
          "data": {
            "text/plain": [
              "Index(['Close Shave, A (1995)', 'Wrong Trousers, The (1993)',\n",
              "       'General, The (1927)', 'Sunset Blvd. (a.k.a. Sunset Boulevard) (1950)',\n",
              "       'Wallace & Gromit: The Best of Aardman Animation (1996)',\n",
              "       'Schindler's List (1993)',\n",
              "       'Grand Illusion (Grande illusion, La) (1937)',\n",
              "       'Shawshank Redemption, The (1994)', 'Grand Day Out, A (1992)',\n",
              "       'To Kill a Mockingbird (1962)', 'Creature Comforts (1990)',\n",
              "       'Usual Suspects, The (1995)', 'It Happened One Night (1934)',\n",
              "       '400 Blows, The (Les Quatre cents coups) (1959)', 'Rear Window (1954)',\n",
              "       'Seven Samurai (The Magnificent Seven) (Shichinin no samurai) (1954)',\n",
              "       'Sixth Sense, The (1999)', 'Third Man, The (1949)',\n",
              "       'Some Like It Hot (1959)', 'City Lights (1931)', 'Notorious (1946)',\n",
              "       'Philadelphia Story, The (1940)', 'Yojimbo (1961)',\n",
              "       'Life Is Beautiful (La Vita è bella) (1997)',\n",
              "       'Strangers on a Train (1951)',\n",
              "       'Bicycle Thief, The (Ladri di biciclette) (1948)',\n",
              "       'Mr. Smith Goes to Washington (1939)', 'Thin Blue Line, The (1988)',\n",
              "       'Paths of Glory (1957)', 'Killing Fields, The (1984)',\n",
              "       'Dr. Strangelove or: How I Learned to Stop Worrying and Love the Bomb (1963)',\n",
              "       'Ran (1985)', 'North by Northwest (1959)', 'All About Eve (1950)',\n",
              "       'Matewan (1987)', 'Manchurian Candidate, The (1962)',\n",
              "       'Wizard of Oz, The (1939)', 'Roman Holiday (1953)',\n",
              "       'Shadow of a Doubt (1943)',\n",
              "       'Central Station (Central do Brasil) (1998)', 'Amadeus (1984)',\n",
              "       'Gaslight (1944)', 'Maltese Falcon, The (1941)',\n",
              "       'Princess Bride, The (1987)', 'My Fair Lady (1964)',\n",
              "       'All About My Mother (Todo Sobre Mi Madre) (1999)',\n",
              "       'Singin' in the Rain (1952)', 'Stop Making Sense (1984)',\n",
              "       'Raiders of the Lost Ark (1981)', 'Citizen Kane (1941)'],\n",
              "      dtype='object')"
            ]
          },
          "metadata": {
            "tags": []
          },
          "execution_count": 62
        }
      ]
    },
    {
      "cell_type": "code",
      "metadata": {
        "colab": {
          "base_uri": "https://localhost:8080/",
          "height": 204
        },
        "id": "59lGX7643REr",
        "outputId": "5be0da53-35cc-4b4f-9168-b5d91489807f"
      },
      "source": [
        "female_movies = movies.set_index('title').loc[female_top50]\n",
        "female_movies.head()"
      ],
      "execution_count": 67,
      "outputs": [
        {
          "output_type": "execute_result",
          "data": {
            "text/html": [
              "<div>\n",
              "<style scoped>\n",
              "    .dataframe tbody tr th:only-of-type {\n",
              "        vertical-align: middle;\n",
              "    }\n",
              "\n",
              "    .dataframe tbody tr th {\n",
              "        vertical-align: top;\n",
              "    }\n",
              "\n",
              "    .dataframe thead th {\n",
              "        text-align: right;\n",
              "    }\n",
              "</style>\n",
              "<table border=\"1\" class=\"dataframe\">\n",
              "  <thead>\n",
              "    <tr style=\"text-align: right;\">\n",
              "      <th></th>\n",
              "      <th>movie_id</th>\n",
              "      <th>genres</th>\n",
              "    </tr>\n",
              "  </thead>\n",
              "  <tbody>\n",
              "    <tr>\n",
              "      <th>Close Shave, A (1995)</th>\n",
              "      <td>745</td>\n",
              "      <td>Animation|Comedy|Thriller</td>\n",
              "    </tr>\n",
              "    <tr>\n",
              "      <th>Wrong Trousers, The (1993)</th>\n",
              "      <td>1148</td>\n",
              "      <td>Animation|Comedy</td>\n",
              "    </tr>\n",
              "    <tr>\n",
              "      <th>General, The (1927)</th>\n",
              "      <td>3022</td>\n",
              "      <td>Comedy</td>\n",
              "    </tr>\n",
              "    <tr>\n",
              "      <th>Sunset Blvd. (a.k.a. Sunset Boulevard) (1950)</th>\n",
              "      <td>922</td>\n",
              "      <td>Film-Noir</td>\n",
              "    </tr>\n",
              "    <tr>\n",
              "      <th>Wallace &amp; Gromit: The Best of Aardman Animation (1996)</th>\n",
              "      <td>720</td>\n",
              "      <td>Animation</td>\n",
              "    </tr>\n",
              "  </tbody>\n",
              "</table>\n",
              "</div>"
            ],
            "text/plain": [
              "                                                    movie_id                     genres\n",
              "Close Shave, A (1995)                                    745  Animation|Comedy|Thriller\n",
              "Wrong Trousers, The (1993)                              1148           Animation|Comedy\n",
              "General, The (1927)                                     3022                     Comedy\n",
              "Sunset Blvd. (a.k.a. Sunset Boulevard) (1950)            922                  Film-Noir\n",
              "Wallace & Gromit: The Best of Aardman Animation...       720                  Animation"
            ]
          },
          "metadata": {
            "tags": []
          },
          "execution_count": 67
        }
      ]
    },
    {
      "cell_type": "code",
      "metadata": {
        "colab": {
          "base_uri": "https://localhost:8080/"
        },
        "id": "RX98JLQx4OUw",
        "outputId": "14207304-83f9-46e4-dc10-2ce57284ee64"
      },
      "source": [
        "female_genres = []  # 장르들을 추가할 리스트\n",
        "for g in female_movies['genres']:\n",
        "    # print(g)\n",
        "    # print(g.split('|'))\n",
        "    # 'Animation|Comedy|Thriller' -> ['Animation', 'Comedy', 'Thriller']\n",
        "    female_genres.extend(g.split('|'))\n",
        "\n",
        "female_genres"
      ],
      "execution_count": 70,
      "outputs": [
        {
          "output_type": "execute_result",
          "data": {
            "text/plain": [
              "['Animation',\n",
              " 'Comedy',\n",
              " 'Thriller',\n",
              " 'Animation',\n",
              " 'Comedy',\n",
              " 'Comedy',\n",
              " 'Film-Noir',\n",
              " 'Animation',\n",
              " 'Drama',\n",
              " 'War',\n",
              " 'Drama',\n",
              " 'War',\n",
              " 'Drama',\n",
              " 'Animation',\n",
              " 'Comedy',\n",
              " 'Drama',\n",
              " 'Animation',\n",
              " 'Comedy',\n",
              " 'Crime',\n",
              " 'Thriller',\n",
              " 'Comedy',\n",
              " 'Drama',\n",
              " 'Mystery',\n",
              " 'Thriller',\n",
              " 'Action',\n",
              " 'Drama',\n",
              " 'Thriller',\n",
              " 'Mystery',\n",
              " 'Thriller',\n",
              " 'Comedy',\n",
              " 'Crime',\n",
              " 'Comedy',\n",
              " 'Drama',\n",
              " 'Romance',\n",
              " 'Film-Noir',\n",
              " 'Romance',\n",
              " 'Thriller',\n",
              " 'Comedy',\n",
              " 'Romance',\n",
              " 'Comedy',\n",
              " 'Drama',\n",
              " 'Western',\n",
              " 'Comedy',\n",
              " 'Drama',\n",
              " 'Film-Noir',\n",
              " 'Thriller',\n",
              " 'Drama',\n",
              " 'Drama',\n",
              " 'Documentary',\n",
              " 'Drama',\n",
              " 'War',\n",
              " 'Drama',\n",
              " 'War',\n",
              " 'Sci-Fi',\n",
              " 'War',\n",
              " 'Drama',\n",
              " 'War',\n",
              " 'Drama',\n",
              " 'Thriller',\n",
              " 'Drama',\n",
              " 'Drama',\n",
              " 'Film-Noir',\n",
              " 'Thriller',\n",
              " 'Adventure',\n",
              " \"Children's\",\n",
              " 'Drama',\n",
              " 'Musical',\n",
              " 'Comedy',\n",
              " 'Romance',\n",
              " 'Film-Noir',\n",
              " 'Thriller',\n",
              " 'Drama',\n",
              " 'Drama',\n",
              " 'Mystery',\n",
              " 'Thriller',\n",
              " 'Film-Noir',\n",
              " 'Mystery',\n",
              " 'Action',\n",
              " 'Adventure',\n",
              " 'Comedy',\n",
              " 'Romance',\n",
              " 'Musical',\n",
              " 'Romance',\n",
              " 'Comedy',\n",
              " 'Drama',\n",
              " 'Musical',\n",
              " 'Romance',\n",
              " 'Documentary',\n",
              " 'Action',\n",
              " 'Adventure',\n",
              " 'Drama']"
            ]
          },
          "metadata": {
            "tags": []
          },
          "execution_count": 70
        }
      ]
    },
    {
      "cell_type": "code",
      "metadata": {
        "colab": {
          "base_uri": "https://localhost:8080/"
        },
        "id": "7VOVpdvL5qCY",
        "outputId": "77c3a41d-b99e-418b-85a6-5a6bd3b4bcef"
      },
      "source": [
        "s = pd.Series(female_genres)\n",
        "s.value_counts()"
      ],
      "execution_count": 71,
      "outputs": [
        {
          "output_type": "execute_result",
          "data": {
            "text/plain": [
              "Drama          22\n",
              "Comedy         14\n",
              "Thriller       11\n",
              "Romance         7\n",
              "Film-Noir       6\n",
              "War             6\n",
              "Animation       5\n",
              "Mystery         4\n",
              "Action          3\n",
              "Adventure       3\n",
              "Musical         3\n",
              "Documentary     2\n",
              "Crime           2\n",
              "Sci-Fi          1\n",
              "Western         1\n",
              "Children's      1\n",
              "dtype: int64"
            ]
          },
          "metadata": {
            "tags": []
          },
          "execution_count": 71
        }
      ]
    },
    {
      "cell_type": "markdown",
      "metadata": {
        "id": "yiHVP69X2OEo"
      },
      "source": [
        "150회 이상 평가를 받은 영화들 중에서, 남성들의 평점이 높은 영화 50개의 장르들"
      ]
    },
    {
      "cell_type": "code",
      "metadata": {
        "id": "K7JAUvFW2jbu"
      },
      "source": [
        ""
      ],
      "execution_count": null,
      "outputs": []
    }
  ]
}